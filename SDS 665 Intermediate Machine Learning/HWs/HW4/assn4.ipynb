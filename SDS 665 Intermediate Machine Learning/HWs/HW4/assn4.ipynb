{
  "cells": [
    {
      "cell_type": "markdown",
      "metadata": {
        "id": "skEYZi0VpZVV"
      },
      "source": [
        "# Intermediate Machine Learning: Assignment 4\n",
        "\n",
        "**Deadline**\n",
        "\n",
        "Assignment 4 is due Wednesday, April 27 by 11:59pm. Late work will not be accepted as per the course policies (see the Syllabus and Course policies on Canvas).\n",
        "\n",
        "Directly sharing answers is not okay, but discussing problems with the course staff or with other students is encouraged.\n",
        "\n",
        "You should start early so that you have time to get help if you're stuck. The drop-in office hours schedule can be found on Canvas. You can also post questions or start discussions on Ed Discussion. The assignment may look long at first glance, but the problems are broken up into steps that should help you to make steady progress.\n",
        "\n",
        "**Submission**\n",
        "\n",
        "Submit your assignment as a pdf file on Gradescope, and as a notebook (.ipynb) on Canvas. You can access Gradescope through Canvas on the left-side of the class home page. The problems in each homework assignment are numbered. Note: When submitting on Gradescope, please select the correct pages of your pdf that correspond to each problem. This will allow graders to more easily find your complete solution to each problem.\n",
        "\n",
        "To produce the .pdf, please do the following in order to preserve the cell structure of the notebook:\n",
        "\n",
        "Go to \"File\" at the top-left of your Jupyter Notebook\n",
        "Under \"Download as\", select \"HTML (.html)\"\n",
        "After the .html has downloaded, open it and then select \"File\" and \"Print\" (note you will not actually be printing)\n",
        "From the print window, select the option to save as a .pdf\n",
        "\n",
        "**Topics**\n",
        "\n",
        " * Graph kernels\n",
        " * Reinforcement learning\n",
        " * Recurrent neural networks\n",
        "\n",
        "This assignment will also help to solidify your Python skills."
      ]
    },
    {
      "cell_type": "markdown",
      "metadata": {
        "id": "d6CLfH3SpZVX"
      },
      "source": [
        "<!-- $\\renewcommand{\\reals}{{\\mathbb R}}\n",
        "\\newcommand{\\indp}{\\perp\\kern-4pt\\perp}\n",
        "\\newcommand{\\given}{\\,|\\,}\n",
        "$ -->\n",
        "\n",
        "## Problem 1: Graph kernels (10 points)\n",
        "\n",
        "The graph Laplacian for a weighted graph on $n$ nodes is defined as\n",
        "\n",
        "$$ L = D - W$$\n",
        "\n",
        "where $W$ is an $n\\times n$ symmetric matrix of positive edge weights,\n",
        "with $W_{ij} = 0$ if $(i,j)$ is not an edge in the graph,\n",
        "and $D$ is the diagonal matrix with $D_{ii} = \\sum_{j=1}^n W_{ij}$.\n",
        "This generalizes the definition of the Laplacian\n",
        "used in class, where all of the edge weights are one.\n",
        "\n",
        "\n",
        "1. Show that $L$ is a Mercer kernel, by showing that $L$ is\n",
        "  symmetric and positive-semidefinite.\n",
        "<br>\n",
        "\n",
        "Answer:\n",
        "We first show that $L$ is a symmetric matrix. As we have\n",
        "\\begin{align}\n",
        "  L &= D - W \\\\\n",
        "    &= D^T - W^T \\\\\n",
        "    &= L^T.\n",
        "\\end{align}\n",
        "For any vector $x=[x_1,...,x_n]^T$, we have\n",
        "\\begin{align}\n",
        "  x^TLx &= \\sum_{i=1}^n\\left(x_i^2\\sum_{j=1}^nW_{ij}-x_i\\sum_{j=1}^nx_jW_{ji} \\right) \\\\\n",
        "        &= \\sum_{i\\neq j}(x_i-x_j)^2W_{ij} \\\\\n",
        "        &\\geq 0 \n",
        "\\end{align}\n",
        "given $W_{ij}\\geq 0$. Thus $L$ is a symmetric and positive-semidefinite matrix, which shows that $L$ is a Mercer kernel.\n",
        "\n",
        "2. In graph neural networks we define polynomial filters of the form\n",
        "\n",
        "  $$ P = a_0 I + a_1 L + a_2 L^2 + \\cdots a_d L^d$$\n",
        "  \n",
        "  where $L$ is the Laplacian and $a_0,\\ldots, a_d$ are parameters,\n",
        "  corresponding to the filter parameters in standard convolutional\n",
        "  neural networks.\n",
        "\n",
        "  If each $a_i \\geq 0$ is non-negative, show that $P$ is also\n",
        "  a Mercer kernel. \n",
        "<br>\n",
        "\n",
        "Answer: \n",
        "For each term in the polynomial, we have\n",
        "\\begin{align}\n",
        "  x^Ta_iL^ix = \n",
        "  \\begin{cases}\n",
        "    a_i(xL^k)^TLxL^k\\geq 0 & i=2k+1 \\\\\n",
        "    a_i\\|xL^k\\|^2\\geq 0 & i=2k\n",
        "  \\end{cases}\n",
        "\\end{align}\n",
        "for any $x\\in\\mathbb{R}^n$. As each term in $P$ is symmetric as shown in (1), $P$ is a symmetric and positive semi-definite matrix, which is also a Mercer kernel.\n",
        "\n",
        "3. Is positivity of the coefficients $a_i$ a necessary condition? Explain.\n",
        "\n",
        "Answer: \n",
        "The positivity of the coefficients is not a necessary condition as we only need the sum of the quadratic term to be greater than zero for any $x$. The positivity of the coefficients $a_i$ is a sufficient condition.\n"
      ]
    },
    {
      "cell_type": "markdown",
      "metadata": {
        "id": "3_S3-h_-pZVY"
      },
      "source": [
        "\n",
        "##  Problem 2:  Positive reinforcement  (10 points)\n",
        "<!-- $\\def\\J{{\\mathcal J}}$\n",
        "$\\def\\E{{\\mathbb E}}$ -->\n",
        "\n",
        "As discussed in class, reinforcement learning\n",
        "using policy gradient methods is based on maximizing the\n",
        "expected total reward\n",
        "\n",
        "$$ \\mathcal{J}(\\theta) = \\mathbb{E}_\\theta [R(\\tau)],$$\n",
        "\n",
        "where the expectation is over the probability distribution over sequences $\\tau$ through a choice of actions using the policy. This can be rewritten as\n",
        "\n",
        "\\begin{align*}\n",
        "  \\nabla_\\theta \\mathcal{J}(\\theta) & = \\mathbb{E}_\\theta\\left[ R(\\tau) \\nabla_\\theta \\log p(\\tau\\,|\\, \\theta) \\right].\n",
        "\\end{align*}\n",
        "\n",
        "Approximating this gradient involves computing $\\nabla_\\theta \\log \\pi_\\theta (a\\,|\\, s)$ where $\\pi_\\theta$ is the policy.\n",
        "\n",
        "Suppose that the action space is continuous\n",
        "and $\\pi_\\theta(a\\,|\\, s)$ is a normal density with mean\n",
        "$\\mu_\\theta(s)$ and variance $\\sigma^2_\\theta(s)$, two outputs of\n",
        "a neural network with input $s$ and parameters $\\theta$.\n",
        "\n",
        "1. Suppose the outputs of the neural network are given by\n",
        "\n",
        "\\begin{align*}\n",
        "  \\mu_\\theta(s) & = \\beta_1^T h(s) \\\\\n",
        "  \\sigma^2_\\theta(s) &= \\text{sigmoid}(\\beta_2^T h(s))\n",
        "\\end{align*}\n",
        "\n",
        "where $h(s)$ is the vector of neurons in the last layer, immediately\n",
        "before the outputs. Derive explicit expressions for\n",
        "$\\nabla_{\\beta_1} \\log \\pi_\\theta(a\\,|\\, s)$ and\n",
        "$\\nabla_{\\beta_2} \\log \\pi_\\theta(a\\,|\\, s)$.\n",
        "\n",
        "Answer:\n",
        "To compute the gradients, we first have\n",
        "\\begin{align}\n",
        "  \\log\\pi_\\theta(a|s) &= \\log\\frac{1}{\\sqrt{2\\pi}\\sigma(s)}e^{-\\frac{(a-\\mu(s))^2}{2\\sigma^2(s)}} \\\\\n",
        "                      &= -\\log\\sqrt{2\\pi}\\sigma(s) - \\frac{(a-\\mu(s))^2}{2\\sigma^2(s)}\n",
        "\\end{align}\n",
        "\n",
        "and then we have\n",
        "\\begin{align}\n",
        "  \\nabla_{\\beta_1}\\log\\pi_\\theta(a|s) &= -\\frac{\\mu(s)-a}{\\sigma^2(s)}\\nabla_{\\beta_1}\\mu(s) \\\\\n",
        "                                      &= -\\frac{\\mu(s)-a}{\\sigma^2(s)}h(s) \\\\\n",
        "                                      &= -\\frac{\\beta_1^T h(s)-a}{\\text{sigmoid}(\\beta_2^T h(s))}h(s)\n",
        "\\end{align}\n",
        "\\begin{align}\n",
        "  \\nabla_{\\beta_2}\\log\\pi_\\theta(a|s) &= \\left(-\\frac{1}{\\sigma(s)} + \\frac{(a-\\mu(s))^2}{\\sigma(s)^3} \\right)\\nabla_{\\beta_2}\\sigma(s) \\\\\n",
        "                                      &= \\left(-\\frac{1}{\\sigma(s)} + \\frac{(a-\\mu(s))^2}{\\sigma(s)^3} \\right)\\sigma^2(s)h(s) \\\\\n",
        "                                      &= \\left(-\\text{sigmoid}(\\beta_2^T h(s)) + \\frac{(a-\\beta_1^T h(s))^2}{\\text{sigmoid}(\\beta_2^T h(s))} \\right)h(s)\n",
        "\\end{align}\n",
        "<br>\n",
        "\n",
        "2. Explain how these gradients and other gradient\n",
        "terms in $\\nabla_\\theta \\log \\pi_\\theta(a\\,|\\, s)$ are used\n",
        "to estimate the policy.\n",
        "\n",
        "Answer:\n",
        "We parameterize the policy as $\\pi_\\theta(a|s)$ and use the gradient ascent on the loss function to estimate the policy. As we can use the total expected reward as the loss, we have\n",
        "\\begin{align}\n",
        "  \\mathcal{L}(\\theta) &= \\mathbb{E}_\\theta(R(\\tau)) \\\\\n",
        "                      &= \\int p(\\tau|\\theta)R(\\tau)d\\tau.\n",
        "\\end{align}\n",
        "From the lecture slides, we can approximate the gradient by\n",
        "\\begin{align}\n",
        "  \\nabla_\\theta\\mathcal{L}(\\theta) &\\approx \\frac{1}{N}\\sum_{i=1}^NR(\\tau^{(i)})\\nabla_\\theta\\log p(\\tau^{(i)}|\\theta) \\\\\n",
        "                                   &= \\frac{1}{N}\\sum_{i=1}^NR(\\tau^{(i)})\\sum_{t=0}^T\\nabla_\\theta\\log\\pi_\\theta(a_t^{(i)}|s_t^{(i)}).\n",
        "\\end{align}\n",
        "The parameters of policy gradient are then updated iteratively by \n",
        "\\begin{align}\n",
        "  \\theta \\leftarrow \\theta + \\eta\\hat{\\nabla_\\theta\\mathcal{L}(\\theta)}.\n",
        "\\end{align}"
      ]
    },
    {
      "cell_type": "markdown",
      "metadata": {
        "id": "C_P2Vw1WpZVY"
      },
      "source": [
        "## Problem 3: Deep Q-Learning for Flappy Bird (25 points)\n",
        "\n",
        "Deep Q-learning was proposed (and patented) by DeepMind and made \n",
        "a big splash when the same deep neural network architecture was shown to be able to surpass\n",
        "human performance on many different Atari games, playing directly from the pixels.\n",
        "In this problem, we will walk you through the implementation of deep Q-learning \n",
        "to learn to play the Flappy Bird game.\n",
        "\n",
        "<img src=\"https://raw.githubusercontent.com/YData123/sds365-sp22/main/assignments/assn4/images/flappy_bird_demp.gif\" width=\"144\" height=\"256\"/>\n",
        "\n",
        "The implementation is based these references:\n",
        "- [DeepLearningFlappyBird](https://github.com/yenchenlin/DeepLearningFlappyBird)\n",
        "- [Deep Q-Learning for Atari Breakout](https://keras.io/examples/rl/deep_q_network_breakout/)\n",
        "\n",
        "We use the `pygame` package to visualize the interaction between the algorithm \n",
        "and the game environment. \n",
        "However, _pygame_ is not well supported by Google Colab; \n",
        "we recommend you to run the code for this problem locally.\n",
        "A window will be popped up that displays\n",
        "the game as it progress in real-time (as for the Cartpole demo from class).\n",
        "\n",
        "This problem is structured as follows:\n",
        "\n",
        "* Load necessary packages\n",
        "* Test the visualization of the game, to make sure everything's working\n",
        "* Process the images to reduce the dimension\n",
        "* Setup the game history buffer \n",
        "* Implement the core Q-learning function\n",
        "* Run the learning algorithm\n",
        "* Interpret the results\n",
        "\n"
      ]
    },
    {
      "cell_type": "markdown",
      "metadata": {
        "id": "JCI6IeIVpZVZ"
      },
      "source": [
        "### Introduction"
      ]
    },
    {
      "cell_type": "markdown",
      "metadata": {
        "id": "Bm04pJZYpZVZ"
      },
      "source": [
        "Please make sure that the following files are in the same place:\n",
        "- assn4.ipynb\n",
        "- wrapped_flappy_bird.py\n",
        "- flappy_bird.utils.py\n",
        "- assets"
      ]
    },
    {
      "cell_type": "markdown",
      "metadata": {
        "id": "DmnAGJ1jpZVZ"
      },
      "source": [
        "If you do use Google Colab, set `using_colab` to be *True* in the following cell.\n",
        "If you access extra files through Google Drive, then uncomment the `'%cd ...'` \n",
        "line and change `PATH` to where you store the files on your Google Drive (need not to do this if you are using the temporary files for Colab)."
      ]
    },
    {
      "cell_type": "code",
      "execution_count": 4,
      "metadata": {
        "id": "fD9lkzwmpZVZ"
      },
      "outputs": [],
      "source": [
        "import os\n",
        "# from google.colab.patches import cv2_imshow\n",
        "# from google.colab import output\n",
        "\n",
        "from IPython import display\n",
        "\n",
        "using_colab = True\n",
        "\n",
        "if using_colab:\n",
        "    os.environ[\"SDL_VIDEODRIVER\"] = \"dummy\"\n",
        "    # %cd /content/drive/MyDrive/PATH"
      ]
    },
    {
      "cell_type": "markdown",
      "metadata": {
        "id": "5wIDYK6ZpZVa"
      },
      "source": [
        "The Flappy Bird game requires a few Python packages. Please install these _as soon as possible_, and notify us of any issues you experience so that we can help. "
      ]
    },
    {
      "cell_type": "code",
      "execution_count": 5,
      "metadata": {
        "id": "Sd6cDbOOpZVa",
        "outputId": "0b393c5d-a71e-4c46-8efb-72a77f0fe398"
      },
      "outputs": [
        {
          "name": "stdout",
          "output_type": "stream",
          "text": [
            "pygame 2.1.2 (SDL 2.0.16, Python 3.6.13)\n",
            "Hello from the pygame community. https://www.pygame.org/contribute.html\n"
          ]
        }
      ],
      "source": [
        "# %pip install pygame\n",
        "# %pip install opencv-python\n",
        "import numpy as np\n",
        "import cv2\n",
        "import wrapped_flappy_bird as flappy_bird\n",
        "from collections import deque\n",
        "import random\n",
        "import tensorflow as tf\n",
        "from tensorflow import keras\n",
        "from tensorflow.keras import layers, initializers"
      ]
    },
    {
      "cell_type": "markdown",
      "metadata": {
        "id": "UfK-OPrIpZVb"
      },
      "source": [
        "### The Flappy Bird environment \n",
        "\n",
        "Interaction with the game environment is carried out through calls of the form\n",
        "\n",
        "`(image, reward, terminal) = game.frame_step(action)`\n",
        "\n",
        "where the meaning of these variables is as follows:\n",
        "\n",
        "- `action`: $\\binom{1}{0}$ for doing nothing, $\\binom{0}{1}$ for \"flapping the bird's wings\"\n",
        "- `image`: the image for the next step of the game, of size $(288, 512, 3)$ with three RGB channels\n",
        "- `reward`: the reward received for taking the action; -1 if an obstacle is hit, 0.1 otherwise. \n",
        "- `terminal`: `True` if an obstacle is hit, otherwise `False`"
      ]
    },
    {
      "cell_type": "markdown",
      "metadata": {
        "id": "jiKLJFh9pZVb"
      },
      "source": [
        "Now let's take a look at the game interface.\n",
        "First, initiate the game:"
      ]
    },
    {
      "cell_type": "code",
      "execution_count": 6,
      "metadata": {
        "id": "fpvkvwDTpZVb",
        "outputId": "b550d342-e348-457e-830a-c208e40c63b2"
      },
      "outputs": [
        {
          "name": "stdout",
          "output_type": "stream",
          "text": [
            "shape of image: (288, 512, 3)\n",
            "reward:  0.1\n",
            "terminal:  False\n"
          ]
        }
      ],
      "source": [
        "num_actions = 2\n",
        "\n",
        "# initiate a game\n",
        "game = flappy_bird.GameState()\n",
        "\n",
        "# get the first state by doing nothing\n",
        "do_nothing = np.zeros(num_actions)\n",
        "do_nothing[0] = 1\n",
        "image, reward, terminal = game.frame_step(do_nothing)\n",
        "\n",
        "print('shape of image:', image.shape)\n",
        "print('reward: ', reward)\n",
        "print('terminal: ', terminal)"
      ]
    },
    {
      "cell_type": "markdown",
      "metadata": {
        "id": "frqX679MpZVb"
      },
      "source": [
        "After (locally) running the above cells, a window should pop up, and you can watch the game being played in that window. \n",
        "\n",
        "Let's take some random actions and see what happens:"
      ]
    },
    {
      "cell_type": "code",
      "execution_count": 7,
      "metadata": {
        "id": "Oeq5hMNHpZVb",
        "outputId": "0706094a-79a2-4b87-a980-102bf0d5c3ba"
      },
      "outputs": [
        {
          "data": {
            "image/png": "[encoded data removed]",
            "text/plain": [
              "<Figure size 432x288 with 1 Axes>"
            ]
          },
          "metadata": {},
          "output_type": "display_data"
        },
        {
          "data": {
            "image/png": "[encoded data removed]",
            "text/plain": [
              "<Figure size 432x288 with 1 Axes>"
            ]
          },
          "metadata": {
            "needs_background": "light"
          },
          "output_type": "display_data"
        }
      ],
      "source": [
        "import matplotlib.pyplot as plt\n",
        "\n",
        "for i in range(587):\n",
        "    \n",
        "    # choose a random action \n",
        "    action = np.random.choice(num_actions)\n",
        "    \n",
        "    # create the corresponding one-hot vector\n",
        "    action_vec = np.zeros(num_actions)\n",
        "    action_vec[action] = 1\n",
        "\n",
        "    # take the action and observe the reward and the next state\n",
        "    image, reward, terminal = game.frame_step(action_vec)\n",
        "\n",
        "    # visualization on Colab\n",
        "    if using_colab and i % 3 == 0:\n",
        "        #  convert from (width, height, channel) to (height, width, channel)\n",
        "        view = image.transpose([1, 0, 2])\n",
        "\n",
        "        #  convert from rgb to bgr\n",
        "        img_bgr = cv2.cvtColor(view, cv2.COLOR_RGB2BGR)\n",
        "\n",
        "        #Display image, clear cell output\n",
        "        plt.imshow(img_bgr)\n",
        "        display.clear_output(wait=True)\n",
        "        display.display(plt.gcf())\n",
        "        # plt.clf()\n",
        "        # plt.imshow(img_bgr)\n",
        "        # output.clear(wait=True)\n",
        "        # cv2_imshow(img_bgr)"
      ]
    },
    {
      "cell_type": "markdown",
      "metadata": {
        "id": "zTte6NpypZVb"
      },
      "source": [
        "Are you able to see Flappy moving across the window and crashing into things? Great! If you're \n",
        "having any issues, post to EdD and we'll do our best to help you out.\n",
        "\n",
        "Here is how we can visualize a frame of the game as an image within a cell."
      ]
    },
    {
      "cell_type": "code",
      "execution_count": 8,
      "metadata": {
        "id": "KrF_X0S-pZVc",
        "outputId": "0c3e538d-258e-410e-c14c-338b9aff50c2"
      },
      "outputs": [
        {
          "data": {
            "image/png": "[encoded data removed]",
            "text/plain": [
              "<Figure size 432x288 with 1 Axes>"
            ]
          },
          "metadata": {
            "needs_background": "light"
          },
          "output_type": "display_data"
        }
      ],
      "source": [
        "# show the image\n",
        "import matplotlib.pyplot as plt\n",
        "plt.imshow(image.transpose([1, 0, 2]))\n",
        "plt.show()\n",
        "plt.close()"
      ]
    },
    {
      "cell_type": "markdown",
      "metadata": {
        "id": "_J-qmg2lpZVc"
      },
      "source": [
        "### Preprocessing the images \n",
        "\n",
        "Alright, next we need to prepocess the images by converting them to grayscale and resizing them to $80\\times 80$ pixels. This will help \n",
        "to reduce the computation, and aid learning. Besides, Flappy is \n",
        "\"color blind.\" (Fun fact: The instructor of this course is also \n",
        "[color vision deficient](https://en.wikipedia.org/wiki/Color_blindness).)\n"
      ]
    },
    {
      "cell_type": "code",
      "execution_count": 9,
      "metadata": {
        "id": "2gXTfaI5pZVc",
        "outputId": "a9267f78-e071-4950-bdb9-3e5915ddebd0"
      },
      "outputs": [
        {
          "name": "stdout",
          "output_type": "stream",
          "text": [
            "Shape of the transformed image: (80, 80, 1)\n"
          ]
        },
        {
          "data": {
            "image/png": "[encoded data removed]",
            "text/plain": [
              "<Figure size 432x288 with 1 Axes>"
            ]
          },
          "metadata": {
            "needs_background": "light"
          },
          "output_type": "display_data"
        }
      ],
      "source": [
        "def resize_gray(frame):\n",
        "    frame = cv2.cvtColor(cv2.resize(frame, (80, 80)), cv2.COLOR_BGR2GRAY)\n",
        "    ret, frame = cv2.threshold(frame, 1, 255, cv2.THRESH_BINARY)\n",
        "    return np.reshape(frame, (80, 80, 1))\n",
        "\n",
        "image_transformed = resize_gray(image)\n",
        "print('Shape of the transformed image:', image_transformed.shape)\n",
        "\n",
        "# show the transformed image\n",
        "_ = plt.imshow(image_transformed.transpose((1, 0, 2))[:, :, 0], cmap='gray')"
      ]
    },
    {
      "cell_type": "markdown",
      "metadata": {
        "id": "1rCUdv8RpZVc"
      },
      "source": [
        "This shows the preprocessed image for a single frame of\n",
        "the game. In our implementation of Deep Q-Learning, we encode the state by stacking four consecutive frames, resulting in \n",
        "a tensor of shape (80,80,4). \n",
        "\n",
        "Then, given the `current_state`, and a raw image `image_raw`\n",
        "of size $288\\times512\\times3$, we convert \n",
        "the raw image to a $80\\times80\\times 1$ grayscale image using the\n",
        "code in the previous cell. The , \n",
        "we remove the first frame of `current_state` and add \n",
        "the new frame, giving again a stack of images of \n",
        "size (80, 80, 4)."
      ]
    },
    {
      "cell_type": "code",
      "execution_count": 10,
      "metadata": {
        "id": "mgwUOO5DpZVc"
      },
      "outputs": [],
      "source": [
        "def preprocess(image_raw, current_state=None):\n",
        "    # resize and convert to grayscale\n",
        "    image = resize_gray(image_raw)\n",
        "    # stack the frames\n",
        "    if current_state is None:\n",
        "        state = np.concatenate((image, image, image, image), axis=2)\n",
        "    else:\n",
        "        state = np.concatenate((image, current_state[:, :, :3]), axis=2)\n",
        "    return state"
      ]
    },
    {
      "cell_type": "markdown",
      "metadata": {
        "id": "OnDEgieopZVc"
      },
      "source": [
        "### 3.1 Explain the game state\n",
        "\n",
        "Why is the state chosen to be a stack of four consecutive\n",
        "frames rather than a single frame? Give an intuitive explanation."
      ]
    },
    {
      "cell_type": "markdown",
      "metadata": {
        "id": "5xD8TQF4pZVc"
      },
      "source": [
        "Answer:\n",
        "Using a stack of 4 frames as input will catch more temporal information such as the velocity and acceleration, which will be helpful for the network optimization."
      ]
    },
    {
      "cell_type": "markdown",
      "metadata": {
        "id": "I_9VX1YHpZVc"
      },
      "source": [
        "###  Constructing the neural network"
      ]
    },
    {
      "cell_type": "markdown",
      "metadata": {
        "id": "seL3JlxGpZVc"
      },
      "source": [
        "Now we are ready to construct the neural network for approximating the Q function. Recall that, given input $s$ which is of size $80\\times80\\times4$ due to the \n",
        "previous preprocessing, the output of the network should be of size 2, corresponding to the values of $Q(s,a_1)$ and $Q(s, a_2)$ respectively."
      ]
    },
    {
      "cell_type": "markdown",
      "metadata": {
        "id": "YRuZOkzCpZVd"
      },
      "source": [
        "Here is the summary of the model we'd like to build:\n",
        "\n",
        "<!-- ![Neural network](https://raw.githubusercontent.com/YData123/sds365-sp22/main/assignments/assn4/images/q_model.png) -->"
      ]
    },
    {
      "cell_type": "markdown",
      "metadata": {
        "id": "VUWwcoRNpZVd"
      },
      "source": [
        "### 3.2 Initialize the network\n",
        "\n",
        "Complete the code in the next cell so that your model architecture matches that in the above picture. Here we specify the initialization of the weights by using `keras.initializers`.\n",
        "Note that we haven't talked about the `strides` argument for CNNs; \n",
        "you can read about stride here: [https://machinelearningmastery.com/padding-and-stride-for-convolutional-neural-networks/](https://machinelearningmastery.com/padding-and-stride-for-convolutional-neural-networks/). It's not important to understand this in detail, you just need to choose the number and sizes of the filters to get the shapes to match the specification.\n"
      ]
    },
    {
      "cell_type": "code",
      "execution_count": 11,
      "metadata": {
        "id": "F7Q-1gI0pZVd"
      },
      "outputs": [],
      "source": [
        "from tensorflow.keras import initializers\n",
        "def create_q_model():\n",
        "    state = layers.Input(shape=(80, 80, 4,))\n",
        "\n",
        "    layer1 = layers.Conv2D(filters=32, kernel_size=5, strides=4, activation=\"relu\",\n",
        "                           kernel_initializer=initializers.TruncatedNormal(mean=0., stddev=0.01),\n",
        "                           bias_initializer=initializers.Constant(0.01))(state)\n",
        "    layer2 = layers.MaxPool2D(2, strides=2, padding=\"SAME\")(layer1)\n",
        "    layer3 = layers.Conv2D(filters=64, kernel_size=3, strides=2, activation=\"relu\", \n",
        "                           kernel_initializer=initializers.TruncatedNormal(mean=0., stddev=0.01),\n",
        "                           bias_initializer=initializers.Constant(0.01))(layer2)\n",
        "    layer4 = layers.Flatten()(layer3)\n",
        "    q_value = layers.Dense(units=2, activation=\"linear\", \n",
        "                           kernel_initializer=initializers.TruncatedNormal(mean=0., stddev=0.01),\n",
        "                           bias_initializer=initializers.Constant(0.01))(layer4)\n",
        "\n",
        "    return keras.Model(inputs=state, outputs=q_value)"
      ]
    },
    {
      "cell_type": "markdown",
      "metadata": {
        "id": "vzw9d77fpZVd"
      },
      "source": [
        "Plot the model summary to make sure that the network is the same as expected. "
      ]
    },
    {
      "cell_type": "code",
      "execution_count": 12,
      "metadata": {
        "id": "e4I23VOipZVd",
        "outputId": "b2c35a79-a05b-44ba-9465-6bd8afcb45fb"
      },
      "outputs": [
        {
          "name": "stdout",
          "output_type": "stream",
          "text": [
            "Model: \"functional_1\"\n",
            "_________________________________________________________________\n",
            "Layer (type)                 Output Shape              Param #   \n",
            "=================================================================\n",
            "input_1 (InputLayer)         [(None, 80, 80, 4)]       0         \n",
            "_________________________________________________________________\n",
            "conv2d (Conv2D)              (None, 19, 19, 32)        3232      \n",
            "_________________________________________________________________\n",
            "max_pooling2d (MaxPooling2D) (None, 10, 10, 32)        0         \n",
            "_________________________________________________________________\n",
            "conv2d_1 (Conv2D)            (None, 4, 4, 64)          18496     \n",
            "_________________________________________________________________\n",
            "flatten (Flatten)            (None, 1024)              0         \n",
            "_________________________________________________________________\n",
            "dense (Dense)                (None, 2)                 2050      \n",
            "=================================================================\n",
            "Total params: 23,778\n",
            "Trainable params: 23,778\n",
            "Non-trainable params: 0\n",
            "_________________________________________________________________\n",
            "None\n"
          ]
        }
      ],
      "source": [
        "model = create_q_model()\n",
        "print(model.summary())"
      ]
    },
    {
      "cell_type": "markdown",
      "metadata": {
        "id": "XDA31XqUpZVd"
      },
      "source": [
        "### Deep Q-learning\n",
        "\n",
        "We're now ready to implement the Q-learning algorithm.\n",
        "There are some subtle details in the implementation that you need to sort out. First, recall that the update rule for Q learning is\n",
        "\n",
        "$$Q(s,a) \\leftarrow Q(s,a) + \\alpha (r(s,a) + \\gamma\\cdot \\max_{a'} Q(\\text{next}(s,a), a') - Q(s,a))$$\n",
        "\n",
        "where $\\gamma$ is the discount factor and $\\alpha$ can be viewed as the step size or learning rate for gradient ascent.\n",
        "\n",
        "We'll set these as follows:"
      ]
    },
    {
      "cell_type": "code",
      "execution_count": 13,
      "metadata": {
        "id": "DFXM0DpipZVd"
      },
      "outputs": [],
      "source": [
        "gamma = 0.99            # decay rate of past observations\n",
        "step_size = 1e-4        # step size"
      ]
    },
    {
      "cell_type": "markdown",
      "metadata": {
        "id": "4-G2yNippZVd"
      },
      "source": [
        "### Estimation with experience replay\n",
        "\n",
        "At the beginning of training, we spend 10,000 steps taking random \n",
        "actions, as a means of observing the environment. \n",
        "\n",
        "We build a replay memory of length 10,000 steps, and every time we update the weights of the network, we sample a batch of size 32 and perform a Q-learning update on this batch.\n",
        "\n",
        "After we have collected 10,000 steps of new data, we discard \n",
        "the old data, and replace it with the new \"experiences.\"\n"
      ]
    },
    {
      "cell_type": "code",
      "execution_count": 14,
      "metadata": {
        "id": "YLIlmnWvpZVd"
      },
      "outputs": [],
      "source": [
        "observe = 10000            # timesteps to observe before training\n",
        "replay_memory = 10000      # number of previous transitions to remember\n",
        "batch_size = 32            # size of each batch"
      ]
    },
    {
      "cell_type": "markdown",
      "metadata": {
        "id": "0rDiviM1pZVd"
      },
      "source": [
        "\n",
        "### 3.3 Justify the data collection\n",
        "\n",
        "Why does it make sense to maintain the replay memory of a fixed size \n",
        "instead of including all of the historical data?\n"
      ]
    },
    {
      "cell_type": "markdown",
      "metadata": {
        "id": "gRIxXxikpZVd"
      },
      "source": [
        "Answer:\n",
        "Including all of the historical data will result in a significant amount of memory usage as the training progresses. The historical data very long time ago might also have little influence on the current training scheme. "
      ]
    },
    {
      "cell_type": "markdown",
      "metadata": {
        "id": "9T6HOwDkpZVd"
      },
      "source": [
        "### Exploration vs exploitation\n",
        "\n",
        "When performing Q-learning, we face the tradeoff between exploration and \n",
        "exploitation.  To encourage exploration, a simple strategy is to take a random action at each step with certain probability.\n",
        "\n",
        "More precisely, for each time step $t$ and state $s_t$, with probability $\\epsilon$, the algorithm takes a random action (wing flap or do nothing), and with probability $1-\\epsilon$ the \n",
        "algorithm takes a greedy action according to $a_t = \\arg\\max_{a} Q_\\theta(s_t,a)$. Here $\\theta$ refers to the parameters of our CNN."
      ]
    },
    {
      "cell_type": "code",
      "execution_count": 15,
      "metadata": {
        "id": "vto8Tv0OpZVd"
      },
      "outputs": [],
      "source": [
        "# value of epsilon\n",
        "epsilon = 0.1"
      ]
    },
    {
      "cell_type": "markdown",
      "metadata": {
        "id": "GnhcwTjopZVd"
      },
      "source": [
        "### 3.4 Complete the Q-learning algorithm"
      ]
    },
    {
      "cell_type": "markdown",
      "metadata": {
        "id": "i63WW4ONpZVd"
      },
      "source": [
        "Next you will need to complete the Q-learning algorithm by filling in the missing code in the following function.\n",
        "The missing parts include\n",
        "\n",
        "- Taking a greedy action\n",
        "- Given a batch of samples $\\{(s_t, a_t, r_t, s_{t+1}, \\text{terminal}_t)\\}_{t\\in B}$, computing the corresponding $Q_\\theta(s_t, a_t)$.\n",
        "- Given a batch of samples $\\{(s_t, a_t, r_t, s_{t+1}, \\text{terminal}_t)\\}_{t\\in B}$, computing the corresponding updated Q-values \n",
        "  \n",
        "$$\\hat{y}(s_t,a_t) = \\begin{cases}\n",
        "r_t + \\gamma\\, \\max_{a} Q_\\theta(s_{t+1}, a), & \\text{if } \\text{terminal}_t=0,\\\\\n",
        "r_t, & \\text{otherwise}.\n",
        "\\end{cases}$$\n",
        "\n",
        "Then, the mean squared error loss for the batch is\n",
        "\n",
        "$$\\frac{1}{|B|} \\sum_{t\\in B} (\\hat y(s_t, a_t) - Q_\\theta(s_t, a_t))^2.$$\n",
        "\n"
      ]
    },
    {
      "cell_type": "code",
      "execution_count": 18,
      "metadata": {
        "id": "9rdYqtdFpZVe"
      },
      "outputs": [],
      "source": [
        "def dql_flappy_bird(model, optimizer, loss_function):\n",
        "\n",
        "    # initiate a game\n",
        "    game = flappy_bird.GameState()\n",
        "\n",
        "    # store the previous state, action and transitions\n",
        "    history_data = deque()\n",
        "\n",
        "    # get the first observation by doing nothing and preprocess the image\n",
        "    do_nothing = np.zeros(num_actions)\n",
        "    do_nothing[0] = 1\n",
        "    image, reward, terminal = game.frame_step(do_nothing)\n",
        "\n",
        "    # preprocess to get the state\n",
        "    current_state = preprocess(image_raw=image)\n",
        "    \n",
        "    # training\n",
        "    t = 0\n",
        "\n",
        "    while t < 50000:\n",
        "        if epsilon > np.random.rand(1)[0]:\n",
        "            # random action\n",
        "            action = np.random.choice(num_actions)\n",
        "        else:\n",
        "            # compute the Q function\n",
        "            current_state_tensor = tf.convert_to_tensor(current_state)\n",
        "            current_state_tensor = tf.expand_dims(current_state_tensor, 0)\n",
        "            q_value = model(current_state_tensor, training=False)\n",
        "            \n",
        "            # greedy action\n",
        "            #-----MISSING-----# \n",
        "            # your code here\n",
        "            action = np.argmax(q_value[0])\n",
        "            #-----------------#\n",
        "\n",
        "        # take the action and observe the reward and the next state\n",
        "        action_vec = np.zeros([num_actions])\n",
        "        action_vec[action] = 1\n",
        "        image_raw, reward, terminal = game.frame_step(action_vec)\n",
        "        next_state = preprocess(current_state=current_state, \n",
        "                                image_raw=image_raw)\n",
        "        \n",
        "        # store the observation\n",
        "        history_data.append((current_state, action, reward, next_state, \n",
        "                            terminal))\n",
        "        if len(history_data) > replay_memory:\n",
        "            history_data.popleft()  # discard old data\n",
        "\n",
        "        # train if done observing\n",
        "        if t > observe:\n",
        "\n",
        "            # sample a batch\n",
        "            batch = random.sample(history_data, batch_size)\n",
        "            state_sample = np.array([d[0] for d in batch]) # (32, 80, 80, 4)\n",
        "            action_sample = np.array([d[1] for d in batch]) # (32,)\n",
        "            reward_sample = np.array([d[2] for d in batch]) # (32,)\n",
        "            state_next_sample = np.array([d[3] for d in batch]) # (32, 80, 80, 4)\n",
        "            terminal_sample = np.array([d[4] for d in batch]) # (32,)\n",
        "\n",
        "            # compute the updated Q-values for the samples\n",
        "            #-----MISSING-----#\n",
        "            # your code here\n",
        "            # print(state_sample)\n",
        "            # print(state_sample.shape)\n",
        "            # print(action_sample.shape)\n",
        "            # print(reward_sample.shape)\n",
        "            # print(state_next_sample.shape)\n",
        "            # print(terminal_sample.shape)\n",
        "\n",
        "            updated_q_value_list = []\n",
        "            for i in range(batch_size):\n",
        "                if terminal_sample[i]:\n",
        "                    updated_q_value_list.append(reward_sample[i])\n",
        "                else:\n",
        "                    current_q_table = model(state_next_sample, training=False)\n",
        "                    updated_q_value_list.append(reward_sample[i] + gamma*np.max(current_q_table[i]))\n",
        "\n",
        "            updated_q_value = tf.convert_to_tensor(updated_q_value_list)\n",
        "            # print(updated_q_value)\n",
        "            #-----------------#\n",
        "\n",
        "            # train the model on the states and updated Q-values\n",
        "            with tf.GradientTape() as tape:\n",
        "                # compute the current Q-values for the samples\n",
        "                #-----MISSING-----#\n",
        "                # your code here\n",
        "                current_q_table = model(state_sample, training=False)\n",
        "                current_q_value = tf.convert_to_tensor([current_q_table[i, action_sample[i]] for i in range(batch_size)])\n",
        "                # print(current_q_value)\n",
        "                #-----------------#\n",
        "\n",
        "                # compute the loss\n",
        "                loss = loss_function(updated_q_value, current_q_value)\n",
        "\n",
        "            # backpropagation\n",
        "            grads = tape.gradient(loss, model.trainable_variables)\n",
        "            optimizer.apply_gradients(zip(grads, model.trainable_variables))\n",
        "        else:\n",
        "            loss = 0\n",
        "\n",
        "        # update current state and counter\n",
        "        current_state = next_state\n",
        "        t += 1\n",
        "\n",
        "        # print info every 500 steps\n",
        "        if using_colab and t % 500 == 0: # previous every 3 steps\n",
        "            view = image_raw.transpose([1, 0, 2])\n",
        "            img_bgr = cv2. cvtColor(view, cv2.COLOR_RGB2BGR)\n",
        "\n",
        "            display.clear_output(wait=True)\n",
        "            # output.clear(wait=True)\n",
        "            print(f\"STEP {t} | PHASE {'observe' if t<=observe else 'train'}\", \n",
        "                  f\"| ACTION {action} | REWARD {reward} | LOSS {loss}\")\n",
        "            plt.imshow(img_bgr)\n",
        "            display.display(plt.gcf())\n",
        "            # cv2_imshow(img_bgr)\n",
        "        elif t % 500 == 0:\n",
        "            print(f\"STEP {t} | PHASE {'observe' if t<=observe else 'train'}\", \n",
        "                  f\"| ACTION {action} | REWARD {reward} | LOSS {loss}\")"
      ]
    },
    {
      "cell_type": "markdown",
      "metadata": {
        "id": "U7isamyHpZVe"
      },
      "source": [
        "You're now ready to play the game! Just run the cell below; do not change the code."
      ]
    },
    {
      "cell_type": "code",
      "execution_count": 19,
      "metadata": {
        "id": "UFl8Ai_zpZVe"
      },
      "outputs": [],
      "source": [
        "def playgame(start_from_ckpt=False, ckpt_path=None):\n",
        "\n",
        "    #! DO NOT change the random seed !\n",
        "    np.random.seed(4)\n",
        "\n",
        "    if start_from_ckpt:\n",
        "        # if you want to start from a checkpoint\n",
        "        model = keras.models.load_model('ckpt_path')\n",
        "    else:\n",
        "        model = create_q_model()\n",
        "\n",
        "    # specify the optimizer and loss function\n",
        "    optimizer = keras.optimizers.Adam(learning_rate=step_size, clipnorm=1.0)\n",
        "    loss_function = keras.losses.MeanSquaredError()\n",
        "\n",
        "    # play the game\n",
        "    dql_flappy_bird(model=model, optimizer=optimizer, loss_function=loss_function)"
      ]
    },
    {
      "cell_type": "code",
      "execution_count": 20,
      "metadata": {
        "id": "skBbJm05pZVe",
        "outputId": "127680a8-d17a-4256-9f1e-9b6c00129308"
      },
      "outputs": [
        {
          "name": "stdout",
          "output_type": "stream",
          "text": [
            "STEP 50000 | PHASE train | ACTION 0 | REWARD 0.1 | LOSS 0.09207262098789215\n"
          ]
        },
        {
          "data": {
            "image/png": "[encoded data removed]",
            "text/plain": [
              "<Figure size 432x288 with 1 Axes>"
            ]
          },
          "metadata": {},
          "output_type": "display_data"
        },
        {
          "data": {
            "image/png": "[encoded data removed]",
            "text/plain": [
              "<Figure size 432x288 with 1 Axes>"
            ]
          },
          "metadata": {
            "needs_background": "light"
          },
          "output_type": "display_data"
        }
      ],
      "source": [
        "playgame()"
      ]
    },
    {
      "cell_type": "markdown",
      "metadata": {
        "id": "aIttoAfUpZVe"
      },
      "source": [
        "### 3.5 Describe the training"
      ]
    },
    {
      "cell_type": "markdown",
      "metadata": {
        "id": "2r92oom7pZVe"
      },
      "source": [
        "Describe what you see by answering the following questions:\n",
        "\n",
        "- In the early stage of training (within 2,000 steps in the *explore* phase), \n",
        "  describe the behavior of the Flappy Bird. What do you think is the greedy policy \n",
        "  given by the estimation of the Q-function in this stage?\n",
        "- Describe what you see after roughly 5,000 training steps. \n",
        "  Do you see any improvement?\n",
        "  In particular, compare Flappy's behavior with their behavior in the early stages of \n",
        "  training.\n",
        "- Explain why the performance has improved, by relating to the model \n",
        "  design such as the replay memory and the exploration."
      ]
    },
    {
      "cell_type": "markdown",
      "metadata": {
        "id": "kO57LxJOpZVe"
      },
      "source": [
        "Answer;\n",
        "- In the early stage of the training, the flappy bird crashes frequently. The greedy policy given by the estimation of the Q-function seems to be a random policy.\n",
        "- After roughly 5000 training steps, there are some improvement. The bird seems to be able to avoid some obstacles and the episode seems to be longer.\n",
        "- As in the early stage, the content in the replay buffer is mostly constructed in the observation stage. As the training progresses, the model is able to exploit and explore following the epsilon-greedy policy."
      ]
    },
    {
      "cell_type": "markdown",
      "metadata": {
        "id": "iqwmbSW8pZVe"
      },
      "source": [
        "It takes a long time to fully train the network, so you're not required to \n",
        "complete the training. Here's a [video](https://www.youtube.com/watch?v=THhUXIhjkCM) showing the performance of a well trained DQN."
      ]
    },
    {
      "cell_type": "markdown",
      "metadata": {
        "id": "jCMCNOH4pZVe"
      },
      "source": [
        "## Problem 4: Julius Tensor (15 points)\n",
        "\n",
        "In this problem you will modify a basic vanilla \"np-complete\" implementation of recurrent neural networks, and evaluate some pre-trained RNNs trained on the plays of \n",
        "William Shakespeare.\n",
        "\n"
      ]
    },
    {
      "cell_type": "code",
      "execution_count": 1,
      "metadata": {
        "id": "HXRt5uJGpZVe"
      },
      "outputs": [],
      "source": [
        "import tensorflow as tf\n",
        "import logging\n",
        "tf.get_logger().setLevel(logging.ERROR)\n"
      ]
    },
    {
      "cell_type": "code",
      "execution_count": 2,
      "metadata": {
        "id": "QuG-kHiqpZVe"
      },
      "outputs": [],
      "source": [
        "def generate_shakespeare(model, size=1000, seed='ROMEO:'):\n",
        "    states = None\n",
        "    next_char = tf.constant([seed])\n",
        "    result = [next_char]\n",
        "                             \n",
        "    for n in range(1000):\n",
        "      next_char, states = model.generate_one_step(next_char, states=states)\n",
        "      result.append(next_char)\n",
        "\n",
        "    return tf.strings.join(result)[0].numpy().decode(\"utf-8\")\n",
        "                             "
      ]
    },
    {
      "cell_type": "markdown",
      "metadata": {
        "id": "PzP54nYopZVe"
      },
      "source": [
        "### Problem 4.1: Word play\n",
        "\n",
        "We have upload three pre-trained models for you to experiment with: 'Hamlet', 'Macbeth', and 'Comedy of Errors'. One of the models has 256 hidden neurons in the GRU layer, and was trained\n",
        "for 30 epochs. The two other models each have have 1024 hidden neurons in the GRU layer; one was trained for 30 epochs, and the other trained for 50 epochs. \n",
        "\n",
        "Generate sample text from each, using the function `generate_shakespeare` defined above, in order to evaluate the models. Which model is which? Explain how you made your assessment.\n",
        "\n",
        "You can download the models 'Hamlet', 'Comedy_of_Errors' and 'Macbeth' from \n",
        "https://github.com/YData123/sds365-sp22/tree/main/assignments/assn4.\n",
        "\n",
        "Note: If you are unable to load and run these models on your own computer, please run \n",
        "them in the cloud on Colab.\n"
      ]
    },
    {
      "cell_type": "code",
      "execution_count": null,
      "metadata": {
        "id": "FTNb3ACYpZVe"
      },
      "outputs": [],
      "source": [
        "import zipfile\n",
        "def func_unzip(path_to_zip_file, directory_to_extract_to):\n",
        "    with zipfile.ZipFile(path_to_zip_file, 'r') as zip_ref:\n",
        "        zip_ref.extractall(directory_to_extract_to)\n",
        "\n",
        "func_unzip('Hamlet.zip','Hamlet_unzip')\n",
        "func_unzip('Comedy_of_Errors.zip','Comedy_of_Errors_unzip')\n",
        "func_unzip('Macbeth.zip','Macbeth_unzip')"
      ]
    },
    {
      "cell_type": "code",
      "execution_count": null,
      "metadata": {
        "id": "UONzN7FnpZVe"
      },
      "outputs": [],
      "source": [
        "pretrained1 = tf.saved_model.load('./Hamlet_unzip/Hamlet')\n",
        "pretrained2 = tf.saved_model.load('./Comedy_of_Errors_unzip/Comedy_of_Errors')\n",
        "pretrained3 = tf.saved_model.load('./Macbeth_unzip/Macbeth')"
      ]
    },
    {
      "cell_type": "code",
      "execution_count": null,
      "metadata": {
        "colab": {
          "base_uri": "https://localhost:8080/",
          "height": 125
        },
        "id": "V0NhFectpZVf",
        "outputId": "dbd7dff3-0a2d-4ecd-8e6f-4fe7c4fbc6a5"
      },
      "outputs": [
        {
          "data": {
            "application/vnd.google.colaboratory.intrinsic+json": {
              "type": "string"
            },
            "text/plain": [
              "\"ROMEO:\\nThe news I have my cousin, she you make\\nnone. Lay her father, boy; the more\\nShall bear their very watch your face to weep:\\nBut passing with a double och an appreheth ear\\nWas much, but consumed with his brazen jace.\\n\\nRICHARD:\\nAre it confirmn your highness' mouth:\\nTherefore I came unto myself: if it be\\nnone affended, how it lies your life, for if\\nhe seeming him, which never be sportful:\\nWas gratifuely entering me?\\n\\nLUCIO:\\n'Tis but the last,\\nStand by a puppet of me. Tybalt thanks, nay, my\\ntood bide an enemy, faintly speak,\\nNor I lest choose him for my either corpedet\\nTo have you assist them. Now to London citizens\\nHath the stone raised with armies in arms.\\n\\nANTONIO:\\nThat so strays the strength of murderers.\\n\\nANGELO:\\nBelieve me, sir?\\n\\nPROSPERO:\\nFor what, provide!\\n\\nKATHARINA:\\nI will be satisfied.\\n\\nPAULINA:\\nTraitors!\\nGo thou to Friar Lador, Sirrah!\\n\\nTRANIO:\\nIn this same very pretty one hath life\\nA kinsman nature? were there you assign, not in me\\nTo bring this tide and England's queen.\\nAnd y\""
            ]
          },
          "execution_count": 11,
          "metadata": {},
          "output_type": "execute_result"
        }
      ],
      "source": [
        "# Your code and markdown here \n",
        "generate_shakespeare(pretrained1)"
      ]
    },
    {
      "cell_type": "code",
      "execution_count": null,
      "metadata": {
        "colab": {
          "base_uri": "https://localhost:8080/",
          "height": 125
        },
        "id": "EvgXe706rlZQ",
        "outputId": "e03f09c4-53e7-48db-b448-714de95b0288"
      },
      "outputs": [
        {
          "data": {
            "application/vnd.google.colaboratory.intrinsic+json": {
              "type": "string"
            },
            "text/plain": [
              "\"ROMEO:\\nTell me that you shall call me that hear\\nThe time hath wit or pains within my foxted. If Irelo!\\n\\nKING RICHARD III:\\nFaithiest merry of this open wits,\\nAnd Menening thou envy stand, ere I this angel\\nDake miseray'd by Parter that should keep me deed,\\nYond faged, and all the glorious stately: have you may find\\nFirst Romeo: but I will his courtesy.\\n\\nHASTINGS:\\nYe'? after sweet in this resive.\\nFly, Rickond, and strange youth--\\n\\nGroe I'll give as he had; for any heavine\\nThe world was he o' the owa, frowns more may hath wife,\\nThat makes the one harve thee for his queen, I\\ndaught the flournewing of her.\\n\\nDUKE OF YORK:\\nSent for a foultiers for that made the city;\\nFeveren. O my what they give it o'erf:\\nAppeak thy trull joys were royal fool\\nThat wondrous rank earsh of deature\\nThan more than you are their land.\\n\\nEDWARD:\\nThe napkerech you, Henry purges on my heart:\\nThere lies: dishonour; you but that your heads;\\nAnd have the bastard Elikent on only son:\\nOur sheeps in your house: behold put in this m\""
            ]
          },
          "execution_count": 14,
          "metadata": {},
          "output_type": "execute_result"
        }
      ],
      "source": [
        "generate_shakespeare(pretrained2)"
      ]
    },
    {
      "cell_type": "code",
      "execution_count": null,
      "metadata": {
        "colab": {
          "base_uri": "https://localhost:8080/",
          "height": 125
        },
        "id": "zRGZ1w8nrpAD",
        "outputId": "60dbc726-c351-4700-9926-42e7065b6985"
      },
      "outputs": [
        {
          "data": {
            "application/vnd.google.colaboratory.intrinsic+json": {
              "type": "string"
            },
            "text/plain": [
              "\"ROMEO:\\nI do beseech you, I mean now; the forten years\\n'done Tybrazia, for I have been a\\ncounterfeitful virgin: keep with you; who,\\nthey have a king King Richard and matter.\\n\\nJULIET:\\nThat ill beseech you, who is this ang again?\\nNow fair an irrooation bears me up,\\nAnd long to when I saw in these nobles were\\nFrom your isconsidence and unfold.\\n\\nDUKE OF YORK:\\nIf that have done this true affacious in the city,\\nFlier fettle issue of this world.\\n\\nThird York:\\nHave affected my heart my writ. Piop, my business in rebellike\\nA king of end, but forrow I give love,\\nGo thwire angers, for I thank\\nthee, noble Welshmely gazed me: thou\\nart a shamp-well corn, obey eyes: believe thee want, if\\nyou will follow thee. Come, you are happy,\\nAnd do not break our common wealth, as she art\\nWith down, her hors' excalled o' the rest,\\nAnd fly to demosit them all.\\n\\nLUCIO:\\nCall doth my lesson?\\n\\nANTONIO:\\nWent them to Aufidius,\\nDo not be were dishonour'd to bedward;\\nYou must return again in France.\\n\\nHASTINGS:\\nAs thou didst prove\""
            ]
          },
          "execution_count": 15,
          "metadata": {},
          "output_type": "execute_result"
        }
      ],
      "source": [
        "generate_shakespeare(pretrained3)"
      ]
    },
    {
      "cell_type": "markdown",
      "metadata": {},
      "source": [
        "Answer: \n",
        "The first pretrained model might be the one with 1024 hidden neurons trained with 50 epochs. I feel like the punctuation is more consistent than the other two and the grammar is better. The second pretrained model might be the one with 256 hidden neurons trained 30 epochs given the worst grammar and quite inconsistent sentences. The last pretrained model might te one with 1024 hidden neurons trained with 30 epochs as it seems a little bit worse than the first generated model. \n"
      ]
    },
    {
      "cell_type": "markdown",
      "metadata": {
        "id": "Wgks8sL_pZVf"
      },
      "source": [
        "### Problem 4.2: np-complete implementation of RNNs\n",
        "\n",
        "Run the [basic rnn code](https://github.com/YData123/sds365-sp22/blob/main/assignments/assn4/shakespeare_rnn.py) from [Andrej Karpathy](http://karpathy.github.io/2015/05/21/rnn-effectiveness/) to train a model on the [Shakespeare data](https://storage.googleapis.com/download.tensorflow.org/data/shakespeare.txt). \n",
        "Modify the code however you see fit, for example, by changing how often a snippet of synthetic text is generated.\n",
        "\n",
        "* How many steps of gradient descent did you train for? How many characters of Shakespeare data was processed during training? How long did the training take?\n",
        "\n",
        "* Did you modify the code in any way? If so, how?\n",
        "\n",
        "* Provide a few examples of generated text from your trained model.\n",
        "\n",
        "* How do the generated samples compare to those generated\n",
        "in Problem 4.1?\n",
        "\n",
        "* Describe at least three differences between this vanilla RNN model\n",
        "and the GRU networks that you experimented with in 4.1, which are described [here](https://www.tensorflow.org/text/tutorials/text_generation).\n",
        "\n",
        "Note: To limit the output the graders need to examine, please experiment in a separate Python session, and only include your final results in this notebook.\n"
      ]
    },
    {
      "cell_type": "code",
      "execution_count": null,
      "metadata": {},
      "outputs": [],
      "source": [
        "# Your code and markdown here \n",
        "!python shakespeare_rnn.py"
      ]
    },
    {
      "cell_type": "markdown",
      "metadata": {},
      "source": [
        "Answer:\n",
        "- I performed 30000 steps of gradient descent. There are 1115394 characters of Shakespeare data that were processed in the training. The training took about 4 minutes and 30 seconds.\n",
        "- I didn't modify the code.\n",
        "- Here are few examples \n",
        "    -   ivey ofr whranes, hew,\n",
        "        Hossaimess;\n",
        "        And what od brote?\n",
        "        Thit prond.\n",
        "        GORSI ERCAGR, IN HI:\n",
        "        O ark!\n",
        "        Thy noal Dewill as rovet stay rid I pisenuch my my fzote thy staus him cameil mo frepars\n",
        "        I ware badyorwe\n",
        "    -   UKES:\n",
        "        The ckamirk IDcionce:\n",
        "        Teen't awispfe'd mr hotht aw.\n",
        "        Lhather monive lood is ay mae be cextom!\n",
        "        The ADand orlat nously do sionh\n",
        "        Utht a I, a gricaniegers cobyol grossins toover rened so mu'd ore, y \n",
        "- The generated text is worse than those generated in problem 4.1 as most words are incorrect.\n",
        "- Here are the differences:\n",
        "    - The number of hidden neurons is larger in 4.1 model and thus its generative capacity is larger.\n",
        "    - The model in 4.1 involves a trainable embedding layer to extract the features of the raw text.\n",
        "    - The GRU model in 4.1 addresses the vanishing gradient issue in the vanilla RNN."
      ]
    },
    {
      "cell_type": "markdown",
      "metadata": {
        "id": "o3knc1LppZVf"
      },
      "source": [
        "### Problem 4.3: Adding a layer \n",
        "\n",
        "Now suppose you wish to add another recurrent hidden layer to the np-complete RNN implementation. Rather than implementing the full model training, \n",
        "we'd like you to implement the generator. (But we encourage you to at least partially implement the full training of the two-layer model.)\n",
        "\n"
      ]
    },
    {
      "cell_type": "markdown",
      "metadata": {
        "id": "1Xp0OHQkpZVf"
      },
      "source": [
        "Here is the generator for the model that has a single recurrent layer:"
      ]
    },
    {
      "cell_type": "code",
      "execution_count": null,
      "metadata": {
        "id": "sWtRpvv6pZVf"
      },
      "outputs": [],
      "source": [
        "def sample(h, seed_ix, n):\n",
        "    \"\"\"\n",
        "    sample a sequence of integers from the model\n",
        "    h is memory state, seed_ix is a seed letter for first time step\n",
        "    \"\"\"\n",
        "    x = np.zeros((vocab_size, 1))\n",
        "    x[seed_ix] = 1\n",
        "    ixes = []\n",
        "    for t in range(n):\n",
        "        h = np.tanh(np.dot(Wxh, x) + np.dot(Whh, h) + bh)\n",
        "        y = np.dot(Why, h) + by\n",
        "        p = np.exp(y) / np.sum(np.exp(y))\n",
        "        ix = np.random.choice(range(vocab_size), p=p.ravel())\n",
        "        x = np.zeros((vocab_size, 1))\n",
        "        x[ix] = 1\n",
        "        ixes.append(ix)\n",
        "        \n",
        "    return ixes"
      ]
    },
    {
      "cell_type": "markdown",
      "metadata": {
        "id": "_M_Fp1wXpZVf"
      },
      "source": [
        "Your job is to rewrite this function for a model that has two hidden recurrent layers.\n",
        "Complete the implementation below."
      ]
    },
    {
      "cell_type": "code",
      "execution_count": null,
      "metadata": {
        "id": "x0Bxyjx4pZVf"
      },
      "outputs": [],
      "source": [
        "def sample2(h1, h2, seed_ix, n):\n",
        "    \"\"\"\n",
        "    sample a sequence of integers from the model\n",
        "    h1, h2 is memory state, seed_ix is a seed letter for first time step\n",
        "    \"\"\"\n",
        "    x = np.zeros((vocab_size, 1))\n",
        "    x[seed_ix] = 1\n",
        "    ixes = []\n",
        "    for t in range(n):\n",
        "        h1 = np.tanh(np.dot(Wxh1, x) + np.dot(Whh1, h1) + bh1)\n",
        "        h2 = np.tanh(np.dot(Wh1h2, h1) + np.dot(Whh2, h2) + bh2)\n",
        "        y = np.dot(Why, h2) + by\n",
        "        p = np.exp(y) / np.sum(np.exp(y))\n",
        "        ix = np.random.choice(range(vocab_size), p=p.ravel())\n",
        "        x = np.zeros((vocab_size, 1))\n",
        "        x[ix] = 1\n",
        "        ixes.append(ix)\n",
        "\n",
        "    return ixes"
      ]
    },
    {
      "cell_type": "markdown",
      "metadata": {
        "id": "w31q14yBpZVf"
      },
      "source": [
        "Explain your implementation, by giving a description of each line of the code."
      ]
    },
    {
      "cell_type": "markdown",
      "metadata": {
        "id": "lnrrACNfpZVf"
      },
      "source": [
        "Answer:\n",
        "Only the first three lines are different from the previous example. \n",
        "1. By adding another hidden layer, we first compute the updated state h1 from the current input (Wxh1), previous memory (Whh1) and the bias term.\n",
        "2. We then compute the updated second hidden state from the previous hidden state input (Wh1h2), previous memory (Whh2) and the bias term.\n",
        "3. We finally compute the output value using the second hidden state"
      ]
    },
    {
      "cell_type": "markdown",
      "metadata": {
        "id": "7gZg9cH9pZVf"
      },
      "source": [
        "### Problem 4.4 Be the Bard (optional, 2 points EC)\n",
        "\n",
        "Starting from the [TensorFlow tutorial](https://www.tensorflow.org/text/tutorials/text_generation), train the best model \n",
        "that you can, generating synthetic Shakespeare that is better than the best model\n",
        "from problem 4.1 above. \n",
        "\n",
        "* Describe how the model is indeed better than the best model in 4.1.\n",
        "* Provide details on how you trained the model, and any changes made to the model \n",
        "architecture.\n",
        "* So that you do not add too much stuff to your notebook, put your code in a separate notebook (submitted to Canvas), and only add Markdown below to detail your results."
      ]
    },
    {
      "cell_type": "markdown",
      "metadata": {
        "id": "9lzQRN8MpZVf"
      },
      "source": [
        "Answer:\n",
        "- The model seems to be more capable than the model in 4.1 The generated text seems to be more consistent and the punctuation seems to be more reasonable.\n",
        "- The model contains an embedding layer, a single GRU layer with 2048 units followed by a fully connected layer. We utilize the Adam optimizer with sparse categorical cross entropy loss on the model.\n",
        "- The code used in this problem is titled as \"p4.ipynb\" and submitted in canvas."
      ]
    },
    {
      "cell_type": "markdown",
      "metadata": {},
      "source": []
    }
  ],
  "metadata": {
    "colab": {
      "name": "Copy of assn4.ipynb",
      "provenance": []
    },
    "kernelspec": {
      "display_name": "Python 3",
      "language": "python",
      "name": "python3"
    },
    "language_info": {
      "codemirror_mode": {
        "name": "ipython",
        "version": 3
      },
      "file_extension": ".py",
      "mimetype": "text/x-python",
      "name": "python",
      "nbconvert_exporter": "python",
      "pygments_lexer": "ipython3",
      "version": "3.6.13"
    }
  },
  "nbformat": 4,
  "nbformat_minor": 0
}
