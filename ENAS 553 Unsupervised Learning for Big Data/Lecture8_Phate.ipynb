{
 "cells": [
  {
   "cell_type": "code",
   "execution_count": 4,
   "source": [
    "!pip install phate scprep umap-learn"
   ],
   "outputs": [
    {
     "output_type": "stream",
     "name": "stdout",
     "text": [
      "Requirement already satisfied: phate in /Users/xiaoranzhang/opt/anaconda3/envs/Xiaoran/lib/python3.7/site-packages (1.0.7)\n",
      "Requirement already satisfied: scprep in /Users/xiaoranzhang/opt/anaconda3/envs/Xiaoran/lib/python3.7/site-packages (1.1.0)\n",
      "Processing /Users/xiaoranzhang/Library/Caches/pip/wheels/ad/df/d5/a3691296ff779f25cd1cf415a3af954b987fb53111e3392cf4/umap_learn-0.5.1-cp37-none-any.whl\n",
      "Requirement already satisfied: graphtools>=1.3.1 in /Users/xiaoranzhang/opt/anaconda3/envs/Xiaoran/lib/python3.7/site-packages (from phate) (1.5.2)\n",
      "Requirement already satisfied: Deprecated in /Users/xiaoranzhang/opt/anaconda3/envs/Xiaoran/lib/python3.7/site-packages (from phate) (1.2.13)\n",
      "Requirement already satisfied: tasklogger>=1.0 in /Users/xiaoranzhang/opt/anaconda3/envs/Xiaoran/lib/python3.7/site-packages (from phate) (1.1.0)\n",
      "Requirement already satisfied: scipy>=1.1.0 in /Users/xiaoranzhang/opt/anaconda3/envs/Xiaoran/lib/python3.7/site-packages (from phate) (1.3.1)\n",
      "Requirement already satisfied: matplotlib>=3.0 in /Users/xiaoranzhang/opt/anaconda3/envs/Xiaoran/lib/python3.7/site-packages (from phate) (3.1.1)\n",
      "Requirement already satisfied: future in /Users/xiaoranzhang/opt/anaconda3/envs/Xiaoran/lib/python3.7/site-packages (from phate) (0.18.2)\n",
      "Requirement already satisfied: numpy>=1.16.0 in /Users/xiaoranzhang/opt/anaconda3/envs/Xiaoran/lib/python3.7/site-packages (from phate) (1.17.4)\n",
      "Requirement already satisfied: scikit-learn>=0.20.0 in /Users/xiaoranzhang/opt/anaconda3/envs/Xiaoran/lib/python3.7/site-packages (from phate) (0.21.3)\n",
      "Requirement already satisfied: s-gd2>=1.5 in /Users/xiaoranzhang/opt/anaconda3/envs/Xiaoran/lib/python3.7/site-packages (from phate) (1.8)\n",
      "Requirement already satisfied: pandas>=0.25 in /Users/xiaoranzhang/opt/anaconda3/envs/Xiaoran/lib/python3.7/site-packages (from scprep) (0.25.3)\n",
      "Requirement already satisfied: decorator>=4.3.0 in /Users/xiaoranzhang/opt/anaconda3/envs/Xiaoran/lib/python3.7/site-packages (from scprep) (4.4.1)\n",
      "Requirement already satisfied: packaging in /Users/xiaoranzhang/opt/anaconda3/envs/Xiaoran/lib/python3.7/site-packages (from scprep) (19.2)\n",
      "Processing /Users/xiaoranzhang/Library/Caches/pip/wheels/42/4b/8c/f6f119c67cf6583bb192431fa8f7278cf95e5b943055077d94/pynndescent-0.5.4-cp37-none-any.whl\n",
      "Collecting numba>=0.49\n",
      "  Using cached https://files.pythonhosted.org/packages/1d/aa/78989a7692ec5ab919fe79ccda89c9364b2abf523887c005f52c0df2240b/numba-0.54.0-cp37-cp37m-macosx_10_14_x86_64.whl\n",
      "Requirement already satisfied: pygsp>=0.5.1 in /Users/xiaoranzhang/opt/anaconda3/envs/Xiaoran/lib/python3.7/site-packages (from graphtools>=1.3.1->phate) (0.5.1)\n",
      "Requirement already satisfied: wrapt<2,>=1.10 in /Users/xiaoranzhang/opt/anaconda3/envs/Xiaoran/lib/python3.7/site-packages (from Deprecated->phate) (1.11.2)\n",
      "Requirement already satisfied: cycler>=0.10 in /Users/xiaoranzhang/opt/anaconda3/envs/Xiaoran/lib/python3.7/site-packages (from matplotlib>=3.0->phate) (0.10.0)\n",
      "Requirement already satisfied: kiwisolver>=1.0.1 in /Users/xiaoranzhang/opt/anaconda3/envs/Xiaoran/lib/python3.7/site-packages (from matplotlib>=3.0->phate) (1.1.0)\n",
      "Requirement already satisfied: pyparsing!=2.0.4,!=2.1.2,!=2.1.6,>=2.0.1 in /Users/xiaoranzhang/opt/anaconda3/envs/Xiaoran/lib/python3.7/site-packages (from matplotlib>=3.0->phate) (2.4.5)\n",
      "Requirement already satisfied: python-dateutil>=2.1 in /Users/xiaoranzhang/opt/anaconda3/envs/Xiaoran/lib/python3.7/site-packages (from matplotlib>=3.0->phate) (2.8.1)\n",
      "Requirement already satisfied: joblib>=0.11 in /Users/xiaoranzhang/opt/anaconda3/envs/Xiaoran/lib/python3.7/site-packages (from scikit-learn>=0.20.0->phate) (0.14.0)\n",
      "Requirement already satisfied: pytz>=2017.2 in /Users/xiaoranzhang/opt/anaconda3/envs/Xiaoran/lib/python3.7/site-packages (from pandas>=0.25->scprep) (2019.3)\n",
      "Requirement already satisfied: six in /Users/xiaoranzhang/opt/anaconda3/envs/Xiaoran/lib/python3.7/site-packages (from packaging->scprep) (1.13.0)\n",
      "Requirement already satisfied: llvmlite>=0.30 in /Users/xiaoranzhang/opt/anaconda3/envs/Xiaoran/lib/python3.7/site-packages (from pynndescent>=0.5->umap-learn) (0.30.0)\n",
      "Requirement already satisfied: setuptools in /Users/xiaoranzhang/opt/anaconda3/envs/Xiaoran/lib/python3.7/site-packages (from numba>=0.49->umap-learn) (42.0.2.post20191203)\n",
      "\u001b[31mERROR: numba 0.54.0 has requirement llvmlite<0.38,>=0.37.0rc1, but you'll have llvmlite 0.30.0 which is incompatible.\u001b[0m\n",
      "\u001b[31mERROR: umap-learn 0.5.1 has requirement scikit-learn>=0.22, but you'll have scikit-learn 0.21.3 which is incompatible.\u001b[0m\n",
      "Installing collected packages: numba, pynndescent, umap-learn\n",
      "  Found existing installation: numba 0.46.0\n",
      "    Uninstalling numba-0.46.0:\n",
      "      Successfully uninstalled numba-0.46.0\n",
      "Successfully installed numba-0.54.0 pynndescent-0.5.4 umap-learn-0.5.1\n"
     ]
    }
   ],
   "metadata": {}
  },
  {
   "cell_type": "code",
   "execution_count": 1,
   "source": [
    "import numpy as np\n",
    "import pandas as pd\n",
    "import matplotlib.pyplot as plt\n",
    "%matplotlib inline\n",
    "\n",
    "import phate\n",
    "import umap\n",
    "import scprep\n",
    "import os"
   ],
   "outputs": [],
   "metadata": {}
  },
  {
   "cell_type": "code",
   "execution_count": null,
   "source": [],
   "outputs": [],
   "metadata": {}
  },
  {
   "cell_type": "code",
   "execution_count": 2,
   "source": [],
   "outputs": [
    {
     "output_type": "stream",
     "name": "stdout",
     "text": [
      "Collecting phate\n",
      "  Using cached https://files.pythonhosted.org/packages/0c/79/7f72c9d32bfd37a2d089fb4df8c50acb6e30813c33a7e9e982ef2f45c8d0/phate-1.0.7-py3-none-any.whl\n",
      "Requirement already satisfied: scipy>=1.1.0 in /Users/xiaoranzhang/opt/anaconda3/envs/Xiaoran/lib/python3.7/site-packages (from phate) (1.3.1)\n",
      "Collecting tasklogger>=1.0\n",
      "  Using cached https://files.pythonhosted.org/packages/2a/ba/d9b56be2de592e106013930718ba3d3bb0154ae55a3a4ab59197324dd60e/tasklogger-1.1.0-py3-none-any.whl\n",
      "Collecting scprep>=0.11.1\n",
      "  Using cached https://files.pythonhosted.org/packages/92/91/dfb35608ffae7eb0f45b565e702d3083d784988200ab6a967fd3f60d833e/scprep-1.1.0-py3-none-any.whl\n",
      "Requirement already satisfied: scikit-learn>=0.20.0 in /Users/xiaoranzhang/opt/anaconda3/envs/Xiaoran/lib/python3.7/site-packages (from phate) (0.21.3)\n",
      "Collecting graphtools>=1.3.1\n",
      "  Using cached https://files.pythonhosted.org/packages/dc/99/cc0d01f15c40656047caae88bbd3909ff535c116f2bba9e914423c8140e9/graphtools-1.5.2-py3-none-any.whl\n",
      "Requirement already satisfied: matplotlib>=3.0 in /Users/xiaoranzhang/opt/anaconda3/envs/Xiaoran/lib/python3.7/site-packages (from phate) (3.1.1)\n",
      "Collecting Deprecated\n",
      "  Using cached https://files.pythonhosted.org/packages/51/6a/c3a0408646408f7283b7bc550c30a32cc791181ec4618592eec13e066ce3/Deprecated-1.2.13-py2.py3-none-any.whl\n",
      "Requirement already satisfied: numpy>=1.16.0 in /Users/xiaoranzhang/opt/anaconda3/envs/Xiaoran/lib/python3.7/site-packages (from phate) (1.17.4)\n",
      "Collecting s-gd2>=1.5\n",
      "  Using cached https://files.pythonhosted.org/packages/8e/66/4faf0a5dca9b1f46980cb901497064a631e806221e8cb1bd064976960d90/s_gd2-1.8-cp37-cp37m-macosx_10_14_x86_64.whl\n",
      "Requirement already satisfied: future in /Users/xiaoranzhang/opt/anaconda3/envs/Xiaoran/lib/python3.7/site-packages (from phate) (0.18.2)\n",
      "Requirement already satisfied: decorator>=4.3.0 in /Users/xiaoranzhang/opt/anaconda3/envs/Xiaoran/lib/python3.7/site-packages (from scprep>=0.11.1->phate) (4.4.1)\n",
      "Requirement already satisfied: pandas>=0.25 in /Users/xiaoranzhang/opt/anaconda3/envs/Xiaoran/lib/python3.7/site-packages (from scprep>=0.11.1->phate) (0.25.3)\n",
      "Requirement already satisfied: packaging in /Users/xiaoranzhang/opt/anaconda3/envs/Xiaoran/lib/python3.7/site-packages (from scprep>=0.11.1->phate) (19.2)\n",
      "Requirement already satisfied: joblib>=0.11 in /Users/xiaoranzhang/opt/anaconda3/envs/Xiaoran/lib/python3.7/site-packages (from scikit-learn>=0.20.0->phate) (0.14.0)\n",
      "Collecting pygsp>=0.5.1\n",
      "  Using cached https://files.pythonhosted.org/packages/d4/89/2f4aa73cccf12bec5179ac5d52a68b508120c838b7e5d456f5ea0c8beade/PyGSP-0.5.1-py2.py3-none-any.whl\n",
      "Requirement already satisfied: cycler>=0.10 in /Users/xiaoranzhang/opt/anaconda3/envs/Xiaoran/lib/python3.7/site-packages (from matplotlib>=3.0->phate) (0.10.0)\n",
      "Requirement already satisfied: kiwisolver>=1.0.1 in /Users/xiaoranzhang/opt/anaconda3/envs/Xiaoran/lib/python3.7/site-packages (from matplotlib>=3.0->phate) (1.1.0)\n",
      "Requirement already satisfied: pyparsing!=2.0.4,!=2.1.2,!=2.1.6,>=2.0.1 in /Users/xiaoranzhang/opt/anaconda3/envs/Xiaoran/lib/python3.7/site-packages (from matplotlib>=3.0->phate) (2.4.5)\n",
      "Requirement already satisfied: python-dateutil>=2.1 in /Users/xiaoranzhang/opt/anaconda3/envs/Xiaoran/lib/python3.7/site-packages (from matplotlib>=3.0->phate) (2.8.1)\n",
      "Requirement already satisfied: wrapt<2,>=1.10 in /Users/xiaoranzhang/opt/anaconda3/envs/Xiaoran/lib/python3.7/site-packages (from Deprecated->phate) (1.11.2)\n",
      "Requirement already satisfied: pytz>=2017.2 in /Users/xiaoranzhang/opt/anaconda3/envs/Xiaoran/lib/python3.7/site-packages (from pandas>=0.25->scprep>=0.11.1->phate) (2019.3)\n",
      "Requirement already satisfied: six in /Users/xiaoranzhang/opt/anaconda3/envs/Xiaoran/lib/python3.7/site-packages (from packaging->scprep>=0.11.1->phate) (1.13.0)\n",
      "Requirement already satisfied: setuptools in /Users/xiaoranzhang/opt/anaconda3/envs/Xiaoran/lib/python3.7/site-packages (from kiwisolver>=1.0.1->matplotlib>=3.0->phate) (42.0.2.post20191203)\n",
      "Installing collected packages: Deprecated, tasklogger, scprep, pygsp, graphtools, s-gd2, phate\n",
      "Successfully installed Deprecated-1.2.13 graphtools-1.5.2 phate-1.0.7 pygsp-0.5.1 s-gd2-1.8 scprep-1.1.0 tasklogger-1.1.0\n"
     ]
    }
   ],
   "metadata": {}
  },
  {
   "cell_type": "code",
   "execution_count": null,
   "source": [
    "scprep.io.download.download_google_drive(id='14ahKKvzjlSa5w6YUDUthNESHGU8naPdw',\n",
    "                                         destination='data.pickle.gz')\n",
    "scprep.io.download.download_google_drive(id='1-XvGMHn_fluRlxcyoScVCSQphrvABSsj',\n",
    "                                         destination='metadata.pickle.gz')\n",
    "data = pd.read_pickle('data.pickle.gz')\n",
    "metadata = pd.read_pickle('metadata.pickle.gz')"
   ],
   "outputs": [],
   "metadata": {}
  },
  {
   "cell_type": "code",
   "execution_count": null,
   "source": [
    "data.head()"
   ],
   "outputs": [],
   "metadata": {}
  }
 ],
 "metadata": {
  "orig_nbformat": 4,
  "language_info": {
   "name": "python",
   "version": "3.7.5",
   "mimetype": "text/x-python",
   "codemirror_mode": {
    "name": "ipython",
    "version": 3
   },
   "pygments_lexer": "ipython3",
   "nbconvert_exporter": "python",
   "file_extension": ".py"
  },
  "kernelspec": {
   "name": "python3",
   "display_name": "Python 3.7.5 64-bit ('Xiaoran': conda)"
  },
  "interpreter": {
   "hash": "bfea85313669af3d67e02dd446ebe4bf2b021b6099d42a9fc5097194dfd0bc26"
  }
 },
 "nbformat": 4,
 "nbformat_minor": 2
}