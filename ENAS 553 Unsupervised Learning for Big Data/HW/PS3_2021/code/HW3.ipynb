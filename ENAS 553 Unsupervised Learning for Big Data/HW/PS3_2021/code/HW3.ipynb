{
 "cells": [
  {
   "cell_type": "markdown",
   "metadata": {},
   "source": [
    "# 2 Classification of handwritten digits\n",
    "## 2.1 Downloading MNIST"
   ]
  },
  {
   "cell_type": "code",
   "execution_count": 1,
   "metadata": {},
   "outputs": [],
   "source": [
    "from torch.utils.data import DataLoader, TensorDataset\n",
    "import numpy as np\n",
    "from torch import nn\n",
    "from torch.nn.functional import softmax, relu, sigmoid, tanh\n",
    "from torchvision import datasets, transforms\n",
    "import os\n",
    "from ps3_functions import train\n",
    "import matplotlib.pyplot as plt\n",
    "from torch.nn import functional as F\n",
    "\n",
    "path_figures = os.getcwd().replace('code','figures')\n",
    "if not os.path.exists(path_figures):\n",
    "    os.makedirs(path_figures)\n",
    "\n",
    "path_save = os.path.join(os.getcwd(), 'models')\n",
    "if not os.path.exists(path_save):\n",
    "    os.makedirs(path_save)\n",
    "\n",
    "path_results = os.path.join(os.getcwd(), 'results')\n",
    "if not os.path.exists(path_results):\n",
    "    os.makedirs(path_results)\n",
    "\n",
    "path_outputs = os.path.join(os.getcwd(), 'outputs')\n",
    "if not os.path.exists(path_outputs):\n",
    "    os.makedirs(path_outputs)\n",
    "\n",
    "mnist_train = datasets.MNIST(root = 'data', train=True, download=True, transform = transforms.ToTensor())\n",
    "mnist_test = datasets.MNIST(root = 'data', train=False, download=True, transform = transforms.ToTensor())"
   ]
  },
  {
   "cell_type": "code",
   "execution_count": 2,
   "metadata": {},
   "outputs": [],
   "source": [
    "import torch\n",
    "\n",
    "device = torch.device('cuda' if torch.cuda.is_available() else 'cpu')"
   ]
  },
  {
   "cell_type": "code",
   "execution_count": 3,
   "metadata": {},
   "outputs": [
    {
     "name": "stdout",
     "output_type": "stream",
     "text": [
      "cuda\n"
     ]
    }
   ],
   "source": [
    "print(device)"
   ]
  },
  {
   "cell_type": "markdown",
   "metadata": {},
   "source": [
    "## 2.2 Feed-forward Neural Network\n",
    "### please see the code for section 1-6\n",
    "### Fill in the provided train function, completing the TODOs to build a training loop and an evaluation function. Then train the model for 100 epochs with a batch size of 128, and a learning rate of 0.5. This training might take a few minutes."
   ]
  },
  {
   "cell_type": "code",
   "execution_count": 4,
   "metadata": {},
   "outputs": [],
   "source": [
    "# training parameters\n",
    "bs = 128"
   ]
  },
  {
   "cell_type": "code",
   "execution_count": 5,
   "metadata": {},
   "outputs": [],
   "source": [
    "# create training set and testing set\n",
    "train_dataloader = DataLoader(mnist_train, batch_size=bs, shuffle=True)\n",
    "test_dataloader = DataLoader(mnist_test, batch_size=bs, shuffle=True)"
   ]
  },
  {
   "cell_type": "code",
   "execution_count": 6,
   "metadata": {},
   "outputs": [
    {
     "name": "stderr",
     "output_type": "stream",
     "text": [
      "/tmp/ipykernel_20559/4262507057.py:20: UserWarning: Implicit dimension choice for softmax has been deprecated. Change the call to include dim=X as an argument.\n",
      "  layer2_out = softmax(relu(torch.matmul(layer1_out, self.W2) + self.b2))\n"
     ]
    },
    {
     "name": "stdout",
     "output_type": "stream",
     "text": [
      " EPOCH 0. Progress: 0.0%. \n",
      " Train accuracy: 0.6693333387374878. Test accuracy: 0.6650999784469604\n",
      " EPOCH 10. Progress: 20.0%. \n",
      " Train accuracy: 0.8807333707809448. Test accuracy: 0.8710999488830566\n",
      " EPOCH 20. Progress: 40.0%. \n",
      " Train accuracy: 0.8894000053405762. Test accuracy: 0.8791999816894531\n",
      " EPOCH 30. Progress: 60.0%. \n",
      " Train accuracy: 0.8918833136558533. Test accuracy: 0.8805999755859375\n",
      " EPOCH 40. Progress: 80.0%. \n",
      " Train accuracy: 0.9886333346366882. Test accuracy: 0.9739999771118164\n"
     ]
    }
   ],
   "source": [
    "lr = 0.5\n",
    "num_epochs = 50\n",
    "model_name = 'relu'\n",
    "\n",
    "class FeedForwardNet(nn.Module):\n",
    "    \"\"\" Simple feed forward network with one hidden layer.\"\"\"\n",
    "    def __init__(self): # initialize the model\n",
    "        super(FeedForwardNet, self).__init__() # call for the parent class to initialize\n",
    "        self.W1 = nn.Parameter(nn.init.uniform_(torch.empty((784, 128)), a=-np.sqrt(1/128), b=np.sqrt(1/128)))\n",
    "        self.b1 = nn.Parameter(nn.init.uniform_(torch.empty((1, 128)), a=-np.sqrt(1/128), b=np.sqrt(1/128)))\n",
    "\n",
    "        self.W2 = nn.Parameter(nn.init.uniform_(torch.empty((128, 10)), a=-np.sqrt(1/10), b=np.sqrt(1/10)))\n",
    "        self.b2 = nn.Parameter(nn.init.uniform_(torch.empty((1, 10)), a=-np.sqrt(1/10), b=np.sqrt(1/10)))\n",
    "\n",
    "        # Make sure to add another weight and bias vector to represent the hidden layer.\n",
    "\n",
    "    def forward(self, x):\n",
    "        # put the logic here.\n",
    "        layer1_out = relu(torch.matmul(x, self.W1) + self.b1)\n",
    "        layer2_out = softmax(relu(torch.matmul(layer1_out, self.W2) + self.b2))\n",
    "\n",
    "        predictions = layer2_out\n",
    "\n",
    "        return predictions\n",
    "\n",
    "model = FeedForwardNet()\n",
    "model.to(device)\n",
    "ce_loss = nn.CrossEntropyLoss()\n",
    "SGD = torch.optim.SGD(model.parameters(), lr = lr)\n",
    "train_acc_list, test_acc_list = train(model, ce_loss, SGD, train_dataloader, test_dataloader, num_epochs=num_epochs)\n",
    "\n",
    "path_save = os.path.join(os.getcwd(), 'models')\n",
    "if not os.path.exists(path_save):\n",
    "    os.makedirs(path_save)\n",
    "\n",
    "torch.save(model.state_dict(), os.path.join(path_save, 'model_{}_bs_{}_lr_{}_epoch_{}.pth'.format(str(model_name), str(bs), str(lr), str(num_epochs))))"
   ]
  },
  {
   "cell_type": "markdown",
   "metadata": {},
   "source": [
    "###  Try training this without a non-linearity between the layers (linear activation), and then try adding a sigmoid non-linearity both before the hidden layer and after the hidden layer, recording your test accuracy results for each in a table.\n"
   ]
  },
  {
   "cell_type": "code",
   "execution_count": 6,
   "metadata": {},
   "outputs": [
    {
     "name": "stderr",
     "output_type": "stream",
     "text": [
      "/tmp/ipykernel_12537/251991051.py:20: UserWarning: Implicit dimension choice for softmax has been deprecated. Change the call to include dim=X as an argument.\n",
      "  layer2_out = softmax(torch.matmul(layer1_out, self.W2) + self.b2)\n"
     ]
    },
    {
     "name": "stdout",
     "output_type": "stream",
     "text": [
      " EPOCH 0. Progress: 0.0%. \n",
      " Train accuracy: 0.9097499847412109. Test accuracy: 0.9124999642372131\n",
      " EPOCH 10. Progress: 20.0%. \n",
      " Train accuracy: 0.9343166947364807. Test accuracy: 0.9277999997138977\n",
      " EPOCH 20. Progress: 40.0%. \n",
      " Train accuracy: 0.9384166598320007. Test accuracy: 0.9284999966621399\n",
      " EPOCH 30. Progress: 60.0%. \n",
      " Train accuracy: 0.9427833557128906. Test accuracy: 0.9299999475479126\n",
      " EPOCH 40. Progress: 80.0%. \n",
      " Train accuracy: 0.9448000192642212. Test accuracy: 0.9304999709129333\n"
     ]
    }
   ],
   "source": [
    "lr = 0.5\n",
    "num_epochs = 50\n",
    "model_name = 'linear'\n",
    "\n",
    "class FeedForwardNet(nn.Module):\n",
    "    \"\"\" Simple feed forward network with one hidden layer.\"\"\"\n",
    "    def __init__(self): # initialize the model\n",
    "        super(FeedForwardNet, self).__init__() # call for the parent class to initialize\n",
    "        self.W1 = nn.Parameter(nn.init.uniform_(torch.empty((784, 128)), a=-np.sqrt(1/128), b=np.sqrt(1/128)))\n",
    "        self.b1 = nn.Parameter(nn.init.uniform_(torch.empty((1, 128)), a=-np.sqrt(1/128), b=np.sqrt(1/128)))\n",
    "\n",
    "        self.W2 = nn.Parameter(nn.init.uniform_(torch.empty((128, 10)), a=-np.sqrt(1/10), b=np.sqrt(1/10)))\n",
    "        self.b2 = nn.Parameter(nn.init.uniform_(torch.empty((1, 10)), a=-np.sqrt(1/10), b=np.sqrt(1/10)))\n",
    "\n",
    "        # Make sure to add another weight and bias vector to represent the hidden layer.\n",
    "\n",
    "    def forward(self, x):\n",
    "        # put the logic here.\n",
    "        layer1_out = torch.matmul(x, self.W1) + self.b1\n",
    "        layer2_out = softmax(torch.matmul(layer1_out, self.W2) + self.b2)\n",
    "\n",
    "        predictions = layer2_out\n",
    "\n",
    "        return predictions\n",
    "\n",
    "from ps3_functions import train\n",
    "\n",
    "model = FeedForwardNet()\n",
    "model.to(device)\n",
    "ce_loss = nn.CrossEntropyLoss()\n",
    "SGD = torch.optim.SGD(model.parameters(), lr = lr)\n",
    "train_acc_list, test_acc_list = train(model, ce_loss, SGD, train_dataloader, test_dataloader, num_epochs=num_epochs)\n",
    "\n",
    "path_save = os.path.join(os.getcwd(), 'models')\n",
    "if not os.path.exists(path_save):\n",
    "    os.makedirs(path_save)\n",
    "\n",
    "torch.save(model, os.path.join(path_save, 'model_{}_bs_{}_lr_{}_epoch_{}.pth'.format(str(model_name), str(bs), str(lr), str(num_epochs))))"
   ]
  },
  {
   "cell_type": "code",
   "execution_count": 12,
   "metadata": {},
   "outputs": [
    {
     "name": "stderr",
     "output_type": "stream",
     "text": [
      "/home/xiaoranzhang/anaconda3/envs/torch_env/lib/python3.9/site-packages/torch/nn/functional.py:1806: UserWarning: nn.functional.sigmoid is deprecated. Use torch.sigmoid instead.\n",
      "  warnings.warn(\"nn.functional.sigmoid is deprecated. Use torch.sigmoid instead.\")\n",
      "/tmp/ipykernel_12537/1446017766.py:20: UserWarning: Implicit dimension choice for softmax has been deprecated. Change the call to include dim=X as an argument.\n",
      "  layer2_out = softmax(sigmoid(torch.matmul(layer1_out, self.W2) + self.b2))\n"
     ]
    },
    {
     "name": "stdout",
     "output_type": "stream",
     "text": [
      " EPOCH 0. Progress: 0.0%. \n",
      " Train accuracy: 0.7341499924659729. Test accuracy: 0.7436999678611755\n",
      " EPOCH 10. Progress: 20.0%. \n",
      " Train accuracy: 0.8754333257675171. Test accuracy: 0.882599949836731\n",
      " EPOCH 20. Progress: 40.0%. \n",
      " Train accuracy: 0.89410001039505. Test accuracy: 0.9005999565124512\n",
      " EPOCH 30. Progress: 60.0%. \n",
      " Train accuracy: 0.903083324432373. Test accuracy: 0.9096999764442444\n",
      " EPOCH 40. Progress: 80.0%. \n",
      " Train accuracy: 0.9084333181381226. Test accuracy: 0.9140999913215637\n"
     ]
    }
   ],
   "source": [
    "lr = 0.5\n",
    "num_epochs = 50\n",
    "model_name = 'sigmoid'\n",
    "\n",
    "class FeedForwardNet(nn.Module):\n",
    "    \"\"\" Simple feed forward network with one hidden layer.\"\"\"\n",
    "    def __init__(self): # initialize the model\n",
    "        super(FeedForwardNet, self).__init__() # call for the parent class to initialize\n",
    "        self.W1 = nn.Parameter(nn.init.uniform_(torch.empty((784, 128)), a=-np.sqrt(1/128), b=np.sqrt(1/128)))\n",
    "        self.b1 = nn.Parameter(nn.init.uniform_(torch.empty((1, 128)), a=-np.sqrt(1/128), b=np.sqrt(1/128)))\n",
    "\n",
    "        self.W2 = nn.Parameter(nn.init.uniform_(torch.empty((128, 10)), a=-np.sqrt(1/10), b=np.sqrt(1/10)))\n",
    "        self.b2 = nn.Parameter(nn.init.uniform_(torch.empty((1, 10)), a=-np.sqrt(1/10), b=np.sqrt(1/10)))\n",
    "\n",
    "        # Make sure to add another weight and bias vector to represent the hidden layer.\n",
    "\n",
    "    def forward(self, x):\n",
    "        # put the logic here.\n",
    "        layer1_out = sigmoid(torch.matmul(x, self.W1) + self.b1)\n",
    "        layer2_out = softmax(sigmoid(torch.matmul(layer1_out, self.W2) + self.b2))\n",
    "\n",
    "        predictions = layer2_out\n",
    "\n",
    "        return predictions\n",
    "\n",
    "from ps3_functions import train\n",
    "\n",
    "model = FeedForwardNet()\n",
    "model.to(device)\n",
    "ce_loss = nn.CrossEntropyLoss()\n",
    "SGD = torch.optim.SGD(model.parameters(), lr = lr)\n",
    "train_acc_list, test_acc_list = train(model, ce_loss, SGD, train_dataloader, test_dataloader, num_epochs=num_epochs)\n",
    "\n",
    "path_save = os.path.join(os.getcwd(), 'models')\n",
    "if not os.path.exists(path_save):\n",
    "    os.makedirs(path_save)\n",
    "\n",
    "torch.save(model, os.path.join(path_save, 'model_{}_bs_{}_lr_{}_epoch_{}.pth'.format(str(model_name), str(bs), str(lr), str(num_epochs))))"
   ]
  },
  {
   "cell_type": "markdown",
   "metadata": {},
   "source": [
    "### Try adjusting the learning rate (by making it smaller) if your model is not converging/improving in accuracy. You might also try increasing the number of epochs used."
   ]
  },
  {
   "cell_type": "code",
   "execution_count": 13,
   "metadata": {},
   "outputs": [
    {
     "name": "stderr",
     "output_type": "stream",
     "text": [
      "/tmp/ipykernel_12537/3423974620.py:20: UserWarning: Implicit dimension choice for softmax has been deprecated. Change the call to include dim=X as an argument.\n",
      "  layer2_out = softmax(relu(torch.matmul(layer1_out, self.W2) + self.b2))\n"
     ]
    },
    {
     "name": "stdout",
     "output_type": "stream",
     "text": [
      " EPOCH 0. Progress: 0.0%. \n",
      " Train accuracy: 0.11543333530426025. Test accuracy: 0.11549999564886093\n",
      " EPOCH 10. Progress: 20.0%. \n",
      " Train accuracy: 0.4541333317756653. Test accuracy: 0.45819997787475586\n",
      " EPOCH 20. Progress: 40.0%. \n",
      " Train accuracy: 0.5333666801452637. Test accuracy: 0.5324000120162964\n",
      " EPOCH 30. Progress: 60.0%. \n",
      " Train accuracy: 0.5476999878883362. Test accuracy: 0.5475000143051147\n",
      " EPOCH 40. Progress: 80.0%. \n",
      " Train accuracy: 0.5537499785423279. Test accuracy: 0.5521000027656555\n"
     ]
    }
   ],
   "source": [
    "lr = 1e-3\n",
    "num_epochs = 50\n",
    "model_name = 'learning_rate'\n",
    "\n",
    "class FeedForwardNet(nn.Module):\n",
    "    \"\"\" Simple feed forward network with one hidden layer.\"\"\"\n",
    "    def __init__(self): # initialize the model\n",
    "        super(FeedForwardNet, self).__init__() # call for the parent class to initialize\n",
    "        self.W1 = nn.Parameter(nn.init.uniform_(torch.empty((784, 128)), a=-np.sqrt(1/128), b=np.sqrt(1/128)))\n",
    "        self.b1 = nn.Parameter(nn.init.uniform_(torch.empty((1, 128)), a=-np.sqrt(1/128), b=np.sqrt(1/128)))\n",
    "\n",
    "        self.W2 = nn.Parameter(nn.init.uniform_(torch.empty((128, 10)), a=-np.sqrt(1/10), b=np.sqrt(1/10)))\n",
    "        self.b2 = nn.Parameter(nn.init.uniform_(torch.empty((1, 10)), a=-np.sqrt(1/10), b=np.sqrt(1/10)))\n",
    "\n",
    "        # Make sure to add another weight and bias vector to represent the hidden layer.\n",
    "\n",
    "    def forward(self, x):\n",
    "        # put the logic here.\n",
    "        layer1_out = relu(torch.matmul(x, self.W1) + self.b1)\n",
    "        layer2_out = softmax(relu(torch.matmul(layer1_out, self.W2) + self.b2))\n",
    "\n",
    "        predictions = layer2_out\n",
    "\n",
    "        return predictions\n",
    "\n",
    "from ps3_functions import train\n",
    "\n",
    "model = FeedForwardNet()\n",
    "model.to(device)\n",
    "ce_loss = nn.CrossEntropyLoss()\n",
    "SGD = torch.optim.SGD(model.parameters(), lr = lr)\n",
    "train_acc_list, test_acc_list = train(model, ce_loss, SGD, train_dataloader, test_dataloader, num_epochs=num_epochs)\n",
    "\n",
    "path_save = os.path.join(os.getcwd(), 'models')\n",
    "if not os.path.exists(path_save):\n",
    "    os.makedirs(path_save)\n",
    "\n",
    "torch.save(model, os.path.join(path_save, 'model_{}_bs_{}_lr_{}_epoch_{}.pth'.format(str(model_name), str(bs), str(lr), str(num_epochs))))"
   ]
  },
  {
   "cell_type": "markdown",
   "metadata": {},
   "source": [
    "### Lastly, experiment with the width of the hidden layer, keeping the activation function that performs best. Remember to add these results to your table.\n"
   ]
  },
  {
   "cell_type": "code",
   "execution_count": 14,
   "metadata": {},
   "outputs": [
    {
     "name": "stderr",
     "output_type": "stream",
     "text": [
      "/tmp/ipykernel_12537/2455853343.py:21: UserWarning: Implicit dimension choice for softmax has been deprecated. Change the call to include dim=X as an argument.\n",
      "  layer2_out = softmax(relu(torch.matmul(layer1_out, self.W2) + self.b2))\n"
     ]
    },
    {
     "name": "stdout",
     "output_type": "stream",
     "text": [
      " EPOCH 0. Progress: 0.0%. \n",
      " Train accuracy: 0.6707500219345093. Test accuracy: 0.6680999994277954\n",
      " EPOCH 10. Progress: 20.0%. \n",
      " Train accuracy: 0.8770833611488342. Test accuracy: 0.8714999556541443\n",
      " EPOCH 20. Progress: 40.0%. \n",
      " Train accuracy: 0.9767667055130005. Test accuracy: 0.967799961566925\n",
      " EPOCH 30. Progress: 60.0%. \n",
      " Train accuracy: 0.9853333234786987. Test accuracy: 0.972000002861023\n",
      " EPOCH 40. Progress: 80.0%. \n",
      " Train accuracy: 0.9880666732788086. Test accuracy: 0.9723999500274658\n"
     ]
    }
   ],
   "source": [
    "lr = 0.5\n",
    "num_epochs = 50\n",
    "hidden_width = 64\n",
    "model_name = 'width_hidden'\n",
    "\n",
    "class FeedForwardNet(nn.Module):\n",
    "    \"\"\" Simple feed forward network with one hidden layer.\"\"\"\n",
    "    def __init__(self): # initialize the model\n",
    "        super(FeedForwardNet, self).__init__() # call for the parent class to initialize\n",
    "        self.W1 = nn.Parameter(nn.init.uniform_(torch.empty((784, hidden_width)), a=-np.sqrt(1/hidden_width), b=np.sqrt(1/hidden_width)))\n",
    "        self.b1 = nn.Parameter(nn.init.uniform_(torch.empty((1, hidden_width)), a=-np.sqrt(1/hidden_width), b=np.sqrt(1/hidden_width)))\n",
    "\n",
    "        self.W2 = nn.Parameter(nn.init.uniform_(torch.empty((hidden_width, 10)), a=-np.sqrt(1/10), b=np.sqrt(1/10)))\n",
    "        self.b2 = nn.Parameter(nn.init.uniform_(torch.empty((1, 10)), a=-np.sqrt(1/10), b=np.sqrt(1/10)))\n",
    "\n",
    "        # Make sure to add another weight and bias vector to represent the hidden layer.\n",
    "\n",
    "    def forward(self, x):\n",
    "        # put the logic here.\n",
    "        layer1_out = relu(torch.matmul(x, self.W1) + self.b1)\n",
    "        layer2_out = softmax(relu(torch.matmul(layer1_out, self.W2) + self.b2))\n",
    "\n",
    "        predictions = layer2_out\n",
    "\n",
    "        return predictions\n",
    "\n",
    "from ps3_functions import train\n",
    "\n",
    "model = FeedForwardNet()\n",
    "model.to(device)\n",
    "ce_loss = nn.CrossEntropyLoss()\n",
    "SGD = torch.optim.SGD(model.parameters(), lr = lr)\n",
    "train_acc_list, test_acc_list = train(model, ce_loss, SGD, train_dataloader, test_dataloader, num_epochs=num_epochs)\n",
    "\n",
    "torch.save(model, os.path.join(path_save, 'model_{}_{}_bs_{}_lr_{}_epoch_{}.pth'.format(str(model_name), str(hidden_width), str(bs), str(lr), str(num_epochs))))"
   ]
  },
  {
   "cell_type": "markdown",
   "metadata": {},
   "source": [
    "### Question 2.2.1. What percentage classification accuracy does this network achieve?\n",
    "Answer: The network is able to achieve about 0.96 testing accuracy.\n",
    "\n",
    "### Question 2.2.2. Create a plot of the training and test error vs the number of iterations. How many iterations are sufficient to reach good performance?\n",
    "Answer: From the following figure, about 20 iterations is enough to reach good performance (using relu, lr=0.5 configuration). "
   ]
  },
  {
   "cell_type": "code",
   "execution_count": 29,
   "metadata": {},
   "outputs": [
    {
     "data": {
      "image/png": "[encoded data removed]",
      "text/plain": [
       "<Figure size 432x288 with 1 Axes>"
      ]
     },
     "metadata": {
      "needs_background": "light"
     },
     "output_type": "display_data"
    }
   ],
   "source": [
    "import matplotlib.pyplot as plt\n",
    "\n",
    "def func_plotAcc(train_acc_list, test_acc_list, plot_name):\n",
    "    train_acc_list_py, test_acc_list_py = [], []\n",
    "\n",
    "    for train_acc, test_acc in zip(train_acc_list, test_acc_list):\n",
    "        train_acc.to(torch.device('cpu')), test_acc.to(torch.device('cpu'))\n",
    "        train_acc_list_py.append(train_acc.cpu().numpy()), test_acc_list_py.append(test_acc.cpu().numpy())\n",
    "    epochs = np.arange(0, 50, 10)\n",
    "    fig, ax = plt.subplots(1,1)\n",
    "    ax.plot(epochs, train_acc_list_py, label='training accuracy')\n",
    "    ax.plot(epochs, test_acc_list_py, label='testing accuracy')\n",
    "    ax.set_xlabel('Epoch')\n",
    "    ax.set_ylabel('Accuracy')\n",
    "    ax.legend()\n",
    "    plt.show()\n",
    "\n",
    "    fig.savefig(os.path.join(path_figures, plot_name))\n",
    "\n",
    "func_plotAcc(train_acc_list, test_acc_list, 'section2-1.pdf')\n"
   ]
  },
  {
   "cell_type": "markdown",
   "metadata": {},
   "source": [
    "### Question 2.2.3. Print the confusion matrix showing which digits were misclassified, and what they were misclassified as. What numbers are frequently confused with one another by your model?\n",
    "Answer: The confusion matrix printed below indicates that generally the model correctly classifies the digits. The biggest confusion comes from digit 4 with digit 9."
   ]
  },
  {
   "cell_type": "code",
   "execution_count": 11,
   "metadata": {},
   "outputs": [
    {
     "name": "stderr",
     "output_type": "stream",
     "text": [
      "/tmp/ipykernel_12537/251991051.py:20: UserWarning: Implicit dimension choice for softmax has been deprecated. Change the call to include dim=X as an argument.\n",
      "  layer2_out = softmax(torch.matmul(layer1_out, self.W2) + self.b2)\n"
     ]
    },
    {
     "data": {
      "text/plain": [
       "array([[ 955,    0,    1,    1,    1,    6,   11,    2,    3,    0],\n",
       "       [   0, 1113,    5,    3,    1,    4,    4,    2,    3,    0],\n",
       "       [   9,    7,  926,   11,   16,    7,    8,   13,   29,    6],\n",
       "       [   2,    0,   23,  917,    1,   28,    3,    9,   19,    8],\n",
       "       [   1,    5,    4,    1,  930,    0,   10,    3,    3,   25],\n",
       "       [   7,    2,    3,   25,   15,  791,   13,    3,   26,    7],\n",
       "       [  10,    3,    6,    2,    7,   15,  912,    2,    1,    0],\n",
       "       [   3,    7,   24,    4,   10,    1,    0,  950,    2,   27],\n",
       "       [   5,    6,    3,   19,    9,   35,    9,   10,  873,    5],\n",
       "       [  12,    7,    1,    8,   26,    8,    0,   16,    9,  922]])"
      ]
     },
     "execution_count": 11,
     "metadata": {},
     "output_type": "execute_result"
    }
   ],
   "source": [
    "from sklearn.metrics import confusion_matrix\n",
    "output_list, label_list = [], []\n",
    "with torch.no_grad():\n",
    "    for data, targets in test_dataloader:\n",
    "        data = data.to('cuda')\n",
    "        targets = targets.to('cuda')\n",
    "        test_input = data.view(-1, 784)\n",
    "        test_output_onehot = model(test_input)\n",
    "        test_output = torch.argmax(test_output_onehot, dim=1)\n",
    "        output_list.extend(test_output.cpu().numpy()), label_list.extend(targets.cpu().numpy())\n",
    "        \n",
    "confusion_matrix(label_list, output_list)"
   ]
  },
  {
   "cell_type": "markdown",
   "metadata": {},
   "source": [
    "### Question 2.2.4. Experiment with the learning rate, optimizer and activation function of your network. Report the best accuracy and briefly describe the training scheme that reached this accuracy.\n",
    "Answer: After experimenting with a series models shown above, the best testing accuracy (0.96) is achieved when lr = 0.5 with SGD and relu activation function."
   ]
  },
  {
   "cell_type": "markdown",
   "metadata": {},
   "source": [
    "# 3 Autoencoder\n",
    "## 3.1 MNIST\n",
    "### section 1-3, please check the relevant functions\n",
    "### Adapt your training function for the autoencoder. Use the same batch size and number of epochs (128 and 100), but use the ADAM optimizer instead of Gradient Descent. Use Mean Squared Error for your reconstruction loss."
   ]
  },
  {
   "cell_type": "code",
   "execution_count": 15,
   "metadata": {},
   "outputs": [],
   "source": [
    "bs = 128"
   ]
  },
  {
   "cell_type": "code",
   "execution_count": 20,
   "metadata": {},
   "outputs": [],
   "source": [
    "class Autoencoder(nn.Module):\n",
    "    def __init__(self):\n",
    "        super(Autoencoder, self).__init__()\n",
    "        self.enc_lin1 = nn.Linear(784, 1000)\n",
    "        self.enc_lin2 = nn.Linear(1000, 500)\n",
    "        self.enc_lin3 = nn.Linear(500, 250)\n",
    "        self.enc_lin4 = nn.Linear(250, 2)\n",
    "\n",
    "        self.dec_lin1 = nn.Linear(2, 250)\n",
    "        self.dec_lin2 = nn.Linear(250, 500)\n",
    "        self.dec_lin3 = nn.Linear(500, 1000)\n",
    "        self.dec_lin4 = nn.Linear(1000, 784)\n",
    "        # define additional layers here\n",
    "\n",
    "\n",
    "    def encode(self, x):\n",
    "        x = tanh(self.enc_lin1(x))\n",
    "        x = tanh(self.enc_lin2(x))\n",
    "        x = tanh(self.enc_lin3(x))\n",
    "        x = sigmoid(self.enc_lin4(x))\n",
    "\n",
    "        # ... additional layers, plus possible nonlinearities.\n",
    "        return x\n",
    "\n",
    "    def decode(self, z):\n",
    "        # ditto, but in reverse\n",
    "        z = tanh(self.dec_lin1(z))\n",
    "        z = tanh(self.dec_lin2(z))\n",
    "        z = tanh(self.dec_lin3(z))\n",
    "        z = tanh(self.dec_lin4(z))\n",
    "\n",
    "        return z\n",
    "\n",
    "    def forward(self, x):\n",
    "        z = self.encode(x)\n",
    "        out = self.decode(z)\n",
    "        return out\n",
    "\n",
    "def train_ae(model, loss_fn, optimizer, train_loader, test_loader, num_epochs):\n",
    "    # num_epochs = 100 # obviously, this is too many. I don't know what this author was thinking.\n",
    "\n",
    "    train_loss_list, test_loss_list = [], []\n",
    "\n",
    "    for epoch in range(num_epochs):\n",
    "        # loop through each data point in the training set\n",
    "        for data, targets in train_loader:\n",
    "            optimizer.zero_grad()\n",
    "\n",
    "            # run the model on the data\n",
    "            data = data.to('cuda')\n",
    "            targets = targets.to('cuda')\n",
    "            model_input = data.view(-1, 784)\n",
    "\n",
    "            # TODO: Turn the 28 by 28 image tensors into a 784 dimensional tensor.\n",
    "            out = model(model_input)\n",
    "\n",
    "            # Calculate the loss\n",
    "            loss = loss_fn(out,model_input)\n",
    "\n",
    "            # Find the gradients of our loss via backpropogation\n",
    "            loss.backward()\n",
    "\n",
    "            # Adjust accordingly with the optimizer\n",
    "            optimizer.step()\n",
    "\n",
    "        \n",
    "        # Give status reports every 100 epochs\n",
    "        if epoch % 10==0:\n",
    "            train_loss, test_loss = evaluate_ae(model, train_loader, loss_fn), evaluate_ae (model, test_loader, loss_fn)\n",
    "            train_loss_list.append(train_loss), test_loss_list.append(test_loss)\n",
    "            print(f\" EPOCH {epoch}. Progress: {epoch/num_epochs*100}%. \")\n",
    "            print(f\" Train loss: {train_loss}. Test loss: {test_loss}\") #TODO: implement the evaluate function to provide performance statistics during training.\n",
    "\n",
    "    return train_loss_list, test_loss_list\n",
    "\n",
    "def evaluate_ae(model, evaluation_set, loss_fn):\n",
    "    with torch.no_grad(): # this disables backpropogation, which makes the model run much more quickly.\n",
    "        # TODO: Fill in the rest of the evaluation function.\n",
    "        loss_sum = 0\n",
    "\n",
    "        for data, targets in evaluation_set:\n",
    "            data = data.to('cuda')\n",
    "            # targets = targets.to('cuda')\n",
    "            test_input = data.view(-1, 784)\n",
    "            test_output = model(test_input)\n",
    "\n",
    "            loss_sum += loss_fn(test_input, test_output)\n",
    "        \n",
    "        loss = loss_sum / len(evaluation_set.dataset)\n",
    "        \n",
    "    return loss"
   ]
  },
  {
   "cell_type": "code",
   "execution_count": 7,
   "metadata": {},
   "outputs": [
    {
     "name": "stderr",
     "output_type": "stream",
     "text": [
      "/home/xiaoranzhang/anaconda3/envs/torch_env/lib/python3.9/site-packages/torch/nn/functional.py:1795: UserWarning: nn.functional.tanh is deprecated. Use torch.tanh instead.\n",
      "  warnings.warn(\"nn.functional.tanh is deprecated. Use torch.tanh instead.\")\n",
      "/home/xiaoranzhang/anaconda3/envs/torch_env/lib/python3.9/site-packages/torch/nn/functional.py:1806: UserWarning: nn.functional.sigmoid is deprecated. Use torch.sigmoid instead.\n",
      "  warnings.warn(\"nn.functional.sigmoid is deprecated. Use torch.sigmoid instead.\")\n"
     ]
    },
    {
     "name": "stdout",
     "output_type": "stream",
     "text": [
      " EPOCH 0. Progress: 0.0%. \n",
      " Train loss: 0.0003743564593605697. Test loss: 0.00037780642742291093\n"
     ]
    }
   ],
   "source": [
    "lr = 0.003\n",
    "num_epochs = 10\n",
    "model_name = 'autoencoder'\n",
    "\n",
    "model_ae = Autoencoder()\n",
    "model_ae.to(device)\n",
    "mse_loss = nn.MSELoss()\n",
    "optimizer_ae = torch.optim.Adam(model_ae.parameters(), lr=lr)\n",
    "train_acc_list, test_acc_list = train_ae(model_ae, mse_loss, optimizer_ae, train_dataloader, test_dataloader, num_epochs)\n",
    "\n",
    "torch.save(model, os.path.join(path_save, 'model_{}_bs_{}_lr_{}_epoch_{}.pth'.format(str(model_name), str(bs), str(lr), str(num_epochs))))"
   ]
  },
  {
   "cell_type": "markdown",
   "metadata": {},
   "source": [
    "### After training your model, plot the 2 dimensional embeddings of 1000 digits, colored by the image labels."
   ]
  },
  {
   "cell_type": "code",
   "execution_count": 16,
   "metadata": {},
   "outputs": [
    {
     "name": "stderr",
     "output_type": "stream",
     "text": [
      "/home/xiaoranzhang/anaconda3/envs/torch_env/lib/python3.9/site-packages/torch/nn/functional.py:1795: UserWarning: nn.functional.tanh is deprecated. Use torch.tanh instead.\n",
      "  warnings.warn(\"nn.functional.tanh is deprecated. Use torch.tanh instead.\")\n",
      "/home/xiaoranzhang/anaconda3/envs/torch_env/lib/python3.9/site-packages/torch/nn/functional.py:1806: UserWarning: nn.functional.sigmoid is deprecated. Use torch.sigmoid instead.\n",
      "  warnings.warn(\"nn.functional.sigmoid is deprecated. Use torch.sigmoid instead.\")\n"
     ]
    }
   ],
   "source": [
    "data_loader_1000_digits = DataLoader(mnist_train, batch_size=1000, shuffle=True)\n",
    "for data, target in data_loader_1000_digits:\n",
    "    with torch.no_grad():\n",
    "        data = data.to(device)\n",
    "        model_input = data.view(-1, 784)\n",
    "        embedds = model_ae.encode(model_input).cpu().numpy()\n",
    "        preds = model_ae(model_input).cpu().numpy()\n",
    "        labels = target.cpu().numpy()\n",
    "        inputs = model_input.cpu().numpy()\n",
    "        break # just load one batch"
   ]
  },
  {
   "cell_type": "code",
   "execution_count": 9,
   "metadata": {},
   "outputs": [
    {
     "data": {
      "image/png": "[encoded data removed]",
      "text/plain": [
       "<Figure size 432x288 with 1 Axes>"
      ]
     },
     "metadata": {
      "needs_background": "light"
     },
     "output_type": "display_data"
    }
   ],
   "source": [
    "fig = plt.figure()\n",
    "ax = fig.add_subplot()\n",
    "scatter = ax.scatter(embedds[:,0], embedds[:,1], c=labels)\n",
    "legend = ax.legend(*scatter.legend_elements(), title='digit')\n",
    "ax.add_artist(legend)\n",
    "fig.savefig(os.path.join(path_figures,'Section_3_1.pdf'))\n",
    "plt.show()"
   ]
  },
  {
   "cell_type": "markdown",
   "metadata": {},
   "source": [
    "### Produce side-by-side plots of one original and reconstructed sample of each digit (0 - 9). You can use the save_image function from torchvision.utils."
   ]
  },
  {
   "cell_type": "code",
   "execution_count": 10,
   "metadata": {},
   "outputs": [],
   "source": [
    "# find a sample idx with each digit\n",
    "sample_idx_list, digit_list = [], []\n",
    "for idx in range(labels.shape[0]):\n",
    "    for digit in range(10):\n",
    "        if labels[idx] == digit:\n",
    "            if digit not in digit_list:\n",
    "                sample_idx_list.append(idx)\n",
    "                digit_list.append(digit)"
   ]
  },
  {
   "cell_type": "code",
   "execution_count": 19,
   "metadata": {},
   "outputs": [
    {
     "data": {
      "image/png": "[encoded data removed]",
      "text/plain": [
       "<Figure size 1728x576 with 20 Axes>"
      ]
     },
     "metadata": {
      "needs_background": "light"
     },
     "output_type": "display_data"
    }
   ],
   "source": [
    "fig, axes = plt.subplots(2,10)\n",
    "fig.set_size_inches(24,8)\n",
    "\n",
    "for i in range(10):\n",
    "    preds_digit = preds[sample_idx_list[i]]\n",
    "    input_digit = inputs[sample_idx_list[i]]\n",
    "    axes[0][i].imshow(np.reshape(preds_digit, (28,28)), cmap='gray')\n",
    "    axes[1][i].imshow(np.reshape(input_digit, (28,28)), cmap='gray')\n",
    "fig.suptitle('Autoencoder reconstructed digits (top row) versus original digits (bottom row)')\n",
    "fig.savefig(os.path.join(path_figures,'Section_3_2.pdf'))\n",
    "plt.show()\n"
   ]
  },
  {
   "cell_type": "markdown",
   "metadata": {},
   "source": [
    "### Now for something fun: locate the embeddings of two distinct images, and interpolate between them to produce some intermediate point in the latent space. Visualize this point in the 2D embedding. Then, run your decoder on this fabricated “embedding” to see if it the output looks anything like a handwritten digit. You might try interpolating between and within several different classes."
   ]
  },
  {
   "cell_type": "code",
   "execution_count": 33,
   "metadata": {},
   "outputs": [
    {
     "name": "stderr",
     "output_type": "stream",
     "text": [
      "/home/xiaoranzhang/anaconda3/envs/torch_env/lib/python3.9/site-packages/torch/nn/functional.py:1795: UserWarning: nn.functional.tanh is deprecated. Use torch.tanh instead.\n",
      "  warnings.warn(\"nn.functional.tanh is deprecated. Use torch.tanh instead.\")\n",
      "/home/xiaoranzhang/anaconda3/envs/torch_env/lib/python3.9/site-packages/torch/nn/functional.py:1806: UserWarning: nn.functional.sigmoid is deprecated. Use torch.sigmoid instead.\n",
      "  warnings.warn(\"nn.functional.sigmoid is deprecated. Use torch.sigmoid instead.\")\n"
     ]
    }
   ],
   "source": [
    "digit_idx_1 = 0\n",
    "digit_idx_2 = 1\n",
    "\n",
    "for data, target in data_loader_1000_digits:\n",
    "    with torch.no_grad():\n",
    "        data = data.to(device)\n",
    "        model_input = data.view(-1, 784)\n",
    "        embedds_1 = model_ae.encode(model_input[digit_list[digit_idx_1],:]).cpu().numpy()\n",
    "        embedds_2 = model_ae.encode(model_input[digit_list[digit_idx_2],:]).cpu().numpy()\n",
    "        embedds_frab = (embedds_1 + embedds_2)/2\n",
    "        preds = model_ae.decode(torch.from_numpy(embedds_frab).to(device)).cpu().numpy()\n",
    "        break # just load one batch\n"
   ]
  },
  {
   "cell_type": "code",
   "execution_count": 37,
   "metadata": {},
   "outputs": [
    {
     "data": {
      "image/png": "[encoded data removed]",
      "text/plain": [
       "<Figure size 1728x288 with 3 Axes>"
      ]
     },
     "metadata": {
      "needs_background": "light"
     },
     "output_type": "display_data"
    }
   ],
   "source": [
    "fig, axes = plt.subplots(1,3)\n",
    "fig.set_size_inches(24,4)\n",
    "\n",
    "preds_digit = preds\n",
    "digit_1 = model_input[digit_list[digit_idx_1],:].cpu().numpy()\n",
    "digit_2 = model_input[digit_list[digit_idx_2],:].cpu().numpy()\n",
    "\n",
    "axes[0].imshow(np.reshape(preds_digit, (28,28)), cmap='gray')\n",
    "axes[0].set_xlabel('reconstructed digit from digit 1 and digit 2')\n",
    "axes[1].imshow(np.reshape(digit_1, (28,28)), cmap='gray')\n",
    "axes[1].set_xlabel('original digit 1')\n",
    "axes[2].imshow(np.reshape(digit_2, (28,28)), cmap='gray')\n",
    "axes[2].set_xlabel('original digit 2')\n",
    "\n",
    "fig.savefig(os.path.join(path_figures,'Section_3_3.pdf'))\n",
    "plt.show()"
   ]
  },
  {
   "cell_type": "markdown",
   "metadata": {},
   "source": [
    "### Question 3.1.1. Do the colors easily separate, or are they all clumped together? Which numbers are frequently embedded close together, and what does this mean?\n",
    "Answer: The colors are generally separable. The embeddings of 5 and 6 seem to clump together and this means that the handwritten digits of 5 and 6 are harder to separate.\n",
    "\n",
    "### Question 3.1.2. How realistic were the images you generated by interpolating between points in the latent space? Can you think of a better way to generate images with an autoencoder?\n",
    "Answer: The image I interpolated looks quite realistic to digit 2. A better way to generate images is to sample the embeddings based on some continuous distribution such as Gaussian, which will be similar to the idea of variational autoencoder."
   ]
  },
  {
   "cell_type": "markdown",
   "metadata": {},
   "source": [
    "## 3.2 Biological Data: Retinal Bipolar Dataset"
   ]
  },
  {
   "cell_type": "code",
   "execution_count": 1,
   "metadata": {},
   "outputs": [],
   "source": [
    "import pickle\n",
    "\n",
    "path_RB_root = os.getcwd().replace('code','data')\n",
    "\n",
    "with open(os.path.join(path_RB_root, 'retinal-bipolar-data.pickle'), 'rb') as f:\n",
    "    RB_data = pickle.load(f)\n",
    "\n",
    "with open(os.path.join(path_RB_root, 'retinal-bipolar-metadata.pickle'), 'rb') as f:\n",
    "    RB_meta_data = pickle.load(f)"
   ]
  },
  {
   "cell_type": "markdown",
   "metadata": {},
   "source": [
    "### Create a training and testing split of the data (choose an 80-20 split) and generate minibatches from your training data (shuffling the order of the points between epochs)."
   ]
  },
  {
   "cell_type": "code",
   "execution_count": 31,
   "metadata": {},
   "outputs": [],
   "source": [
    "n_split = 0.8\n",
    "n_feature = 784\n",
    "bs = 128\n",
    "\n",
    "totalNumOfSample = int(n_split*RB_data.shape[0])\n",
    "RB_data_train = torch.Tensor(RB_data.values[:totalNumOfSample, :n_feature].astype(np.float32))\n",
    "RB_label_train = torch.Tensor(RB_meta_data['CLUSTER'].values[:totalNumOfSample].astype(np.float32))\n",
    "RB_data_test = torch.Tensor(RB_data.values[totalNumOfSample:, :n_feature].astype(np.float32))\n",
    "RB_label_test = torch.Tensor(RB_meta_data['CLUSTER'].values[totalNumOfSample:].astype(np.float32))\n",
    "\n",
    "RB_train_dataset = TensorDataset(RB_data_train, RB_label_train)\n",
    "RB_test_dataset = TensorDataset(RB_data_test, RB_label_test)\n",
    "\n",
    "RB_train_dataloader = DataLoader(RB_train_dataset, batch_size=bs, shuffle=True)\n",
    "RB_test_dataloader = DataLoader(RB_test_dataset, batch_size=RB_data_test.cpu().numpy().shape[0], shuffle=True)\n"
   ]
  },
  {
   "cell_type": "code",
   "execution_count": 32,
   "metadata": {},
   "outputs": [
    {
     "name": "stdout",
     "output_type": "stream",
     "text": [
      "torch.Size([17241, 784])\n",
      "torch.Size([17241])\n",
      "torch.Size([4311, 784])\n",
      "torch.Size([4311])\n"
     ]
    }
   ],
   "source": [
    "print(RB_data_train.shape)\n",
    "print(RB_label_train.shape)\n",
    "print(RB_data_test.shape)\n",
    "print(RB_label_test.shape)"
   ]
  },
  {
   "cell_type": "markdown",
   "metadata": {},
   "source": [
    "### Starting with the same autoencoder architecture as the last section, change the last layer’s activation to a linear (instead of a sigmoid activation)"
   ]
  },
  {
   "cell_type": "code",
   "execution_count": 21,
   "metadata": {},
   "outputs": [],
   "source": [
    "class Autoencoder_RB(Autoencoder):\n",
    "    def encode(self, x):\n",
    "        x = tanh(self.enc_lin1(x))\n",
    "        x = tanh(self.enc_lin2(x))\n",
    "        x = tanh(self.enc_lin3(x))\n",
    "        x = self.enc_lin4(x)\n",
    "\n",
    "        # ... additional layers, plus possible nonlinearities.\n",
    "        return x"
   ]
  },
  {
   "cell_type": "code",
   "execution_count": 34,
   "metadata": {},
   "outputs": [
    {
     "name": "stderr",
     "output_type": "stream",
     "text": [
      "/home/xiaoranzhang/anaconda3/envs/torch_env/lib/python3.9/site-packages/torch/nn/functional.py:1795: UserWarning: nn.functional.tanh is deprecated. Use torch.tanh instead.\n",
      "  warnings.warn(\"nn.functional.tanh is deprecated. Use torch.tanh instead.\")\n"
     ]
    },
    {
     "name": "stdout",
     "output_type": "stream",
     "text": [
      " EPOCH 0. Progress: 0.0%. \n",
      " Train loss: 0.0017081410624086857. Test loss: 4.702854130300693e-05\n",
      " EPOCH 10. Progress: 10.0%. \n",
      " Train loss: 0.0017036006320267916. Test loss: 4.686633837991394e-05\n",
      " EPOCH 20. Progress: 20.0%. \n",
      " Train loss: 0.0017036466160789132. Test loss: 4.673840157920495e-05\n",
      " EPOCH 30. Progress: 30.0%. \n",
      " Train loss: 0.009501755237579346. Test loss: 0.00027749643777497113\n",
      " EPOCH 40. Progress: 40.0%. \n",
      " Train loss: 0.009502754546701908. Test loss: 0.00027753328322432935\n",
      " EPOCH 50. Progress: 50.0%. \n",
      " Train loss: 0.009498313069343567. Test loss: 0.00027740810764953494\n",
      " EPOCH 60. Progress: 60.0%. \n",
      " Train loss: 0.009491397067904472. Test loss: 0.0002772490552160889\n",
      " EPOCH 70. Progress: 70.0%. \n",
      " Train loss: 0.009491091594099998. Test loss: 0.0002772490552160889\n",
      " EPOCH 80. Progress: 80.0%. \n",
      " Train loss: 0.00949031487107277. Test loss: 0.0002772211446426809\n",
      " EPOCH 90. Progress: 90.0%. \n",
      " Train loss: 0.009490543976426125. Test loss: 0.0002772211446426809\n"
     ]
    }
   ],
   "source": [
    "lr = 0.003\n",
    "num_epochs = 100\n",
    "model_name = 'autoencoder_RB'\n",
    "\n",
    "model_ae = Autoencoder_RB()\n",
    "model_ae.to(device)\n",
    "mse_loss = nn.MSELoss()\n",
    "optimizer_ae = torch.optim.Adam(model_ae.parameters(), lr=lr)\n",
    "train_acc_list, test_acc_list = train_ae(model_ae, mse_loss, optimizer_ae, RB_train_dataloader, RB_test_dataloader, num_epochs)\n",
    "\n",
    "torch.save(model_ae, os.path.join(path_save, 'model_{}_bs_{}_lr_{}_epoch_{}.pth'.format(str(model_name), str(bs), str(lr), str(num_epochs))))"
   ]
  },
  {
   "cell_type": "markdown",
   "metadata": {},
   "source": [
    "### After training your model, plot the 2-dimensional embedding of the test set. Color this with the ground truth cluster labels."
   ]
  },
  {
   "cell_type": "code",
   "execution_count": 35,
   "metadata": {},
   "outputs": [
    {
     "data": {
      "image/png": "[encoded data removed]",
      "text/plain": [
       "<Figure size 432x288 with 1 Axes>"
      ]
     },
     "metadata": {
      "needs_background": "light"
     },
     "output_type": "display_data"
    }
   ],
   "source": [
    "for data, target in RB_test_dataloader:\n",
    "    with torch.no_grad():\n",
    "        data = data.to(device)\n",
    "        model_input = data.view(-1, 784)\n",
    "        embedds = model_ae.encode(model_input).cpu().numpy()\n",
    "        preds = model_ae(model_input).cpu().numpy()\n",
    "        labels = target.cpu().numpy()\n",
    "        inputs = model_input.cpu().numpy()\n",
    "        break # just load one batch\n",
    "\n",
    "fig = plt.figure()\n",
    "ax = fig.add_subplot()\n",
    "scatter = ax.scatter(embedds[:,0], embedds[:,1], c=labels)\n",
    "legend = ax.legend(*scatter.legend_elements(), title='label')\n",
    "ax.add_artist(legend)\n",
    "fig.savefig(os.path.join(path_figures,'Section_3_4.pdf'))\n",
    "plt.show()"
   ]
  },
  {
   "cell_type": "markdown",
   "metadata": {},
   "source": [
    "### Question 3.2.1. How many clusters are visible in the embedding? Do they correspond to the cluster labels?\n",
    "Answer: It seems that only three clusters are forming in the embedding. The variance in y is small and numbers found in the sample value of x ends up in one of the three bins."
   ]
  },
  {
   "cell_type": "markdown",
   "metadata": {},
   "source": [
    "# 4 Generative models\n",
    "## 4.1 The Variational Autoencoder\n",
    "### Section 1 please check vae.py\n",
    "### Train your VAE on MNIST. How well does it perform on the test set relative to your vanilla autoen- coder? (You can run the VAE by executing python vae.py --arguments here)."
   ]
  },
  {
   "cell_type": "code",
   "execution_count": 49,
   "metadata": {},
   "outputs": [
    {
     "name": "stdout",
     "output_type": "stream",
     "text": [
      "Train Epoch: 1 [0/60000 (0%)]\tLoss: 550.513916\n",
      "Train Epoch: 1 [1280/60000 (2%)]\tLoss: 310.610535\n",
      "Train Epoch: 1 [2560/60000 (4%)]\tLoss: 240.650162\n",
      "Train Epoch: 1 [3840/60000 (6%)]\tLoss: 219.223282\n",
      "Train Epoch: 1 [5120/60000 (9%)]\tLoss: 215.092834\n",
      "Train Epoch: 1 [6400/60000 (11%)]\tLoss: 208.450150\n",
      "Train Epoch: 1 [7680/60000 (13%)]\tLoss: 203.374268\n",
      "Train Epoch: 1 [8960/60000 (15%)]\tLoss: 193.761398\n",
      "Train Epoch: 1 [10240/60000 (17%)]\tLoss: 194.701691\n",
      "Train Epoch: 1 [11520/60000 (19%)]\tLoss: 192.943787\n",
      "Train Epoch: 1 [12800/60000 (21%)]\tLoss: 179.935974\n",
      "Train Epoch: 1 [14080/60000 (23%)]\tLoss: 174.059174\n",
      "Train Epoch: 1 [15360/60000 (26%)]\tLoss: 182.615799\n",
      "Train Epoch: 1 [16640/60000 (28%)]\tLoss: 168.166245\n",
      "Train Epoch: 1 [17920/60000 (30%)]\tLoss: 166.474197\n",
      "Train Epoch: 1 [19200/60000 (32%)]\tLoss: 161.467590\n",
      "Train Epoch: 1 [20480/60000 (34%)]\tLoss: 162.560577\n",
      "Train Epoch: 1 [21760/60000 (36%)]\tLoss: 151.491119\n",
      "Train Epoch: 1 [23040/60000 (38%)]\tLoss: 157.329208\n",
      "Train Epoch: 1 [24320/60000 (41%)]\tLoss: 154.508270\n",
      "Train Epoch: 1 [25600/60000 (43%)]\tLoss: 155.947128\n",
      "Train Epoch: 1 [26880/60000 (45%)]\tLoss: 150.704407\n",
      "Train Epoch: 1 [28160/60000 (47%)]\tLoss: 153.140961\n",
      "Train Epoch: 1 [29440/60000 (49%)]\tLoss: 146.401535\n",
      "Train Epoch: 1 [30720/60000 (51%)]\tLoss: 141.688751\n",
      "Train Epoch: 1 [32000/60000 (53%)]\tLoss: 144.736603\n",
      "Train Epoch: 1 [33280/60000 (55%)]\tLoss: 144.681290\n",
      "Train Epoch: 1 [34560/60000 (58%)]\tLoss: 145.765518\n",
      "Train Epoch: 1 [35840/60000 (60%)]\tLoss: 137.349380\n",
      "Train Epoch: 1 [37120/60000 (62%)]\tLoss: 142.360214\n",
      "Train Epoch: 1 [38400/60000 (64%)]\tLoss: 139.197067\n",
      "Train Epoch: 1 [39680/60000 (66%)]\tLoss: 135.043091\n",
      "Train Epoch: 1 [40960/60000 (68%)]\tLoss: 141.403214\n",
      "Train Epoch: 1 [42240/60000 (70%)]\tLoss: 141.775909\n",
      "Train Epoch: 1 [43520/60000 (72%)]\tLoss: 140.087769\n",
      "Train Epoch: 1 [44800/60000 (75%)]\tLoss: 135.145599\n",
      "Train Epoch: 1 [46080/60000 (77%)]\tLoss: 140.357910\n",
      "Train Epoch: 1 [47360/60000 (79%)]\tLoss: 132.954529\n",
      "Train Epoch: 1 [48640/60000 (81%)]\tLoss: 131.553711\n",
      "Train Epoch: 1 [49920/60000 (83%)]\tLoss: 130.639999\n",
      "Train Epoch: 1 [51200/60000 (85%)]\tLoss: 131.357391\n",
      "Train Epoch: 1 [52480/60000 (87%)]\tLoss: 131.015793\n",
      "Train Epoch: 1 [53760/60000 (90%)]\tLoss: 132.620331\n",
      "Train Epoch: 1 [55040/60000 (92%)]\tLoss: 126.406624\n",
      "Train Epoch: 1 [56320/60000 (94%)]\tLoss: 137.493317\n",
      "Train Epoch: 1 [57600/60000 (96%)]\tLoss: 129.700119\n",
      "Train Epoch: 1 [58880/60000 (98%)]\tLoss: 132.308182\n",
      "====> Epoch: 1 Average loss: 164.3932\n",
      "====> Test set loss: 127.1262\n",
      "Train Epoch: 2 [0/60000 (0%)]\tLoss: 125.535873\n",
      "Train Epoch: 2 [1280/60000 (2%)]\tLoss: 131.477020\n",
      "Train Epoch: 2 [2560/60000 (4%)]\tLoss: 128.273682\n",
      "Train Epoch: 2 [3840/60000 (6%)]\tLoss: 129.233337\n",
      "Train Epoch: 2 [5120/60000 (9%)]\tLoss: 127.049393\n",
      "Train Epoch: 2 [6400/60000 (11%)]\tLoss: 124.260353\n",
      "Train Epoch: 2 [7680/60000 (13%)]\tLoss: 125.568207\n",
      "Train Epoch: 2 [8960/60000 (15%)]\tLoss: 131.587036\n",
      "Train Epoch: 2 [10240/60000 (17%)]\tLoss: 124.160423\n",
      "Train Epoch: 2 [11520/60000 (19%)]\tLoss: 129.391907\n",
      "Train Epoch: 2 [12800/60000 (21%)]\tLoss: 124.939484\n",
      "Train Epoch: 2 [14080/60000 (23%)]\tLoss: 123.899483\n",
      "Train Epoch: 2 [15360/60000 (26%)]\tLoss: 129.144165\n",
      "Train Epoch: 2 [16640/60000 (28%)]\tLoss: 117.747879\n",
      "Train Epoch: 2 [17920/60000 (30%)]\tLoss: 128.577728\n",
      "Train Epoch: 2 [19200/60000 (32%)]\tLoss: 126.573441\n",
      "Train Epoch: 2 [20480/60000 (34%)]\tLoss: 121.923729\n",
      "Train Epoch: 2 [21760/60000 (36%)]\tLoss: 121.998512\n",
      "Train Epoch: 2 [23040/60000 (38%)]\tLoss: 123.425346\n",
      "Train Epoch: 2 [24320/60000 (41%)]\tLoss: 126.384003\n",
      "Train Epoch: 2 [25600/60000 (43%)]\tLoss: 123.315178\n",
      "Train Epoch: 2 [26880/60000 (45%)]\tLoss: 122.613266\n",
      "Train Epoch: 2 [28160/60000 (47%)]\tLoss: 120.674988\n",
      "Train Epoch: 2 [29440/60000 (49%)]\tLoss: 121.835434\n",
      "Train Epoch: 2 [30720/60000 (51%)]\tLoss: 121.354088\n",
      "Train Epoch: 2 [32000/60000 (53%)]\tLoss: 117.470314\n",
      "Train Epoch: 2 [33280/60000 (55%)]\tLoss: 114.733414\n",
      "Train Epoch: 2 [34560/60000 (58%)]\tLoss: 128.560532\n",
      "Train Epoch: 2 [35840/60000 (60%)]\tLoss: 118.608986\n",
      "Train Epoch: 2 [37120/60000 (62%)]\tLoss: 119.012131\n",
      "Train Epoch: 2 [38400/60000 (64%)]\tLoss: 118.315994\n",
      "Train Epoch: 2 [39680/60000 (66%)]\tLoss: 118.106857\n",
      "Train Epoch: 2 [40960/60000 (68%)]\tLoss: 118.166054\n",
      "Train Epoch: 2 [42240/60000 (70%)]\tLoss: 118.680847\n",
      "Train Epoch: 2 [43520/60000 (72%)]\tLoss: 116.305542\n",
      "Train Epoch: 2 [44800/60000 (75%)]\tLoss: 114.640320\n",
      "Train Epoch: 2 [46080/60000 (77%)]\tLoss: 117.191109\n",
      "Train Epoch: 2 [47360/60000 (79%)]\tLoss: 118.408707\n",
      "Train Epoch: 2 [48640/60000 (81%)]\tLoss: 119.088081\n",
      "Train Epoch: 2 [49920/60000 (83%)]\tLoss: 123.146927\n",
      "Train Epoch: 2 [51200/60000 (85%)]\tLoss: 117.070839\n",
      "Train Epoch: 2 [52480/60000 (87%)]\tLoss: 115.501419\n",
      "Train Epoch: 2 [53760/60000 (90%)]\tLoss: 119.065201\n",
      "Train Epoch: 2 [55040/60000 (92%)]\tLoss: 116.253250\n",
      "Train Epoch: 2 [56320/60000 (94%)]\tLoss: 116.849663\n",
      "Train Epoch: 2 [57600/60000 (96%)]\tLoss: 119.891922\n",
      "Train Epoch: 2 [58880/60000 (98%)]\tLoss: 116.468521\n",
      "====> Epoch: 2 Average loss: 121.4586\n",
      "====> Test set loss: 116.0417\n",
      "Train Epoch: 3 [0/60000 (0%)]\tLoss: 120.296066\n",
      "Train Epoch: 3 [1280/60000 (2%)]\tLoss: 120.106651\n",
      "Train Epoch: 3 [2560/60000 (4%)]\tLoss: 114.243118\n",
      "Train Epoch: 3 [3840/60000 (6%)]\tLoss: 114.746696\n",
      "Train Epoch: 3 [5120/60000 (9%)]\tLoss: 116.854485\n",
      "Train Epoch: 3 [6400/60000 (11%)]\tLoss: 110.232544\n",
      "Train Epoch: 3 [7680/60000 (13%)]\tLoss: 116.535187\n",
      "Train Epoch: 3 [8960/60000 (15%)]\tLoss: 115.031769\n",
      "Train Epoch: 3 [10240/60000 (17%)]\tLoss: 116.219406\n",
      "Train Epoch: 3 [11520/60000 (19%)]\tLoss: 113.384880\n",
      "Train Epoch: 3 [12800/60000 (21%)]\tLoss: 113.316544\n",
      "Train Epoch: 3 [14080/60000 (23%)]\tLoss: 116.036942\n",
      "Train Epoch: 3 [15360/60000 (26%)]\tLoss: 112.938385\n",
      "Train Epoch: 3 [16640/60000 (28%)]\tLoss: 116.452530\n",
      "Train Epoch: 3 [17920/60000 (30%)]\tLoss: 112.208824\n",
      "Train Epoch: 3 [19200/60000 (32%)]\tLoss: 115.711273\n",
      "Train Epoch: 3 [20480/60000 (34%)]\tLoss: 118.686096\n",
      "Train Epoch: 3 [21760/60000 (36%)]\tLoss: 117.976364\n",
      "Train Epoch: 3 [23040/60000 (38%)]\tLoss: 113.902908\n",
      "Train Epoch: 3 [24320/60000 (41%)]\tLoss: 120.138832\n",
      "Train Epoch: 3 [25600/60000 (43%)]\tLoss: 114.611214\n",
      "Train Epoch: 3 [26880/60000 (45%)]\tLoss: 115.597183\n",
      "Train Epoch: 3 [28160/60000 (47%)]\tLoss: 114.485115\n",
      "Train Epoch: 3 [29440/60000 (49%)]\tLoss: 115.054443\n",
      "Train Epoch: 3 [30720/60000 (51%)]\tLoss: 118.494202\n",
      "Train Epoch: 3 [32000/60000 (53%)]\tLoss: 114.693443\n",
      "Train Epoch: 3 [33280/60000 (55%)]\tLoss: 115.068649\n",
      "Train Epoch: 3 [34560/60000 (58%)]\tLoss: 115.588120\n",
      "Train Epoch: 3 [35840/60000 (60%)]\tLoss: 116.201035\n",
      "Train Epoch: 3 [37120/60000 (62%)]\tLoss: 116.104370\n",
      "Train Epoch: 3 [38400/60000 (64%)]\tLoss: 115.169296\n",
      "Train Epoch: 3 [39680/60000 (66%)]\tLoss: 115.497551\n",
      "Train Epoch: 3 [40960/60000 (68%)]\tLoss: 116.682724\n",
      "Train Epoch: 3 [42240/60000 (70%)]\tLoss: 110.929100\n",
      "Train Epoch: 3 [43520/60000 (72%)]\tLoss: 111.843788\n",
      "Train Epoch: 3 [44800/60000 (75%)]\tLoss: 111.168198\n",
      "Train Epoch: 3 [46080/60000 (77%)]\tLoss: 112.718018\n",
      "Train Epoch: 3 [47360/60000 (79%)]\tLoss: 117.361702\n",
      "Train Epoch: 3 [48640/60000 (81%)]\tLoss: 114.392502\n",
      "Train Epoch: 3 [49920/60000 (83%)]\tLoss: 114.049614\n",
      "Train Epoch: 3 [51200/60000 (85%)]\tLoss: 113.015976\n",
      "Train Epoch: 3 [52480/60000 (87%)]\tLoss: 113.492493\n",
      "Train Epoch: 3 [53760/60000 (90%)]\tLoss: 110.972893\n",
      "Train Epoch: 3 [55040/60000 (92%)]\tLoss: 115.558853\n",
      "Train Epoch: 3 [56320/60000 (94%)]\tLoss: 112.501053\n",
      "Train Epoch: 3 [57600/60000 (96%)]\tLoss: 114.945267\n",
      "Train Epoch: 3 [58880/60000 (98%)]\tLoss: 109.844193\n",
      "====> Epoch: 3 Average loss: 114.4005\n",
      "====> Test set loss: 111.5367\n",
      "Train Epoch: 4 [0/60000 (0%)]\tLoss: 113.615578\n",
      "Train Epoch: 4 [1280/60000 (2%)]\tLoss: 117.178650\n",
      "Train Epoch: 4 [2560/60000 (4%)]\tLoss: 114.397842\n",
      "Train Epoch: 4 [3840/60000 (6%)]\tLoss: 112.539162\n",
      "Train Epoch: 4 [5120/60000 (9%)]\tLoss: 114.348732\n",
      "Train Epoch: 4 [6400/60000 (11%)]\tLoss: 113.261871\n",
      "Train Epoch: 4 [7680/60000 (13%)]\tLoss: 113.401688\n",
      "Train Epoch: 4 [8960/60000 (15%)]\tLoss: 112.113800\n",
      "Train Epoch: 4 [10240/60000 (17%)]\tLoss: 111.566582\n",
      "Train Epoch: 4 [11520/60000 (19%)]\tLoss: 108.375977\n",
      "Train Epoch: 4 [12800/60000 (21%)]\tLoss: 112.694687\n",
      "Train Epoch: 4 [14080/60000 (23%)]\tLoss: 111.022934\n",
      "Train Epoch: 4 [15360/60000 (26%)]\tLoss: 112.899078\n",
      "Train Epoch: 4 [16640/60000 (28%)]\tLoss: 109.182274\n",
      "Train Epoch: 4 [17920/60000 (30%)]\tLoss: 112.508850\n",
      "Train Epoch: 4 [19200/60000 (32%)]\tLoss: 107.165749\n",
      "Train Epoch: 4 [20480/60000 (34%)]\tLoss: 106.866333\n",
      "Train Epoch: 4 [21760/60000 (36%)]\tLoss: 112.705818\n",
      "Train Epoch: 4 [23040/60000 (38%)]\tLoss: 110.920410\n",
      "Train Epoch: 4 [24320/60000 (41%)]\tLoss: 110.755798\n",
      "Train Epoch: 4 [25600/60000 (43%)]\tLoss: 114.568665\n",
      "Train Epoch: 4 [26880/60000 (45%)]\tLoss: 115.242157\n",
      "Train Epoch: 4 [28160/60000 (47%)]\tLoss: 111.938110\n",
      "Train Epoch: 4 [29440/60000 (49%)]\tLoss: 110.974945\n",
      "Train Epoch: 4 [30720/60000 (51%)]\tLoss: 108.887085\n",
      "Train Epoch: 4 [32000/60000 (53%)]\tLoss: 110.181458\n",
      "Train Epoch: 4 [33280/60000 (55%)]\tLoss: 108.104034\n",
      "Train Epoch: 4 [34560/60000 (58%)]\tLoss: 109.684921\n",
      "Train Epoch: 4 [35840/60000 (60%)]\tLoss: 106.182327\n",
      "Train Epoch: 4 [37120/60000 (62%)]\tLoss: 110.109459\n",
      "Train Epoch: 4 [38400/60000 (64%)]\tLoss: 111.840340\n",
      "Train Epoch: 4 [39680/60000 (66%)]\tLoss: 114.688583\n",
      "Train Epoch: 4 [40960/60000 (68%)]\tLoss: 112.778084\n",
      "Train Epoch: 4 [42240/60000 (70%)]\tLoss: 108.759384\n",
      "Train Epoch: 4 [43520/60000 (72%)]\tLoss: 113.430641\n",
      "Train Epoch: 4 [44800/60000 (75%)]\tLoss: 106.302727\n",
      "Train Epoch: 4 [46080/60000 (77%)]\tLoss: 110.591820\n",
      "Train Epoch: 4 [47360/60000 (79%)]\tLoss: 113.711258\n",
      "Train Epoch: 4 [48640/60000 (81%)]\tLoss: 110.368332\n",
      "Train Epoch: 4 [49920/60000 (83%)]\tLoss: 114.458008\n",
      "Train Epoch: 4 [51200/60000 (85%)]\tLoss: 112.680672\n",
      "Train Epoch: 4 [52480/60000 (87%)]\tLoss: 112.330994\n",
      "Train Epoch: 4 [53760/60000 (90%)]\tLoss: 109.988037\n",
      "Train Epoch: 4 [55040/60000 (92%)]\tLoss: 109.544281\n",
      "Train Epoch: 4 [56320/60000 (94%)]\tLoss: 111.551651\n",
      "Train Epoch: 4 [57600/60000 (96%)]\tLoss: 113.451370\n",
      "Train Epoch: 4 [58880/60000 (98%)]\tLoss: 111.917374\n",
      "====> Epoch: 4 Average loss: 111.4813\n",
      "====> Test set loss: 109.8046\n",
      "Train Epoch: 5 [0/60000 (0%)]\tLoss: 112.991783\n",
      "Train Epoch: 5 [1280/60000 (2%)]\tLoss: 108.989746\n",
      "Train Epoch: 5 [2560/60000 (4%)]\tLoss: 108.004852\n",
      "Train Epoch: 5 [3840/60000 (6%)]\tLoss: 108.123047\n",
      "Train Epoch: 5 [5120/60000 (9%)]\tLoss: 109.295609\n",
      "Train Epoch: 5 [6400/60000 (11%)]\tLoss: 111.604500\n",
      "Train Epoch: 5 [7680/60000 (13%)]\tLoss: 112.504807\n",
      "Train Epoch: 5 [8960/60000 (15%)]\tLoss: 111.840721\n",
      "Train Epoch: 5 [10240/60000 (17%)]\tLoss: 106.736221\n",
      "Train Epoch: 5 [11520/60000 (19%)]\tLoss: 109.404976\n",
      "Train Epoch: 5 [12800/60000 (21%)]\tLoss: 111.003838\n",
      "Train Epoch: 5 [14080/60000 (23%)]\tLoss: 106.550278\n",
      "Train Epoch: 5 [15360/60000 (26%)]\tLoss: 108.456451\n",
      "Train Epoch: 5 [16640/60000 (28%)]\tLoss: 108.284164\n",
      "Train Epoch: 5 [17920/60000 (30%)]\tLoss: 105.083572\n",
      "Train Epoch: 5 [19200/60000 (32%)]\tLoss: 108.913528\n",
      "Train Epoch: 5 [20480/60000 (34%)]\tLoss: 108.706261\n",
      "Train Epoch: 5 [21760/60000 (36%)]\tLoss: 111.635483\n",
      "Train Epoch: 5 [23040/60000 (38%)]\tLoss: 113.879669\n",
      "Train Epoch: 5 [24320/60000 (41%)]\tLoss: 108.390800\n",
      "Train Epoch: 5 [25600/60000 (43%)]\tLoss: 110.565384\n",
      "Train Epoch: 5 [26880/60000 (45%)]\tLoss: 109.312050\n",
      "Train Epoch: 5 [28160/60000 (47%)]\tLoss: 104.949638\n",
      "Train Epoch: 5 [29440/60000 (49%)]\tLoss: 111.242813\n",
      "Train Epoch: 5 [30720/60000 (51%)]\tLoss: 110.453484\n",
      "Train Epoch: 5 [32000/60000 (53%)]\tLoss: 109.355637\n",
      "Train Epoch: 5 [33280/60000 (55%)]\tLoss: 112.656090\n",
      "Train Epoch: 5 [34560/60000 (58%)]\tLoss: 109.362747\n",
      "Train Epoch: 5 [35840/60000 (60%)]\tLoss: 106.413055\n",
      "Train Epoch: 5 [37120/60000 (62%)]\tLoss: 109.362267\n",
      "Train Epoch: 5 [38400/60000 (64%)]\tLoss: 110.037140\n",
      "Train Epoch: 5 [39680/60000 (66%)]\tLoss: 105.842995\n",
      "Train Epoch: 5 [40960/60000 (68%)]\tLoss: 110.943802\n",
      "Train Epoch: 5 [42240/60000 (70%)]\tLoss: 105.749878\n",
      "Train Epoch: 5 [43520/60000 (72%)]\tLoss: 113.949707\n",
      "Train Epoch: 5 [44800/60000 (75%)]\tLoss: 107.526169\n",
      "Train Epoch: 5 [46080/60000 (77%)]\tLoss: 108.988037\n",
      "Train Epoch: 5 [47360/60000 (79%)]\tLoss: 108.074226\n",
      "Train Epoch: 5 [48640/60000 (81%)]\tLoss: 111.953331\n",
      "Train Epoch: 5 [49920/60000 (83%)]\tLoss: 107.496529\n",
      "Train Epoch: 5 [51200/60000 (85%)]\tLoss: 108.496704\n",
      "Train Epoch: 5 [52480/60000 (87%)]\tLoss: 109.846619\n",
      "Train Epoch: 5 [53760/60000 (90%)]\tLoss: 109.132050\n",
      "Train Epoch: 5 [55040/60000 (92%)]\tLoss: 110.426025\n",
      "Train Epoch: 5 [56320/60000 (94%)]\tLoss: 109.541641\n",
      "Train Epoch: 5 [57600/60000 (96%)]\tLoss: 110.152527\n",
      "Train Epoch: 5 [58880/60000 (98%)]\tLoss: 105.980377\n",
      "====> Epoch: 5 Average loss: 109.7551\n",
      "====> Test set loss: 108.4793\n",
      "Train Epoch: 6 [0/60000 (0%)]\tLoss: 108.505859\n",
      "Train Epoch: 6 [1280/60000 (2%)]\tLoss: 109.834488\n",
      "Train Epoch: 6 [2560/60000 (4%)]\tLoss: 106.853470\n",
      "Train Epoch: 6 [3840/60000 (6%)]\tLoss: 109.281166\n",
      "Train Epoch: 6 [5120/60000 (9%)]\tLoss: 104.007095\n",
      "Train Epoch: 6 [6400/60000 (11%)]\tLoss: 108.719223\n",
      "Train Epoch: 6 [7680/60000 (13%)]\tLoss: 108.563705\n",
      "Train Epoch: 6 [8960/60000 (15%)]\tLoss: 107.902664\n",
      "Train Epoch: 6 [10240/60000 (17%)]\tLoss: 108.561569\n",
      "Train Epoch: 6 [11520/60000 (19%)]\tLoss: 109.297264\n",
      "Train Epoch: 6 [12800/60000 (21%)]\tLoss: 109.594994\n",
      "Train Epoch: 6 [14080/60000 (23%)]\tLoss: 103.630516\n",
      "Train Epoch: 6 [15360/60000 (26%)]\tLoss: 110.680672\n",
      "Train Epoch: 6 [16640/60000 (28%)]\tLoss: 108.052086\n",
      "Train Epoch: 6 [17920/60000 (30%)]\tLoss: 105.734749\n",
      "Train Epoch: 6 [19200/60000 (32%)]\tLoss: 107.807793\n",
      "Train Epoch: 6 [20480/60000 (34%)]\tLoss: 107.628380\n",
      "Train Epoch: 6 [21760/60000 (36%)]\tLoss: 108.349213\n",
      "Train Epoch: 6 [23040/60000 (38%)]\tLoss: 106.557243\n",
      "Train Epoch: 6 [24320/60000 (41%)]\tLoss: 111.445297\n",
      "Train Epoch: 6 [25600/60000 (43%)]\tLoss: 109.805031\n",
      "Train Epoch: 6 [26880/60000 (45%)]\tLoss: 106.308975\n",
      "Train Epoch: 6 [28160/60000 (47%)]\tLoss: 110.326881\n",
      "Train Epoch: 6 [29440/60000 (49%)]\tLoss: 106.622849\n",
      "Train Epoch: 6 [30720/60000 (51%)]\tLoss: 109.760956\n",
      "Train Epoch: 6 [32000/60000 (53%)]\tLoss: 112.280128\n",
      "Train Epoch: 6 [33280/60000 (55%)]\tLoss: 110.038147\n",
      "Train Epoch: 6 [34560/60000 (58%)]\tLoss: 108.453644\n",
      "Train Epoch: 6 [35840/60000 (60%)]\tLoss: 106.972229\n",
      "Train Epoch: 6 [37120/60000 (62%)]\tLoss: 104.929672\n",
      "Train Epoch: 6 [38400/60000 (64%)]\tLoss: 108.170044\n",
      "Train Epoch: 6 [39680/60000 (66%)]\tLoss: 108.734467\n",
      "Train Epoch: 6 [40960/60000 (68%)]\tLoss: 108.966034\n",
      "Train Epoch: 6 [42240/60000 (70%)]\tLoss: 111.175690\n",
      "Train Epoch: 6 [43520/60000 (72%)]\tLoss: 108.248665\n",
      "Train Epoch: 6 [44800/60000 (75%)]\tLoss: 110.408234\n",
      "Train Epoch: 6 [46080/60000 (77%)]\tLoss: 108.973221\n",
      "Train Epoch: 6 [47360/60000 (79%)]\tLoss: 110.595215\n",
      "Train Epoch: 6 [48640/60000 (81%)]\tLoss: 111.061417\n",
      "Train Epoch: 6 [49920/60000 (83%)]\tLoss: 107.301987\n",
      "Train Epoch: 6 [51200/60000 (85%)]\tLoss: 109.759499\n",
      "Train Epoch: 6 [52480/60000 (87%)]\tLoss: 107.855042\n",
      "Train Epoch: 6 [53760/60000 (90%)]\tLoss: 106.868843\n",
      "Train Epoch: 6 [55040/60000 (92%)]\tLoss: 109.547920\n",
      "Train Epoch: 6 [56320/60000 (94%)]\tLoss: 108.891655\n",
      "Train Epoch: 6 [57600/60000 (96%)]\tLoss: 107.840752\n",
      "Train Epoch: 6 [58880/60000 (98%)]\tLoss: 106.073227\n",
      "====> Epoch: 6 Average loss: 108.6459\n",
      "====> Test set loss: 107.2975\n",
      "Train Epoch: 7 [0/60000 (0%)]\tLoss: 105.730301\n",
      "Train Epoch: 7 [1280/60000 (2%)]\tLoss: 109.658615\n",
      "Train Epoch: 7 [2560/60000 (4%)]\tLoss: 106.546844\n",
      "Train Epoch: 7 [3840/60000 (6%)]\tLoss: 106.082489\n",
      "Train Epoch: 7 [5120/60000 (9%)]\tLoss: 109.986687\n",
      "Train Epoch: 7 [6400/60000 (11%)]\tLoss: 103.700600\n",
      "Train Epoch: 7 [7680/60000 (13%)]\tLoss: 111.700012\n",
      "Train Epoch: 7 [8960/60000 (15%)]\tLoss: 111.790642\n",
      "Train Epoch: 7 [10240/60000 (17%)]\tLoss: 108.633942\n",
      "Train Epoch: 7 [11520/60000 (19%)]\tLoss: 105.828362\n",
      "Train Epoch: 7 [12800/60000 (21%)]\tLoss: 108.727997\n",
      "Train Epoch: 7 [14080/60000 (23%)]\tLoss: 110.896446\n",
      "Train Epoch: 7 [15360/60000 (26%)]\tLoss: 105.045837\n",
      "Train Epoch: 7 [16640/60000 (28%)]\tLoss: 113.660316\n",
      "Train Epoch: 7 [17920/60000 (30%)]\tLoss: 104.312210\n",
      "Train Epoch: 7 [19200/60000 (32%)]\tLoss: 108.212662\n",
      "Train Epoch: 7 [20480/60000 (34%)]\tLoss: 109.566238\n",
      "Train Epoch: 7 [21760/60000 (36%)]\tLoss: 109.173126\n",
      "Train Epoch: 7 [23040/60000 (38%)]\tLoss: 107.205643\n",
      "Train Epoch: 7 [24320/60000 (41%)]\tLoss: 108.830742\n",
      "Train Epoch: 7 [25600/60000 (43%)]\tLoss: 105.068192\n",
      "Train Epoch: 7 [26880/60000 (45%)]\tLoss: 107.802322\n",
      "Train Epoch: 7 [28160/60000 (47%)]\tLoss: 107.595398\n",
      "Train Epoch: 7 [29440/60000 (49%)]\tLoss: 104.832344\n",
      "Train Epoch: 7 [30720/60000 (51%)]\tLoss: 106.664177\n",
      "Train Epoch: 7 [32000/60000 (53%)]\tLoss: 106.527817\n",
      "Train Epoch: 7 [33280/60000 (55%)]\tLoss: 109.081787\n",
      "Train Epoch: 7 [34560/60000 (58%)]\tLoss: 103.392342\n",
      "Train Epoch: 7 [35840/60000 (60%)]\tLoss: 107.233299\n",
      "Train Epoch: 7 [37120/60000 (62%)]\tLoss: 108.840073\n",
      "Train Epoch: 7 [38400/60000 (64%)]\tLoss: 105.958107\n",
      "Train Epoch: 7 [39680/60000 (66%)]\tLoss: 105.913879\n",
      "Train Epoch: 7 [40960/60000 (68%)]\tLoss: 108.513351\n",
      "Train Epoch: 7 [42240/60000 (70%)]\tLoss: 104.383499\n",
      "Train Epoch: 7 [43520/60000 (72%)]\tLoss: 108.467857\n",
      "Train Epoch: 7 [44800/60000 (75%)]\tLoss: 106.140060\n",
      "Train Epoch: 7 [46080/60000 (77%)]\tLoss: 109.998230\n",
      "Train Epoch: 7 [47360/60000 (79%)]\tLoss: 106.991348\n",
      "Train Epoch: 7 [48640/60000 (81%)]\tLoss: 104.442917\n",
      "Train Epoch: 7 [49920/60000 (83%)]\tLoss: 108.629639\n",
      "Train Epoch: 7 [51200/60000 (85%)]\tLoss: 106.790794\n",
      "Train Epoch: 7 [52480/60000 (87%)]\tLoss: 106.558090\n",
      "Train Epoch: 7 [53760/60000 (90%)]\tLoss: 106.096481\n",
      "Train Epoch: 7 [55040/60000 (92%)]\tLoss: 107.494843\n",
      "Train Epoch: 7 [56320/60000 (94%)]\tLoss: 109.315727\n",
      "Train Epoch: 7 [57600/60000 (96%)]\tLoss: 106.098938\n",
      "Train Epoch: 7 [58880/60000 (98%)]\tLoss: 109.080879\n",
      "====> Epoch: 7 Average loss: 107.7092\n",
      "====> Test set loss: 106.8546\n",
      "Train Epoch: 8 [0/60000 (0%)]\tLoss: 105.041023\n",
      "Train Epoch: 8 [1280/60000 (2%)]\tLoss: 112.572037\n",
      "Train Epoch: 8 [2560/60000 (4%)]\tLoss: 108.288094\n",
      "Train Epoch: 8 [3840/60000 (6%)]\tLoss: 105.973122\n",
      "Train Epoch: 8 [5120/60000 (9%)]\tLoss: 107.764000\n",
      "Train Epoch: 8 [6400/60000 (11%)]\tLoss: 107.273743\n",
      "Train Epoch: 8 [7680/60000 (13%)]\tLoss: 107.516846\n",
      "Train Epoch: 8 [8960/60000 (15%)]\tLoss: 109.439896\n",
      "Train Epoch: 8 [10240/60000 (17%)]\tLoss: 108.526367\n",
      "Train Epoch: 8 [11520/60000 (19%)]\tLoss: 106.048325\n",
      "Train Epoch: 8 [12800/60000 (21%)]\tLoss: 111.425194\n",
      "Train Epoch: 8 [14080/60000 (23%)]\tLoss: 106.403908\n",
      "Train Epoch: 8 [15360/60000 (26%)]\tLoss: 108.006668\n",
      "Train Epoch: 8 [16640/60000 (28%)]\tLoss: 104.422546\n",
      "Train Epoch: 8 [17920/60000 (30%)]\tLoss: 109.322662\n",
      "Train Epoch: 8 [19200/60000 (32%)]\tLoss: 109.860077\n",
      "Train Epoch: 8 [20480/60000 (34%)]\tLoss: 108.677666\n",
      "Train Epoch: 8 [21760/60000 (36%)]\tLoss: 103.639267\n",
      "Train Epoch: 8 [23040/60000 (38%)]\tLoss: 109.182808\n",
      "Train Epoch: 8 [24320/60000 (41%)]\tLoss: 105.691177\n",
      "Train Epoch: 8 [25600/60000 (43%)]\tLoss: 105.480774\n",
      "Train Epoch: 8 [26880/60000 (45%)]\tLoss: 103.903641\n",
      "Train Epoch: 8 [28160/60000 (47%)]\tLoss: 109.933189\n",
      "Train Epoch: 8 [29440/60000 (49%)]\tLoss: 106.123283\n",
      "Train Epoch: 8 [30720/60000 (51%)]\tLoss: 109.700577\n",
      "Train Epoch: 8 [32000/60000 (53%)]\tLoss: 110.203171\n",
      "Train Epoch: 8 [33280/60000 (55%)]\tLoss: 105.755280\n",
      "Train Epoch: 8 [34560/60000 (58%)]\tLoss: 111.894440\n",
      "Train Epoch: 8 [35840/60000 (60%)]\tLoss: 106.857391\n",
      "Train Epoch: 8 [37120/60000 (62%)]\tLoss: 104.462814\n",
      "Train Epoch: 8 [38400/60000 (64%)]\tLoss: 106.989044\n",
      "Train Epoch: 8 [39680/60000 (66%)]\tLoss: 105.153961\n",
      "Train Epoch: 8 [40960/60000 (68%)]\tLoss: 107.828552\n",
      "Train Epoch: 8 [42240/60000 (70%)]\tLoss: 103.774956\n",
      "Train Epoch: 8 [43520/60000 (72%)]\tLoss: 107.153854\n",
      "Train Epoch: 8 [44800/60000 (75%)]\tLoss: 106.761154\n",
      "Train Epoch: 8 [46080/60000 (77%)]\tLoss: 102.698029\n",
      "Train Epoch: 8 [47360/60000 (79%)]\tLoss: 105.693497\n",
      "Train Epoch: 8 [48640/60000 (81%)]\tLoss: 105.985497\n",
      "Train Epoch: 8 [49920/60000 (83%)]\tLoss: 104.574074\n",
      "Train Epoch: 8 [51200/60000 (85%)]\tLoss: 106.048454\n",
      "Train Epoch: 8 [52480/60000 (87%)]\tLoss: 107.059875\n",
      "Train Epoch: 8 [53760/60000 (90%)]\tLoss: 109.193024\n",
      "Train Epoch: 8 [55040/60000 (92%)]\tLoss: 105.050751\n",
      "Train Epoch: 8 [56320/60000 (94%)]\tLoss: 108.374588\n",
      "Train Epoch: 8 [57600/60000 (96%)]\tLoss: 107.632698\n",
      "Train Epoch: 8 [58880/60000 (98%)]\tLoss: 105.859360\n",
      "====> Epoch: 8 Average loss: 107.1235\n",
      "====> Test set loss: 106.4418\n",
      "Train Epoch: 9 [0/60000 (0%)]\tLoss: 108.966171\n",
      "Train Epoch: 9 [1280/60000 (2%)]\tLoss: 110.048325\n",
      "Train Epoch: 9 [2560/60000 (4%)]\tLoss: 105.516266\n",
      "Train Epoch: 9 [3840/60000 (6%)]\tLoss: 111.503983\n",
      "Train Epoch: 9 [5120/60000 (9%)]\tLoss: 108.238014\n",
      "Train Epoch: 9 [6400/60000 (11%)]\tLoss: 105.653687\n",
      "Train Epoch: 9 [7680/60000 (13%)]\tLoss: 109.413826\n",
      "Train Epoch: 9 [8960/60000 (15%)]\tLoss: 108.930466\n",
      "Train Epoch: 9 [10240/60000 (17%)]\tLoss: 108.397537\n",
      "Train Epoch: 9 [11520/60000 (19%)]\tLoss: 109.781113\n",
      "Train Epoch: 9 [12800/60000 (21%)]\tLoss: 104.643471\n",
      "Train Epoch: 9 [14080/60000 (23%)]\tLoss: 107.087463\n",
      "Train Epoch: 9 [15360/60000 (26%)]\tLoss: 109.663437\n",
      "Train Epoch: 9 [16640/60000 (28%)]\tLoss: 106.789886\n",
      "Train Epoch: 9 [17920/60000 (30%)]\tLoss: 107.948532\n",
      "Train Epoch: 9 [19200/60000 (32%)]\tLoss: 102.518036\n",
      "Train Epoch: 9 [20480/60000 (34%)]\tLoss: 104.895012\n",
      "Train Epoch: 9 [21760/60000 (36%)]\tLoss: 111.627441\n",
      "Train Epoch: 9 [23040/60000 (38%)]\tLoss: 106.619759\n",
      "Train Epoch: 9 [24320/60000 (41%)]\tLoss: 101.878372\n",
      "Train Epoch: 9 [25600/60000 (43%)]\tLoss: 109.109238\n",
      "Train Epoch: 9 [26880/60000 (45%)]\tLoss: 108.014893\n",
      "Train Epoch: 9 [28160/60000 (47%)]\tLoss: 106.875748\n",
      "Train Epoch: 9 [29440/60000 (49%)]\tLoss: 104.649162\n",
      "Train Epoch: 9 [30720/60000 (51%)]\tLoss: 109.301636\n",
      "Train Epoch: 9 [32000/60000 (53%)]\tLoss: 111.715187\n",
      "Train Epoch: 9 [33280/60000 (55%)]\tLoss: 107.886047\n",
      "Train Epoch: 9 [34560/60000 (58%)]\tLoss: 106.527412\n",
      "Train Epoch: 9 [35840/60000 (60%)]\tLoss: 106.261078\n",
      "Train Epoch: 9 [37120/60000 (62%)]\tLoss: 105.550201\n",
      "Train Epoch: 9 [38400/60000 (64%)]\tLoss: 103.308533\n",
      "Train Epoch: 9 [39680/60000 (66%)]\tLoss: 105.401375\n",
      "Train Epoch: 9 [40960/60000 (68%)]\tLoss: 109.298508\n",
      "Train Epoch: 9 [42240/60000 (70%)]\tLoss: 106.445663\n",
      "Train Epoch: 9 [43520/60000 (72%)]\tLoss: 102.687225\n",
      "Train Epoch: 9 [44800/60000 (75%)]\tLoss: 103.630402\n",
      "Train Epoch: 9 [46080/60000 (77%)]\tLoss: 110.898590\n",
      "Train Epoch: 9 [47360/60000 (79%)]\tLoss: 106.520500\n",
      "Train Epoch: 9 [48640/60000 (81%)]\tLoss: 108.130737\n",
      "Train Epoch: 9 [49920/60000 (83%)]\tLoss: 107.943069\n",
      "Train Epoch: 9 [51200/60000 (85%)]\tLoss: 106.273987\n",
      "Train Epoch: 9 [52480/60000 (87%)]\tLoss: 103.861237\n",
      "Train Epoch: 9 [53760/60000 (90%)]\tLoss: 101.042374\n",
      "Train Epoch: 9 [55040/60000 (92%)]\tLoss: 102.077835\n",
      "Train Epoch: 9 [56320/60000 (94%)]\tLoss: 104.360863\n",
      "Train Epoch: 9 [57600/60000 (96%)]\tLoss: 106.404030\n",
      "Train Epoch: 9 [58880/60000 (98%)]\tLoss: 101.811279\n",
      "====> Epoch: 9 Average loss: 106.6244\n",
      "====> Test set loss: 105.7810\n",
      "Train Epoch: 10 [0/60000 (0%)]\tLoss: 105.610443\n",
      "Train Epoch: 10 [1280/60000 (2%)]\tLoss: 103.960693\n",
      "Train Epoch: 10 [2560/60000 (4%)]\tLoss: 110.520874\n",
      "Train Epoch: 10 [3840/60000 (6%)]\tLoss: 108.841141\n",
      "Train Epoch: 10 [5120/60000 (9%)]\tLoss: 107.548325\n",
      "Train Epoch: 10 [6400/60000 (11%)]\tLoss: 111.096054\n",
      "Train Epoch: 10 [7680/60000 (13%)]\tLoss: 107.063446\n",
      "Train Epoch: 10 [8960/60000 (15%)]\tLoss: 104.129494\n",
      "Train Epoch: 10 [10240/60000 (17%)]\tLoss: 107.383888\n",
      "Train Epoch: 10 [11520/60000 (19%)]\tLoss: 105.091736\n",
      "Train Epoch: 10 [12800/60000 (21%)]\tLoss: 106.034531\n",
      "Train Epoch: 10 [14080/60000 (23%)]\tLoss: 103.662704\n",
      "Train Epoch: 10 [15360/60000 (26%)]\tLoss: 110.323196\n",
      "Train Epoch: 10 [16640/60000 (28%)]\tLoss: 106.924675\n",
      "Train Epoch: 10 [17920/60000 (30%)]\tLoss: 104.277954\n",
      "Train Epoch: 10 [19200/60000 (32%)]\tLoss: 105.485260\n",
      "Train Epoch: 10 [20480/60000 (34%)]\tLoss: 105.521912\n",
      "Train Epoch: 10 [21760/60000 (36%)]\tLoss: 104.254440\n",
      "Train Epoch: 10 [23040/60000 (38%)]\tLoss: 108.495293\n",
      "Train Epoch: 10 [24320/60000 (41%)]\tLoss: 104.598412\n",
      "Train Epoch: 10 [25600/60000 (43%)]\tLoss: 102.214706\n",
      "Train Epoch: 10 [26880/60000 (45%)]\tLoss: 105.787109\n",
      "Train Epoch: 10 [28160/60000 (47%)]\tLoss: 106.983864\n",
      "Train Epoch: 10 [29440/60000 (49%)]\tLoss: 105.721764\n",
      "Train Epoch: 10 [30720/60000 (51%)]\tLoss: 107.219543\n",
      "Train Epoch: 10 [32000/60000 (53%)]\tLoss: 109.746094\n",
      "Train Epoch: 10 [33280/60000 (55%)]\tLoss: 103.272308\n",
      "Train Epoch: 10 [34560/60000 (58%)]\tLoss: 107.094254\n",
      "Train Epoch: 10 [35840/60000 (60%)]\tLoss: 108.087059\n",
      "Train Epoch: 10 [37120/60000 (62%)]\tLoss: 106.604698\n",
      "Train Epoch: 10 [38400/60000 (64%)]\tLoss: 109.573204\n",
      "Train Epoch: 10 [39680/60000 (66%)]\tLoss: 104.669708\n",
      "Train Epoch: 10 [40960/60000 (68%)]\tLoss: 105.169456\n",
      "Train Epoch: 10 [42240/60000 (70%)]\tLoss: 104.462662\n",
      "Train Epoch: 10 [43520/60000 (72%)]\tLoss: 103.219894\n",
      "Train Epoch: 10 [44800/60000 (75%)]\tLoss: 108.372055\n",
      "Train Epoch: 10 [46080/60000 (77%)]\tLoss: 105.556030\n",
      "Train Epoch: 10 [47360/60000 (79%)]\tLoss: 103.479088\n",
      "Train Epoch: 10 [48640/60000 (81%)]\tLoss: 107.296158\n",
      "Train Epoch: 10 [49920/60000 (83%)]\tLoss: 107.129837\n",
      "Train Epoch: 10 [51200/60000 (85%)]\tLoss: 101.788994\n",
      "Train Epoch: 10 [52480/60000 (87%)]\tLoss: 105.631973\n",
      "Train Epoch: 10 [53760/60000 (90%)]\tLoss: 106.162102\n",
      "Train Epoch: 10 [55040/60000 (92%)]\tLoss: 102.664093\n",
      "Train Epoch: 10 [56320/60000 (94%)]\tLoss: 103.518196\n",
      "Train Epoch: 10 [57600/60000 (96%)]\tLoss: 106.986435\n",
      "Train Epoch: 10 [58880/60000 (98%)]\tLoss: 105.761192\n",
      "====> Epoch: 10 Average loss: 106.1560\n",
      "====> Test set loss: 105.4753\n"
     ]
    }
   ],
   "source": [
    "path_results = os.path.join(os.getcwd(),'results')\n",
    "if not os.path.exists(path_results):\n",
    "    os.makedirs(path_results)\n",
    "!python vae.py"
   ]
  },
  {
   "cell_type": "markdown",
   "metadata": {},
   "source": [
    "### Visualize the latent space as a 2D plot, coloring each point by its label. Since our VAE is using a 20 dimensional latent space, you can try some of our dimensionality reduction tricks from the previous pset (PCA, PHATE, tSNE) to get a coherent 2 dimensional representation."
   ]
  },
  {
   "cell_type": "code",
   "execution_count": 54,
   "metadata": {},
   "outputs": [
    {
     "data": {
      "text/plain": [
       "<All keys matched successfully>"
      ]
     },
     "execution_count": 54,
     "metadata": {},
     "output_type": "execute_result"
    }
   ],
   "source": [
    "import phate\n",
    "import scprep\n",
    "# from vae import VAE\n",
    "\n",
    "class VAE(nn.Module):\n",
    "    def __init__(self):\n",
    "        super(VAE, self).__init__()\n",
    "\n",
    "        self.fc1 = nn.Linear(784, 400)\n",
    "        self.fc21 = nn.Linear(400, 20)\n",
    "        self.fc22 = nn.Linear(400, 20)\n",
    "        self.fc3 = nn.Linear(20, 400)\n",
    "        self.fc4 = nn.Linear(400, 784)\n",
    "\n",
    "    def encode(self, x):\n",
    "        h1 = F.relu(self.fc1(x))\n",
    "        return self.fc21(h1), self.fc22(h1)\n",
    "\n",
    "    def reparameterize(self, mu, logvar):\n",
    "        std = torch.exp(0.5*logvar)\n",
    "        eps = torch.randn_like(std)\n",
    "        return mu + eps*std\n",
    "\n",
    "    def decode(self, z):\n",
    "        h3 = F.relu(self.fc3(z))\n",
    "        return torch.sigmoid(self.fc4(h3))\n",
    "\n",
    "    def forward(self, x):\n",
    "        mu, logvar = self.encode(x.view(-1, 784))\n",
    "        z = self.reparameterize(mu, logvar)\n",
    "        return self.decode(z), mu, logvar\n",
    "\n",
    "\n",
    "model_vae = VAE().to(device)\n",
    "model_vae.load_state_dict(torch.load(os.path.join(path_save, 'model_vae.pth')))"
   ]
  },
  {
   "cell_type": "code",
   "execution_count": 58,
   "metadata": {},
   "outputs": [
    {
     "name": "stdout",
     "output_type": "stream",
     "text": [
      "Calculating PHATE...\n",
      "  Running PHATE on 1000 observations and 20 variables.\n",
      "  Calculating graph and diffusion operator...\n",
      "    Calculating KNN search...\n",
      "    Calculated KNN search in 0.04 seconds.\n",
      "    Calculating affinities...\n",
      "    Calculated affinities in 0.01 seconds.\n",
      "  Calculated graph and diffusion operator in 0.07 seconds.\n",
      "  Calculating optimal t...\n",
      "    Automatically selected t = 30\n",
      "  Calculated optimal t in 0.39 seconds.\n",
      "  Calculating diffusion potential...\n",
      "  Calculated diffusion potential in 0.11 seconds.\n",
      "  Calculating metric MDS...\n",
      "  Calculated metric MDS in 1.12 seconds.\n",
      "Calculated PHATE in 1.71 seconds.\n"
     ]
    },
    {
     "name": "stderr",
     "output_type": "stream",
     "text": [
      "/home/xiaoranzhang/anaconda3/envs/torch_env/lib/python3.9/site-packages/scprep/plot/utils.py:104: UserWarning: Matplotlib is currently using module://matplotlib_inline.backend_inline, which is a non-GUI backend, so cannot show the figure.\n",
      "  fig.show()\n"
     ]
    },
    {
     "data": {
      "text/plain": [
       "<AxesSubplot:>"
      ]
     },
     "execution_count": 58,
     "metadata": {},
     "output_type": "execute_result"
    },
    {
     "data": {
      "image/png": "[encoded data removed]",
      "text/plain": [
       "<Figure size 1080x360 with 1 Axes>"
      ]
     },
     "metadata": {
      "needs_background": "light"
     },
     "output_type": "display_data"
    }
   ],
   "source": [
    "data_loader_1000_digits = DataLoader(mnist_train, batch_size=1000, shuffle=True)\n",
    "for data, target in data_loader_1000_digits:\n",
    "    with torch.no_grad():\n",
    "        data = data.to(device)\n",
    "        model_input = data.view(-1, 784)\n",
    "        mu, logvar = model_vae.encode(model_input)\n",
    "        embedds = model_vae.reparameterize(mu, logvar).cpu().numpy()\n",
    "        # preds, mu, logvar = model_vae(model_input).cpu().numpy()\n",
    "        labels = target.cpu().numpy()\n",
    "        # inputs = model_input.cpu().numpy()\n",
    "\n",
    "subsample_data_pc, subsample_meta = scprep.select.subsample(embedds, labels, n = 1000)\n",
    "data_phate = phate.PHATE().fit_transform(subsample_data_pc)\n",
    "\n",
    "scprep.plot.scatter2d(data_phate, c=list(subsample_meta), figsize=(15,5), legend_anchor=(1,1))"
   ]
  },
  {
   "cell_type": "markdown",
   "metadata": {},
   "source": [
    "### As before, try interpolating between two different images in the latent space. Run the fabricated embedding through the decoder to generate a never-before seen digit. You may wish to try interpolating between digits of the same class in addition to digits of different classes."
   ]
  },
  {
   "cell_type": "code",
   "execution_count": 60,
   "metadata": {},
   "outputs": [
    {
     "data": {
      "image/png": "[encoded data removed]",
      "text/plain": [
       "<Figure size 1728x288 with 3 Axes>"
      ]
     },
     "metadata": {
      "needs_background": "light"
     },
     "output_type": "display_data"
    }
   ],
   "source": [
    "sample_idx_list, digit_list = [], []\n",
    "for idx in range(labels.shape[0]):\n",
    "    for digit in range(10):\n",
    "        if labels[idx] == digit:\n",
    "            if digit not in digit_list:\n",
    "                sample_idx_list.append(idx)\n",
    "                digit_list.append(digit)\n",
    "\n",
    "digit_idx_1 = 0\n",
    "digit_idx_2 = 1\n",
    "\n",
    "for data, target in data_loader_1000_digits:\n",
    "    with torch.no_grad():\n",
    "        data = data.to(device)\n",
    "        model_input = data.view(-1, 784)\n",
    "        mu_1, logvar_1 = model_vae.encode(model_input[digit_list[digit_idx_1],:])\n",
    "        embedds_1 = model_vae.reparameterize(mu_1, logvar_1).cpu().numpy()\n",
    "\n",
    "        mu_2, logvar_2 = model_vae.encode(model_input[digit_list[digit_idx_2],:])\n",
    "        embedds_2 = model_vae.reparameterize(mu_2, logvar_2).cpu().numpy()\n",
    "\n",
    "        embedds_frab = (embedds_1 + embedds_2)/2\n",
    "        preds = model_vae.decode(torch.from_numpy(embedds_frab).to(device)).cpu().numpy()\n",
    "        break\n",
    "\n",
    "preds_digit = preds\n",
    "digit_1 = model_input[digit_list[digit_idx_1],:].cpu().numpy()\n",
    "digit_2 = model_input[digit_list[digit_idx_2],:].cpu().numpy()\n",
    "\n",
    "fig, axes = plt.subplots(1,3)\n",
    "fig.set_size_inches(24,4)\n",
    "\n",
    "axes[0].imshow(np.reshape(preds_digit, (28,28)), cmap='gray')\n",
    "axes[0].set_xlabel('reconstructed digit from digit 1 and digit 2 using vae')\n",
    "axes[1].imshow(np.reshape(digit_1, (28,28)), cmap='gray')\n",
    "axes[1].set_xlabel('original digit 1')\n",
    "axes[2].imshow(np.reshape(digit_2, (28,28)), cmap='gray')\n",
    "axes[2].set_xlabel('original digit 2')\n",
    "\n",
    "fig.savefig(os.path.join(path_figures,'Section_4_1.pdf'))\n",
    "plt.show()"
   ]
  },
  {
   "cell_type": "markdown",
   "metadata": {},
   "source": [
    "### Question 4.1.1. How does the VAE’s latent space compare to the latent space of your previous autoencoder? Do the generated images have more clarity? Is this most noticeable between or within classes?\n",
    "Answer: The latent space of VAE seems to provide better visualizations compared to the latent space of the previous autoencoder. The generated images have more clarity. It is noticeable between classes.\n",
    "\n",
    "### Question 4.1.2. In what situations would a VAE be more useful than a vanilla autoencoder, and when would you prefer a vanilla autoencoder to a VAE?\n",
    "Answer: VAE is more suitable to employ on larger models. However, when the dataset is small and simple, AE should be tried first as it is a simpler model.\n",
    "\n",
    "### Question 4.1.3. The distance between embeddings in your first autoencoder provided some measure of the similarity between digits. To what extent is this preserved, or improved, by the VAE?\n",
    "Answer: The distance is preserved in a more continuous fashion between classes as it is designed by the reparameterization trick by VAE."
   ]
  },
  {
   "cell_type": "markdown",
   "metadata": {},
   "source": [
    "# 4.2 GANs\n",
    "### Section 1-4, please check the code in GAN.py"
   ]
  },
  {
   "cell_type": "code",
   "execution_count": 82,
   "metadata": {},
   "outputs": [
    {
     "name": "stdout",
     "output_type": "stream",
     "text": [
      " EPOCH 0. Progress: 0.0%. \n",
      " Train gen loss: 0.33152133226394653. Train dis loss: 0.6595855355262756\n",
      " EPOCH 10. Progress: 10.0%. \n",
      " Train gen loss: 0.733722984790802. Train dis loss: 0.4779012203216553\n",
      " EPOCH 20. Progress: 20.0%. \n",
      " Train gen loss: 0.5379916429519653. Train dis loss: 0.5625685453414917\n",
      " EPOCH 30. Progress: 30.0%. \n",
      " Train gen loss: 0.373367041349411. Train dis loss: 0.7363168001174927\n",
      " EPOCH 40. Progress: 40.0%. \n",
      " Train gen loss: 0.3073600232601166. Train dis loss: 0.6076046824455261\n",
      " EPOCH 50. Progress: 50.0%. \n",
      " Train gen loss: 1.5791900157928467. Train dis loss: 1.3175315856933594\n",
      " EPOCH 60. Progress: 60.0%. \n",
      " Train gen loss: 0.7346891760826111. Train dis loss: 0.6737794280052185\n",
      " EPOCH 70. Progress: 70.0%. \n",
      " Train gen loss: 0.787720263004303. Train dis loss: 0.5112329721450806\n",
      " EPOCH 80. Progress: 80.0%. \n",
      " Train gen loss: 0.7522504925727844. Train dis loss: 0.6918277740478516\n",
      " EPOCH 90. Progress: 90.0%. \n",
      " Train gen loss: 0.6981362700462341. Train dis loss: 0.7891863584518433\n"
     ]
    }
   ],
   "source": [
    "!python GAN.py"
   ]
  },
  {
   "cell_type": "markdown",
   "metadata": {},
   "source": [
    "### Using your best performing classifier from Part 2, classify these samples."
   ]
  },
  {
   "cell_type": "code",
   "execution_count": 18,
   "metadata": {},
   "outputs": [],
   "source": [
    "class Generator(nn.Module):\n",
    "    def __init__(self, nz):\n",
    "        super(Generator, self).__init__()\n",
    "        self.nz = nz # the dimension of the random noise used to seed the Generator\n",
    "        self.main = nn.Sequential( # nn.sequential is a handy way of combining multiple layers.\n",
    "            nn.Linear(self.nz, 256),\n",
    "            nn.LeakyReLU(0.2),\n",
    "            nn.Linear(256, 512),\n",
    "            nn.LeakyReLU(0.2),\n",
    "            nn.Linear(512, 1024),\n",
    "            nn.LeakyReLU(0.2),\n",
    "            nn.Linear(1024, 784),\n",
    "            nn.Tanh(),\n",
    "        )\n",
    "    def forward(self, x):\n",
    "        return self.main(x).view(-1, 1, 28, 28)\n",
    "\n",
    "nz = 25\n",
    "numOfSample = 1000\n",
    "\n",
    "model_gen = Generator(nz).to(device)\n",
    "model_gen.load_state_dict(torch.load(os.path.join(path_save, 'model_gen.pth')))\n",
    "noise = torch.randn((numOfSample, nz)).to('cuda')\n",
    "noise = torch.clamp(noise, 1e-8, 1)\n",
    "generated_img = model_gen(noise).detach()"
   ]
  },
  {
   "cell_type": "code",
   "execution_count": 14,
   "metadata": {},
   "outputs": [
    {
     "name": "stderr",
     "output_type": "stream",
     "text": [
      "/tmp/ipykernel_20559/969223363.py:16: UserWarning: Implicit dimension choice for softmax has been deprecated. Change the call to include dim=X as an argument.\n",
      "  layer2_out = softmax(relu(torch.matmul(layer1_out, self.W2) + self.b2))\n"
     ]
    }
   ],
   "source": [
    "class FeedForwardNet(nn.Module):\n",
    "    \"\"\" Simple feed forward network with one hidden layer.\"\"\"\n",
    "    def __init__(self): # initialize the model\n",
    "        super(FeedForwardNet, self).__init__() # call for the parent class to initialize\n",
    "        self.W1 = nn.Parameter(nn.init.uniform_(torch.empty((784, 128)), a=-np.sqrt(1/128), b=np.sqrt(1/128)))\n",
    "        self.b1 = nn.Parameter(nn.init.uniform_(torch.empty((1, 128)), a=-np.sqrt(1/128), b=np.sqrt(1/128)))\n",
    "\n",
    "        self.W2 = nn.Parameter(nn.init.uniform_(torch.empty((128, 10)), a=-np.sqrt(1/10), b=np.sqrt(1/10)))\n",
    "        self.b2 = nn.Parameter(nn.init.uniform_(torch.empty((1, 10)), a=-np.sqrt(1/10), b=np.sqrt(1/10)))\n",
    "\n",
    "        # Make sure to add another weight and bias vector to represent the hidden layer.\n",
    "\n",
    "    def forward(self, x):\n",
    "        # put the logic here.\n",
    "        layer1_out = relu(torch.matmul(x, self.W1) + self.b1)\n",
    "        layer2_out = softmax(relu(torch.matmul(layer1_out, self.W2) + self.b2))\n",
    "\n",
    "        predictions = layer2_out\n",
    "\n",
    "        return predictions\n",
    "\n",
    "model_FCN = FeedForwardNet().to(device)\n",
    "model_FCN.load_state_dict(torch.load(os.path.join(path_save, 'model_relu_bs_128_lr_0.5_epoch_50.pth')))\n",
    "\n",
    "prediction_onehot = model_FCN(generated_img.to(device).view(-1, 784))\n",
    "prediction = torch.argmax(prediction_onehot, dim=1)"
   ]
  },
  {
   "cell_type": "code",
   "execution_count": 17,
   "metadata": {},
   "outputs": [
    {
     "data": {
      "image/png": "[encoded data removed]",
      "text/plain": [
       "<Figure size 1728x288 with 5 Axes>"
      ]
     },
     "metadata": {
      "needs_background": "light"
     },
     "output_type": "display_data"
    }
   ],
   "source": [
    "fig, axes = plt.subplots(1,5)\n",
    "fig.set_size_inches(24,4)\n",
    "\n",
    "for i in range(5):\n",
    "    axes[i].imshow(np.reshape(generated_img[i].cpu().numpy(), (28, 28)), cmap='gray')\n",
    "    axes[i].set_xlabel('Classified as digit {} by feed-forward net'.format(str(prediction.cpu().numpy()[i])))\n",
    "\n",
    "fig.savefig(os.path.join(path_figures,'Section_4_2.pdf'))\n",
    "plt.show()"
   ]
  },
  {
   "cell_type": "markdown",
   "metadata": {},
   "source": [
    "### Question 4.2.1. Which generates more realistic images: your GAN, or your VAE? Why do you think this is?\n",
    "Answer: VAE generates more realistic images compared to GAN. This might due to that VAE learns from handwritten digit but the GAN learns from the noise.\n",
    "\n",
    "### Does your GAN appear to generate all digits in equal number, or has it specialized in a smaller number of digits? If so, why might this be?\n",
    "Answer: The GAN does not appear to generate all digits in equal number. It seems to be specialized in a smaller number of digits. It seems to generate digits such as 0 as a lot of numbers (9, 6, 8) has curves."
   ]
  },
  {
   "cell_type": "markdown",
   "metadata": {},
   "source": [
    "# 5 Information Theory\n",
    "## 5.1 Simple Distribution\n",
    "### Compute the Kullback-Leibler (KL) Divergence of the two distributions."
   ]
  },
  {
   "cell_type": "code",
   "execution_count": 6,
   "metadata": {},
   "outputs": [],
   "source": [
    "mean = [0, 0, 0]\n",
    "cov = [[1, 0, 0], [0, 1, 0], [0, 0, 1]]\n",
    "numOfSample = 1000\n",
    "X_normal = np.random.multivariate_normal(mean, cov, numOfSample)\n",
    "X_uniform = np.random.uniform(0, 1, (numOfSample,3))"
   ]
  },
  {
   "cell_type": "code",
   "execution_count": 7,
   "metadata": {},
   "outputs": [],
   "source": [
    "from scipy.stats import entropy\n",
    "from sklearn.neighbors import KernelDensity\n",
    "from time import perf_counter\n",
    "\n",
    "kde_normal = KernelDensity(kernel='gaussian').fit(X_normal)\n",
    "kde_uniform = KernelDensity(kernel='gaussian').fit(X_uniform)\n",
    "\n",
    "prob_normal = np.exp(kde_normal.score_samples(X_normal))\n",
    "prob_uniform = np.exp(kde_uniform.score_samples(X_uniform))"
   ]
  },
  {
   "cell_type": "code",
   "execution_count": 8,
   "metadata": {},
   "outputs": [
    {
     "name": "stdout",
     "output_type": "stream",
     "text": [
      "KL normal to uniform: 0.1044634109528535. Time elapsed: 0.0014169570058584213\n",
      "KL uniform to normal: 0.1365064541750548. Time elapsed: 0.0003813920193351805\n"
     ]
    }
   ],
   "source": [
    "def func_KL_div(prob_distr1, prob_distr2):\n",
    "\n",
    "    start_time = perf_counter()\n",
    "    KL_div = entropy(prob_distr1, prob_distr2)\n",
    "    end_time = perf_counter()\n",
    "\n",
    "    return KL_div, end_time-start_time\n",
    "\n",
    "print('KL normal to uniform: {}. Time elapsed: {}'.format(func_KL_div(prob_normal, prob_uniform)[0], func_KL_div(prob_normal, prob_uniform)[1]))\n",
    "print('KL uniform to normal: {}. Time elapsed: {}'.format(func_KL_div(prob_uniform, prob_normal)[0], func_KL_div(prob_uniform, prob_normal)[1]))"
   ]
  },
  {
   "cell_type": "markdown",
   "metadata": {},
   "source": [
    "### Compute the Earth Mover’s Distance (EMD) between the two distributions."
   ]
  },
  {
   "cell_type": "code",
   "execution_count": 9,
   "metadata": {},
   "outputs": [
    {
     "name": "stdout",
     "output_type": "stream",
     "text": [
      "EMD distance: 2.1257755820697755. Time elapsed: 0.08436427998822182\n"
     ]
    }
   ],
   "source": [
    "from scipy.spatial import distance_matrix\n",
    "from pyemd import emd\n",
    "\n",
    "def func_EMD(prob_distr1, prob_distr2):\n",
    "    if prob_distr1.ndim == 1 and prob_distr2.ndim == 1:\n",
    "        dist_mat = distance_matrix(np.expand_dims(prob_distr1, 1), np.expand_dims(prob_distr2, 1))\n",
    "    else:\n",
    "        dist_mat = distance_matrix(prob_distr1, prob_distr2)\n",
    "\n",
    "    start_time = perf_counter()\n",
    "    emd_dist = emd(prob_distr1, prob_distr2, dist_mat)\n",
    "    end_time = perf_counter()\n",
    "\n",
    "    return emd_dist, end_time-start_time\n",
    "\n",
    "print('EMD distance: {}. Time elapsed: {}'.format(func_EMD(prob_normal, prob_uniform)[0], func_EMD(prob_normal, prob_uniform)[1]))"
   ]
  },
  {
   "cell_type": "markdown",
   "metadata": {},
   "source": [
    "### Compute the Maximum Mean Discrepancy (MMD) between the two distributions."
   ]
  },
  {
   "cell_type": "code",
   "execution_count": 26,
   "metadata": {},
   "outputs": [],
   "source": [
    "def mmd(X,Y, kernel_fn):\n",
    "    \"\"\"\n",
    "    Implementation of Maximum Mean Discrepancy.\n",
    "    :param X: An n x 1 numpy vector containing the samples from distribution 1.\n",
    "    :param Y: An n x 1 numpy vector containing the samples from distribution 2.\n",
    "    :param kernel_fn: supply the kernel function to use.\n",
    "    :return: the maximum mean discrepancy:\n",
    "    MMD(X,Y) = Expected value of k(X,X) + Expected value of k(Y,Y) - Expected value of k(X,Y)\n",
    "    where k is a kernel function\n",
    "    \"\"\"\n",
    "    mmd = np.mean(kernel_fn(X, X)) + np.mean(kernel_fn(Y, Y)) - np.mean(kernel_fn(X, Y))\n",
    "    return mmd\n",
    "\n",
    "\n",
    "def kernel(A, B):\n",
    "    \"\"\"\n",
    "    A gaussian kernel on two arrays.\n",
    "    :param A: An n x d numpy matrix containing the samples from distribution 1\n",
    "    :param B: An n x d numpy matrix containing the samples from distribution 2.\n",
    "    :return K:  An n x n numpy matrix k, in which k_{i,j} = e^{-||A_i - B_j||^2/(2*sigma^2)}\n",
    "    \"\"\"\n",
    "    sigma = 1\n",
    "    K = np.exp(-np.abs(A-B)**2 / 2*sigma**2 )\n",
    "    return K"
   ]
  },
  {
   "cell_type": "code",
   "execution_count": 27,
   "metadata": {},
   "outputs": [
    {
     "name": "stdout",
     "output_type": "stream",
     "text": [
      "MMD distance: 1.3476897524249987. Time elapsed: 0.0004335150006227195\n"
     ]
    }
   ],
   "source": [
    "def func_MMD(X_distr1, X_distr2):\n",
    "    start_time = perf_counter()\n",
    "    mmd_dist = mmd(X_distr1, X_distr2, kernel)\n",
    "    end_time = perf_counter()\n",
    "\n",
    "    return mmd_dist, end_time-start_time\n",
    "\n",
    "print('MMD distance: {}. Time elapsed: {}'.format(func_MMD(X_normal, X_uniform)[0], func_MMD(X_normal, X_uniform)[1]))"
   ]
  },
  {
   "cell_type": "markdown",
   "metadata": {},
   "source": [
    "### Question 5.1.1. Based on the above measures alone, which divergence seems most accurate?\n",
    "Answer: I think MMD distance seems most accurate and KL divergence is small and EMD seems to be way too large."
   ]
  },
  {
   "cell_type": "markdown",
   "metadata": {},
   "source": [
    "## 5.2 MNIST Sample Distributions\n",
    "### Compute the Kullback-Leibler (KL) Divergence of the two distributions. "
   ]
  },
  {
   "cell_type": "code",
   "execution_count": 12,
   "metadata": {},
   "outputs": [
    {
     "name": "stdout",
     "output_type": "stream",
     "text": [
      "KL subset 1 to subset 2: 0.6715729293338801. Time elapsed: 9.958405280485749e-05\n",
      "KL subset 2 to subset 1: 0.6040136198016678. Time elapsed: 0.001682029978837818\n"
     ]
    }
   ],
   "source": [
    "from sklearn.decomposition import PCA\n",
    "\n",
    "indices = torch.randperm(len(mnist_test))[:2000]\n",
    "\n",
    "subset1 = torch.utils.data.Subset(mnist_test, indices[:1000])\n",
    "subset2 = torch.utils.data.Subset(mnist_test, indices[1000:])\n",
    "\n",
    "subset1_img_list, subset2_img_list = [], []\n",
    "for img, lab in subset1:\n",
    "    subset1_img_list.append(img.view(-1, 784).cpu().numpy())\n",
    "\n",
    "for img, lab in subset2:\n",
    "    subset2_img_list.append(img.view(-1, 784).cpu().numpy())\n",
    "\n",
    "subset1_img_arr = np.concatenate(subset1_img_list, axis=0)\n",
    "subset2_img_arr = np.concatenate(subset2_img_list, axis=0)\n",
    "\n",
    "PCA_subset1 = PCA(n_components=8)\n",
    "PCA_subset2 = PCA(n_components=8)\n",
    "\n",
    "subset1_img_arr_PCA = PCA_subset1.fit_transform(subset1_img_arr)\n",
    "subset2_img_arr_PCA = PCA_subset2.fit_transform(subset2_img_arr)\n",
    "\n",
    "kde_subset1 = KernelDensity(kernel='gaussian').fit(subset1_img_arr_PCA)\n",
    "kde_subset2 = KernelDensity(kernel='gaussian').fit(subset2_img_arr_PCA)\n",
    "\n",
    "prob_subset1 = np.exp(kde_subset1.score_samples(subset1_img_arr_PCA))\n",
    "prob_subset2 = np.exp(kde_subset2.score_samples(subset2_img_arr_PCA))\n",
    "\n",
    "print('KL subset 1 to subset 2: {}. Time elapsed: {}'.format(func_KL_div(prob_subset1, prob_subset2)[0], func_KL_div(prob_subset1, prob_subset2)[1]))\n",
    "print('KL subset 2 to subset 1: {}. Time elapsed: {}'.format(func_KL_div(prob_subset2, prob_subset1)[0], func_KL_div(prob_subset2, prob_subset1)[1]))"
   ]
  },
  {
   "cell_type": "markdown",
   "metadata": {},
   "source": [
    "### Compute the Earth Mover’s Distance (EMD) between the two distributions."
   ]
  },
  {
   "cell_type": "code",
   "execution_count": 22,
   "metadata": {},
   "outputs": [
    {
     "name": "stdout",
     "output_type": "stream",
     "text": [
      "EMD distance: 4.286459269002608e-09. Time elapsed: 102.3937361909775\n"
     ]
    }
   ],
   "source": [
    "print('EMD distance: {}. Time elapsed: {}'.format(func_EMD(prob_subset1, prob_subset2)[0], func_EMD(prob_subset1, prob_subset2)[1]))"
   ]
  },
  {
   "cell_type": "markdown",
   "metadata": {},
   "source": [
    "### Compute the Maximum Mean Discrepancy (MMD) between the two distributions."
   ]
  },
  {
   "cell_type": "code",
   "execution_count": 57,
   "metadata": {},
   "outputs": [
    {
     "name": "stdout",
     "output_type": "stream",
     "text": [
      "MMD distance: 1.6058905124664307. Time elapsed: 0.0007556750206276774\n"
     ]
    }
   ],
   "source": [
    "print('MMD distance: {}. Time elapsed: {}'.format(func_MMD(subset1_img_arr_PCA, subset2_img_arr_PCA)[0], func_MMD(subset1_img_arr_PCA, subset2_img_arr_PCA)[1]))"
   ]
  },
  {
   "cell_type": "markdown",
   "metadata": {},
   "source": [
    "## 5.3 The GAN Distribution\n",
    "### Compute the Kullback-Leibler (KL) Divergence of the two distributions."
   ]
  },
  {
   "cell_type": "code",
   "execution_count": 19,
   "metadata": {},
   "outputs": [
    {
     "name": "stdout",
     "output_type": "stream",
     "text": [
      "KL GAN to subset 2: 0.32365281083383224. Time elapsed: 8.877599611878395e-05\n",
      "KL subset 2 to GAN: 0.3972692551239079. Time elapsed: 0.0003860080032609403\n"
     ]
    }
   ],
   "source": [
    "GAN_subset = generated_img.to(device).view(-1, 784).cpu().numpy()\n",
    "\n",
    "PCA_GAN_subset = PCA(n_components=8)\n",
    "\n",
    "GAN_subset_PCA = PCA_GAN_subset.fit_transform(GAN_subset)\n",
    "\n",
    "kde_GAN_subset = KernelDensity(kernel='gaussian').fit(GAN_subset_PCA)\n",
    "\n",
    "prob_GAN_subset = np.exp(kde_GAN_subset.score_samples(GAN_subset_PCA))\n",
    "\n",
    "print('KL GAN to subset 2: {}. Time elapsed: {}'.format(func_KL_div(prob_GAN_subset, prob_subset2)[0], func_KL_div(prob_GAN_subset, prob_subset2)[1]))\n",
    "print('KL subset 2 to GAN: {}. Time elapsed: {}'.format(func_KL_div(prob_subset2, prob_GAN_subset)[0], func_KL_div(prob_subset2, prob_GAN_subset)[1]))"
   ]
  },
  {
   "cell_type": "markdown",
   "metadata": {},
   "source": [
    "### Compute the Earth Mover’s Distance (EMD) between the two distributions."
   ]
  },
  {
   "cell_type": "code",
   "execution_count": 21,
   "metadata": {},
   "outputs": [
    {
     "name": "stdout",
     "output_type": "stream",
     "text": [
      "EMD distance: 5.2296565691887656e-05. Time elapsed: 0.08263151004211977\n"
     ]
    }
   ],
   "source": [
    "print('EMD distance: {}. Time elapsed: {}'.format(func_EMD(prob_GAN_subset, prob_subset2)[0], func_EMD(prob_GAN_subset, prob_subset2)[1]))"
   ]
  },
  {
   "cell_type": "markdown",
   "metadata": {},
   "source": [
    "### Compute the Maximum Mean Discrepancy (MMD) between the two distributions."
   ]
  },
  {
   "cell_type": "code",
   "execution_count": 20,
   "metadata": {},
   "outputs": [
    {
     "name": "stdout",
     "output_type": "stream",
     "text": [
      "MMD distance: 1.503627061843872. Time elapsed: 0.003175096004270017\n"
     ]
    }
   ],
   "source": [
    "print('MMD distance: {}. Time elapsed: {}'.format(func_MMD(GAN_subset_PCA, subset2_img_arr_PCA)[0], func_MMD(GAN_subset_PCA, subset2_img_arr_PCA)[1]))"
   ]
  },
  {
   "cell_type": "markdown",
   "metadata": {},
   "source": [
    "### Question 5.3.1. Which divergence or distance showed the greatest discrepancy between the comparison between real MNIST data and the comparison with the GAN?\n",
    "Answer: MMD shows the greatest discrepancy between the real MNISt samples and the generated fake samples from GAN.\n",
    "\n",
    "### Question 5.3.2. Which of these information measures would you recommend for judging a GAN’s output? Why?\n",
    "Answer: I recommend using EMD to judge a GAN's output. EMD is the only metric that shows larger discrepancy compared to the MNIST distribution example. As the GAN's fake output is visually worse than the real data, EMD seems to capture such charateristics.\n",
    "\n",
    "### Question 5.3.3. How do the runtimes of these measures compare?\n",
    "Answer: It seems that the EMD takes the longest time as a distance matrix needs to be computed. The EMD computation of two distinct MNIST data takes very long. KL divergence seems to be the fastest metric and its runtime is comparable to MMD.\n"
   ]
  }
 ],
 "metadata": {
  "interpreter": {
   "hash": "6c2ebf650a57c64817f42812618441396e211e53d21af23369d2d277d99c517c"
  },
  "kernelspec": {
   "display_name": "Python 3.9.7 64-bit ('py_std': conda)",
   "name": "python3"
  },
  "language_info": {
   "codemirror_mode": {
    "name": "ipython",
    "version": 3
   },
   "file_extension": ".py",
   "mimetype": "text/x-python",
   "name": "python",
   "nbconvert_exporter": "python",
   "pygments_lexer": "ipython3",
   "version": "3.9.7"
  },
  "orig_nbformat": 4
 },
 "nbformat": 4,
 "nbformat_minor": 2
}
