{
 "cells": [
  {
   "cell_type": "code",
   "execution_count": null,
   "metadata": {},
   "outputs": [],
   "source": [
    "import numpy as np\n",
    "\n",
    "def func_NAND(X1, X2):\n",
    "    if X1 and X2 == 1:\n",
    "        return 0\n",
    "    else:\n",
    "        return 1\n",
    "\n",
    "\n"
   ]
  }
 ],
 "metadata": {
  "interpreter": {
   "hash": "9a0cf29e4a75a60289a0fcb6961b375086c26aea3959eff9294705809fb3b982"
  },
  "kernelspec": {
   "display_name": "Python 3.7.5 64-bit ('Xiaoran': conda)",
   "name": "python3"
  },
  "language_info": {
   "name": "python",
   "version": "3.7.5"
  },
  "orig_nbformat": 4
 },
 "nbformat": 4,
 "nbformat_minor": 2
}
