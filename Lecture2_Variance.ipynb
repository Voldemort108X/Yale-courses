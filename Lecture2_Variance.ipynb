{
 "cells": [
  {
   "cell_type": "code",
   "execution_count": 1,
   "source": [
    "import numpy as np\n",
    "import matplotlib.pyplot as plt\n",
    "%matplotlib inline\n",
    "\n",
    "# Exercise 1\n",
    "x = np.random.rand(10,1)\n",
    "y = np.random.rand(10,1)\n",
    "\n",
    "def func_computeCovariance(x, y):\n",
    "    numOfSample = x.shape[0]\n",
    "    E_x = x/numOfSample\n",
    "    E_y = y/numOfSample\n",
    "\n",
    "    return ((x-E_x).dot(y-E_y))/numOfSample\n",
    "\n",
    "x_axis = np.arange(0,10,1)\n",
    "plt.figure()\n",
    "plt.plot(x_axis, x)\n",
    "plt.plot(x_axis, y)\n",
    "plt.show()\n",
    "\n"
   ],
   "outputs": [
    {
     "output_type": "stream",
     "name": "stderr",
     "text": [
      "/var/folders/dd/np1hbp0x3n1342fh0l6b44bc0000gn/T/ipykernel_50467/1536566507.py:19: UserWarning: Matplotlib is currently using agg, which is a non-GUI backend, so cannot show the figure.\n",
      "  plt.show()\n"
     ]
    }
   ],
   "metadata": {}
  }
 ],
 "metadata": {
  "orig_nbformat": 4,
  "language_info": {
   "name": "python",
   "version": "3.9.6",
   "mimetype": "text/x-python",
   "codemirror_mode": {
    "name": "ipython",
    "version": 3
   },
   "pygments_lexer": "ipython3",
   "nbconvert_exporter": "python",
   "file_extension": ".py"
  },
  "kernelspec": {
   "name": "python3",
   "display_name": "Python 3.9.6 64-bit (conda)"
  },
  "interpreter": {
   "hash": "d9b362a6ad1dc320d54593c5668561cb3646d9e3bc480ec2724233a0f90339a1"
  }
 },
 "nbformat": 4,
 "nbformat_minor": 2
}